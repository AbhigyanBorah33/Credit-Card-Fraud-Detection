{
 "cells": [
  {
   "cell_type": "markdown",
   "id": "926a9d28",
   "metadata": {},
   "source": [
    "## AND, OR, XOR, NAND, NOR, XNOR using creditcard.csv"
   ]
  },
  {
   "cell_type": "markdown",
   "id": "65f7a684",
   "metadata": {},
   "source": [
    "### Load Packages"
   ]
  },
  {
   "cell_type": "code",
   "execution_count": 4,
   "id": "4493a9b8",
   "metadata": {},
   "outputs": [],
   "source": [
    "import pandas as pd\n",
    "import numpy as np\n",
    "import seaborn as sns\n",
    "from sklearn.model_selection import KFold\n",
    "from sklearn.metrics import accuracy_score,confusion_matrix,classification_report,roc_auc_score\n",
    "from sklearn.metrics import make_scorer, accuracy_score, precision_score, recall_score, f1_score"
   ]
  },
  {
   "cell_type": "markdown",
   "id": "c4f5d93b",
   "metadata": {},
   "source": [
    "### Read Data"
   ]
  },
  {
   "cell_type": "code",
   "execution_count": 5,
   "id": "a6181fb5",
   "metadata": {},
   "outputs": [],
   "source": [
    "df = pd.read_csv(\"creditcard.csv\")"
   ]
  },
  {
   "cell_type": "markdown",
   "id": "a2cf5e6b",
   "metadata": {},
   "source": [
    "### Glimse of data"
   ]
  },
  {
   "cell_type": "code",
   "execution_count": 6,
   "id": "e447ce34",
   "metadata": {},
   "outputs": [
    {
     "data": {
      "text/html": [
       "<div>\n",
       "<style scoped>\n",
       "    .dataframe tbody tr th:only-of-type {\n",
       "        vertical-align: middle;\n",
       "    }\n",
       "\n",
       "    .dataframe tbody tr th {\n",
       "        vertical-align: top;\n",
       "    }\n",
       "\n",
       "    .dataframe thead th {\n",
       "        text-align: right;\n",
       "    }\n",
       "</style>\n",
       "<table border=\"1\" class=\"dataframe\">\n",
       "  <thead>\n",
       "    <tr style=\"text-align: right;\">\n",
       "      <th></th>\n",
       "      <th>Time</th>\n",
       "      <th>V1</th>\n",
       "      <th>V2</th>\n",
       "      <th>V3</th>\n",
       "      <th>V4</th>\n",
       "      <th>V5</th>\n",
       "      <th>V6</th>\n",
       "      <th>V7</th>\n",
       "      <th>V8</th>\n",
       "      <th>V9</th>\n",
       "      <th>...</th>\n",
       "      <th>V21</th>\n",
       "      <th>V22</th>\n",
       "      <th>V23</th>\n",
       "      <th>V24</th>\n",
       "      <th>V25</th>\n",
       "      <th>V26</th>\n",
       "      <th>V27</th>\n",
       "      <th>V28</th>\n",
       "      <th>Amount</th>\n",
       "      <th>Class</th>\n",
       "    </tr>\n",
       "  </thead>\n",
       "  <tbody>\n",
       "    <tr>\n",
       "      <th>0</th>\n",
       "      <td>0.0</td>\n",
       "      <td>-1.359807</td>\n",
       "      <td>-0.072781</td>\n",
       "      <td>2.536347</td>\n",
       "      <td>1.378155</td>\n",
       "      <td>-0.338321</td>\n",
       "      <td>0.462388</td>\n",
       "      <td>0.239599</td>\n",
       "      <td>0.098698</td>\n",
       "      <td>0.363787</td>\n",
       "      <td>...</td>\n",
       "      <td>-0.018307</td>\n",
       "      <td>0.277838</td>\n",
       "      <td>-0.110474</td>\n",
       "      <td>0.066928</td>\n",
       "      <td>0.128539</td>\n",
       "      <td>-0.189115</td>\n",
       "      <td>0.133558</td>\n",
       "      <td>-0.021053</td>\n",
       "      <td>149.62</td>\n",
       "      <td>0</td>\n",
       "    </tr>\n",
       "    <tr>\n",
       "      <th>1</th>\n",
       "      <td>0.0</td>\n",
       "      <td>1.191857</td>\n",
       "      <td>0.266151</td>\n",
       "      <td>0.166480</td>\n",
       "      <td>0.448154</td>\n",
       "      <td>0.060018</td>\n",
       "      <td>-0.082361</td>\n",
       "      <td>-0.078803</td>\n",
       "      <td>0.085102</td>\n",
       "      <td>-0.255425</td>\n",
       "      <td>...</td>\n",
       "      <td>-0.225775</td>\n",
       "      <td>-0.638672</td>\n",
       "      <td>0.101288</td>\n",
       "      <td>-0.339846</td>\n",
       "      <td>0.167170</td>\n",
       "      <td>0.125895</td>\n",
       "      <td>-0.008983</td>\n",
       "      <td>0.014724</td>\n",
       "      <td>2.69</td>\n",
       "      <td>0</td>\n",
       "    </tr>\n",
       "    <tr>\n",
       "      <th>2</th>\n",
       "      <td>1.0</td>\n",
       "      <td>-1.358354</td>\n",
       "      <td>-1.340163</td>\n",
       "      <td>1.773209</td>\n",
       "      <td>0.379780</td>\n",
       "      <td>-0.503198</td>\n",
       "      <td>1.800499</td>\n",
       "      <td>0.791461</td>\n",
       "      <td>0.247676</td>\n",
       "      <td>-1.514654</td>\n",
       "      <td>...</td>\n",
       "      <td>0.247998</td>\n",
       "      <td>0.771679</td>\n",
       "      <td>0.909412</td>\n",
       "      <td>-0.689281</td>\n",
       "      <td>-0.327642</td>\n",
       "      <td>-0.139097</td>\n",
       "      <td>-0.055353</td>\n",
       "      <td>-0.059752</td>\n",
       "      <td>378.66</td>\n",
       "      <td>0</td>\n",
       "    </tr>\n",
       "    <tr>\n",
       "      <th>3</th>\n",
       "      <td>1.0</td>\n",
       "      <td>-0.966272</td>\n",
       "      <td>-0.185226</td>\n",
       "      <td>1.792993</td>\n",
       "      <td>-0.863291</td>\n",
       "      <td>-0.010309</td>\n",
       "      <td>1.247203</td>\n",
       "      <td>0.237609</td>\n",
       "      <td>0.377436</td>\n",
       "      <td>-1.387024</td>\n",
       "      <td>...</td>\n",
       "      <td>-0.108300</td>\n",
       "      <td>0.005274</td>\n",
       "      <td>-0.190321</td>\n",
       "      <td>-1.175575</td>\n",
       "      <td>0.647376</td>\n",
       "      <td>-0.221929</td>\n",
       "      <td>0.062723</td>\n",
       "      <td>0.061458</td>\n",
       "      <td>123.50</td>\n",
       "      <td>0</td>\n",
       "    </tr>\n",
       "    <tr>\n",
       "      <th>4</th>\n",
       "      <td>2.0</td>\n",
       "      <td>-1.158233</td>\n",
       "      <td>0.877737</td>\n",
       "      <td>1.548718</td>\n",
       "      <td>0.403034</td>\n",
       "      <td>-0.407193</td>\n",
       "      <td>0.095921</td>\n",
       "      <td>0.592941</td>\n",
       "      <td>-0.270533</td>\n",
       "      <td>0.817739</td>\n",
       "      <td>...</td>\n",
       "      <td>-0.009431</td>\n",
       "      <td>0.798278</td>\n",
       "      <td>-0.137458</td>\n",
       "      <td>0.141267</td>\n",
       "      <td>-0.206010</td>\n",
       "      <td>0.502292</td>\n",
       "      <td>0.219422</td>\n",
       "      <td>0.215153</td>\n",
       "      <td>69.99</td>\n",
       "      <td>0</td>\n",
       "    </tr>\n",
       "  </tbody>\n",
       "</table>\n",
       "<p>5 rows × 31 columns</p>\n",
       "</div>"
      ],
      "text/plain": [
       "   Time        V1        V2        V3        V4        V5        V6        V7  \\\n",
       "0   0.0 -1.359807 -0.072781  2.536347  1.378155 -0.338321  0.462388  0.239599   \n",
       "1   0.0  1.191857  0.266151  0.166480  0.448154  0.060018 -0.082361 -0.078803   \n",
       "2   1.0 -1.358354 -1.340163  1.773209  0.379780 -0.503198  1.800499  0.791461   \n",
       "3   1.0 -0.966272 -0.185226  1.792993 -0.863291 -0.010309  1.247203  0.237609   \n",
       "4   2.0 -1.158233  0.877737  1.548718  0.403034 -0.407193  0.095921  0.592941   \n",
       "\n",
       "         V8        V9  ...       V21       V22       V23       V24       V25  \\\n",
       "0  0.098698  0.363787  ... -0.018307  0.277838 -0.110474  0.066928  0.128539   \n",
       "1  0.085102 -0.255425  ... -0.225775 -0.638672  0.101288 -0.339846  0.167170   \n",
       "2  0.247676 -1.514654  ...  0.247998  0.771679  0.909412 -0.689281 -0.327642   \n",
       "3  0.377436 -1.387024  ... -0.108300  0.005274 -0.190321 -1.175575  0.647376   \n",
       "4 -0.270533  0.817739  ... -0.009431  0.798278 -0.137458  0.141267 -0.206010   \n",
       "\n",
       "        V26       V27       V28  Amount  Class  \n",
       "0 -0.189115  0.133558 -0.021053  149.62      0  \n",
       "1  0.125895 -0.008983  0.014724    2.69      0  \n",
       "2 -0.139097 -0.055353 -0.059752  378.66      0  \n",
       "3 -0.221929  0.062723  0.061458  123.50      0  \n",
       "4  0.502292  0.219422  0.215153   69.99      0  \n",
       "\n",
       "[5 rows x 31 columns]"
      ]
     },
     "execution_count": 6,
     "metadata": {},
     "output_type": "execute_result"
    }
   ],
   "source": [
    "df.head()"
   ]
  },
  {
   "cell_type": "code",
   "execution_count": 7,
   "id": "a0be4eb6",
   "metadata": {},
   "outputs": [
    {
     "data": {
      "text/plain": [
       "(284807, 31)"
      ]
     },
     "execution_count": 7,
     "metadata": {},
     "output_type": "execute_result"
    }
   ],
   "source": [
    "df.shape"
   ]
  },
  {
   "cell_type": "code",
   "execution_count": 8,
   "id": "c600c1f2",
   "metadata": {},
   "outputs": [
    {
     "data": {
      "text/plain": [
       "0    284315\n",
       "1       492\n",
       "Name: Class, dtype: int64"
      ]
     },
     "execution_count": 8,
     "metadata": {},
     "output_type": "execute_result"
    }
   ],
   "source": [
    "df[\"Class\"].value_counts()"
   ]
  },
  {
   "cell_type": "markdown",
   "id": "cf5cb49a",
   "metadata": {},
   "source": [
    "### Credit card Fraud- data unbalance"
   ]
  },
  {
   "cell_type": "code",
   "execution_count": 9,
   "id": "9dbbe3ff",
   "metadata": {},
   "outputs": [
    {
     "name": "stderr",
     "output_type": "stream",
     "text": [
      "/home/abhigyan/.local/lib/python3.8/site-packages/seaborn/_decorators.py:36: FutureWarning: Pass the following variable as a keyword arg: x. From version 0.12, the only valid positional argument will be `data`, and passing other arguments without an explicit keyword will result in an error or misinterpretation.\n",
      "  warnings.warn(\n"
     ]
    },
    {
     "data": {
      "text/plain": [
       "[Text(0, 0, 'Normal'), Text(1, 0, 'Fraud')]"
      ]
     },
     "execution_count": 9,
     "metadata": {},
     "output_type": "execute_result"
    },
    {
     "data": {
      "image/png": "[encoded data removed]",
      "text/plain": [
       "<Figure size 432x288 with 1 Axes>"
      ]
     },
     "metadata": {
      "needs_background": "light"
     },
     "output_type": "display_data"
    }
   ],
   "source": [
    "graph = sns.countplot(df[\"Class\"],data=df)\n",
    "graph.set_xticklabels([\"Normal\",\"Fraud\"])"
   ]
  },
  {
   "cell_type": "markdown",
   "id": "788fc2b9",
   "metadata": {},
   "source": [
    "### check for missing values"
   ]
  },
  {
   "cell_type": "code",
   "execution_count": 10,
   "id": "5ddf3176",
   "metadata": {},
   "outputs": [
    {
     "data": {
      "text/plain": [
       "<AxesSubplot:>"
      ]
     },
     "execution_count": 10,
     "metadata": {},
     "output_type": "execute_result"
    },
    {
     "data": {
      "image/png": "[encoded data removed]",
      "text/plain": [
       "<Figure size 720x360 with 1 Axes>"
      ]
     },
     "metadata": {
      "needs_background": "light"
     },
     "output_type": "display_data"
    }
   ],
   "source": [
    "import matplotlib.pyplot as plt\n",
    "%matplotlib inline\n",
    "plt.figure(figsize=(10,5))\n",
    "sns.heatmap(df.isnull(),yticklabels=False,cmap='viridis',cbar=False)"
   ]
  },
  {
   "cell_type": "code",
   "execution_count": 11,
   "id": "9f5318b4",
   "metadata": {},
   "outputs": [],
   "source": [
    "target = df[\"Class\"]"
   ]
  },
  {
   "cell_type": "code",
   "execution_count": 12,
   "id": "ae00d3d4",
   "metadata": {},
   "outputs": [
    {
     "data": {
      "text/plain": [
       "0         0\n",
       "1         0\n",
       "2         0\n",
       "3         0\n",
       "4         0\n",
       "         ..\n",
       "284802    0\n",
       "284803    0\n",
       "284804    0\n",
       "284805    0\n",
       "284806    0\n",
       "Name: Class, Length: 284807, dtype: int64"
      ]
     },
     "execution_count": 12,
     "metadata": {},
     "output_type": "execute_result"
    }
   ],
   "source": [
    "target"
   ]
  },
  {
   "cell_type": "code",
   "execution_count": 13,
   "id": "3cccb733",
   "metadata": {},
   "outputs": [],
   "source": [
    "df= df.drop([\"Class\"],axis=1)"
   ]
  },
  {
   "cell_type": "code",
   "execution_count": 14,
   "id": "d374cce1",
   "metadata": {},
   "outputs": [
    {
     "data": {
      "text/html": [
       "<div>\n",
       "<style scoped>\n",
       "    .dataframe tbody tr th:only-of-type {\n",
       "        vertical-align: middle;\n",
       "    }\n",
       "\n",
       "    .dataframe tbody tr th {\n",
       "        vertical-align: top;\n",
       "    }\n",
       "\n",
       "    .dataframe thead th {\n",
       "        text-align: right;\n",
       "    }\n",
       "</style>\n",
       "<table border=\"1\" class=\"dataframe\">\n",
       "  <thead>\n",
       "    <tr style=\"text-align: right;\">\n",
       "      <th></th>\n",
       "      <th>Time</th>\n",
       "      <th>V1</th>\n",
       "      <th>V2</th>\n",
       "      <th>V3</th>\n",
       "      <th>V4</th>\n",
       "      <th>V5</th>\n",
       "      <th>V6</th>\n",
       "      <th>V7</th>\n",
       "      <th>V8</th>\n",
       "      <th>V9</th>\n",
       "      <th>...</th>\n",
       "      <th>V20</th>\n",
       "      <th>V21</th>\n",
       "      <th>V22</th>\n",
       "      <th>V23</th>\n",
       "      <th>V24</th>\n",
       "      <th>V25</th>\n",
       "      <th>V26</th>\n",
       "      <th>V27</th>\n",
       "      <th>V28</th>\n",
       "      <th>Amount</th>\n",
       "    </tr>\n",
       "  </thead>\n",
       "  <tbody>\n",
       "    <tr>\n",
       "      <th>0</th>\n",
       "      <td>0.0</td>\n",
       "      <td>-1.359807</td>\n",
       "      <td>-0.072781</td>\n",
       "      <td>2.536347</td>\n",
       "      <td>1.378155</td>\n",
       "      <td>-0.338321</td>\n",
       "      <td>0.462388</td>\n",
       "      <td>0.239599</td>\n",
       "      <td>0.098698</td>\n",
       "      <td>0.363787</td>\n",
       "      <td>...</td>\n",
       "      <td>0.251412</td>\n",
       "      <td>-0.018307</td>\n",
       "      <td>0.277838</td>\n",
       "      <td>-0.110474</td>\n",
       "      <td>0.066928</td>\n",
       "      <td>0.128539</td>\n",
       "      <td>-0.189115</td>\n",
       "      <td>0.133558</td>\n",
       "      <td>-0.021053</td>\n",
       "      <td>149.62</td>\n",
       "    </tr>\n",
       "    <tr>\n",
       "      <th>1</th>\n",
       "      <td>0.0</td>\n",
       "      <td>1.191857</td>\n",
       "      <td>0.266151</td>\n",
       "      <td>0.166480</td>\n",
       "      <td>0.448154</td>\n",
       "      <td>0.060018</td>\n",
       "      <td>-0.082361</td>\n",
       "      <td>-0.078803</td>\n",
       "      <td>0.085102</td>\n",
       "      <td>-0.255425</td>\n",
       "      <td>...</td>\n",
       "      <td>-0.069083</td>\n",
       "      <td>-0.225775</td>\n",
       "      <td>-0.638672</td>\n",
       "      <td>0.101288</td>\n",
       "      <td>-0.339846</td>\n",
       "      <td>0.167170</td>\n",
       "      <td>0.125895</td>\n",
       "      <td>-0.008983</td>\n",
       "      <td>0.014724</td>\n",
       "      <td>2.69</td>\n",
       "    </tr>\n",
       "    <tr>\n",
       "      <th>2</th>\n",
       "      <td>1.0</td>\n",
       "      <td>-1.358354</td>\n",
       "      <td>-1.340163</td>\n",
       "      <td>1.773209</td>\n",
       "      <td>0.379780</td>\n",
       "      <td>-0.503198</td>\n",
       "      <td>1.800499</td>\n",
       "      <td>0.791461</td>\n",
       "      <td>0.247676</td>\n",
       "      <td>-1.514654</td>\n",
       "      <td>...</td>\n",
       "      <td>0.524980</td>\n",
       "      <td>0.247998</td>\n",
       "      <td>0.771679</td>\n",
       "      <td>0.909412</td>\n",
       "      <td>-0.689281</td>\n",
       "      <td>-0.327642</td>\n",
       "      <td>-0.139097</td>\n",
       "      <td>-0.055353</td>\n",
       "      <td>-0.059752</td>\n",
       "      <td>378.66</td>\n",
       "    </tr>\n",
       "    <tr>\n",
       "      <th>3</th>\n",
       "      <td>1.0</td>\n",
       "      <td>-0.966272</td>\n",
       "      <td>-0.185226</td>\n",
       "      <td>1.792993</td>\n",
       "      <td>-0.863291</td>\n",
       "      <td>-0.010309</td>\n",
       "      <td>1.247203</td>\n",
       "      <td>0.237609</td>\n",
       "      <td>0.377436</td>\n",
       "      <td>-1.387024</td>\n",
       "      <td>...</td>\n",
       "      <td>-0.208038</td>\n",
       "      <td>-0.108300</td>\n",
       "      <td>0.005274</td>\n",
       "      <td>-0.190321</td>\n",
       "      <td>-1.175575</td>\n",
       "      <td>0.647376</td>\n",
       "      <td>-0.221929</td>\n",
       "      <td>0.062723</td>\n",
       "      <td>0.061458</td>\n",
       "      <td>123.50</td>\n",
       "    </tr>\n",
       "    <tr>\n",
       "      <th>4</th>\n",
       "      <td>2.0</td>\n",
       "      <td>-1.158233</td>\n",
       "      <td>0.877737</td>\n",
       "      <td>1.548718</td>\n",
       "      <td>0.403034</td>\n",
       "      <td>-0.407193</td>\n",
       "      <td>0.095921</td>\n",
       "      <td>0.592941</td>\n",
       "      <td>-0.270533</td>\n",
       "      <td>0.817739</td>\n",
       "      <td>...</td>\n",
       "      <td>0.408542</td>\n",
       "      <td>-0.009431</td>\n",
       "      <td>0.798278</td>\n",
       "      <td>-0.137458</td>\n",
       "      <td>0.141267</td>\n",
       "      <td>-0.206010</td>\n",
       "      <td>0.502292</td>\n",
       "      <td>0.219422</td>\n",
       "      <td>0.215153</td>\n",
       "      <td>69.99</td>\n",
       "    </tr>\n",
       "  </tbody>\n",
       "</table>\n",
       "<p>5 rows × 30 columns</p>\n",
       "</div>"
      ],
      "text/plain": [
       "   Time        V1        V2        V3        V4        V5        V6        V7  \\\n",
       "0   0.0 -1.359807 -0.072781  2.536347  1.378155 -0.338321  0.462388  0.239599   \n",
       "1   0.0  1.191857  0.266151  0.166480  0.448154  0.060018 -0.082361 -0.078803   \n",
       "2   1.0 -1.358354 -1.340163  1.773209  0.379780 -0.503198  1.800499  0.791461   \n",
       "3   1.0 -0.966272 -0.185226  1.792993 -0.863291 -0.010309  1.247203  0.237609   \n",
       "4   2.0 -1.158233  0.877737  1.548718  0.403034 -0.407193  0.095921  0.592941   \n",
       "\n",
       "         V8        V9  ...       V20       V21       V22       V23       V24  \\\n",
       "0  0.098698  0.363787  ...  0.251412 -0.018307  0.277838 -0.110474  0.066928   \n",
       "1  0.085102 -0.255425  ... -0.069083 -0.225775 -0.638672  0.101288 -0.339846   \n",
       "2  0.247676 -1.514654  ...  0.524980  0.247998  0.771679  0.909412 -0.689281   \n",
       "3  0.377436 -1.387024  ... -0.208038 -0.108300  0.005274 -0.190321 -1.175575   \n",
       "4 -0.270533  0.817739  ...  0.408542 -0.009431  0.798278 -0.137458  0.141267   \n",
       "\n",
       "        V25       V26       V27       V28  Amount  \n",
       "0  0.128539 -0.189115  0.133558 -0.021053  149.62  \n",
       "1  0.167170  0.125895 -0.008983  0.014724    2.69  \n",
       "2 -0.327642 -0.139097 -0.055353 -0.059752  378.66  \n",
       "3  0.647376 -0.221929  0.062723  0.061458  123.50  \n",
       "4 -0.206010  0.502292  0.219422  0.215153   69.99  \n",
       "\n",
       "[5 rows x 30 columns]"
      ]
     },
     "execution_count": 14,
     "metadata": {},
     "output_type": "execute_result"
    }
   ],
   "source": [
    "df.head()"
   ]
  },
  {
   "cell_type": "markdown",
   "id": "b53ef954",
   "metadata": {},
   "source": [
    "## splitting data in train and test sets"
   ]
  },
  {
   "cell_type": "code",
   "execution_count": 15,
   "id": "86815d7e",
   "metadata": {},
   "outputs": [],
   "source": [
    "from sklearn.model_selection import train_test_split\n",
    "x_train,x_test,y_train,y_test = train_test_split(df,target,test_size=0.3,random_state=42)"
   ]
  },
  {
   "cell_type": "code",
   "execution_count": 16,
   "id": "712c96ea",
   "metadata": {},
   "outputs": [
    {
     "data": {
      "text/plain": [
       "(85443, 30)"
      ]
     },
     "execution_count": 16,
     "metadata": {},
     "output_type": "execute_result"
    }
   ],
   "source": [
    "x_test.shape"
   ]
  },
  {
   "cell_type": "code",
   "execution_count": 17,
   "id": "ef2d90d2",
   "metadata": {},
   "outputs": [
    {
     "data": {
      "text/plain": [
       "(199364, 30)"
      ]
     },
     "execution_count": 17,
     "metadata": {},
     "output_type": "execute_result"
    }
   ],
   "source": [
    "x_train.shape"
   ]
  },
  {
   "cell_type": "code",
   "execution_count": 18,
   "id": "459b8347",
   "metadata": {},
   "outputs": [
    {
     "data": {
      "text/plain": [
       "0    85307\n",
       "1      136\n",
       "Name: Class, dtype: int64"
      ]
     },
     "execution_count": 18,
     "metadata": {},
     "output_type": "execute_result"
    }
   ],
   "source": [
    "y_test.value_counts()"
   ]
  },
  {
   "cell_type": "markdown",
   "id": "11a612da",
   "metadata": {},
   "source": [
    "## Random Forest"
   ]
  },
  {
   "cell_type": "code",
   "execution_count": 19,
   "id": "7e7ad8a6",
   "metadata": {},
   "outputs": [],
   "source": [
    "from sklearn.ensemble import RandomForestClassifier\n",
    "rf = RandomForestClassifier()\n",
    "from sklearn.model_selection import cross_val_score"
   ]
  },
  {
   "cell_type": "code",
   "execution_count": 20,
   "id": "d2979fe3",
   "metadata": {},
   "outputs": [],
   "source": [
    "from sklearn.model_selection import cross_validate\n",
    "\n",
    "scoring = {'accuracy' : make_scorer(accuracy_score), \n",
    "           'precision' : make_scorer(precision_score),\n",
    "           'recall' : make_scorer(recall_score), \n",
    "           'f1_score' : make_scorer(f1_score)}\n",
    "\n",
    "kfold = KFold(n_splits=10, random_state=42, shuffle=True) \n",
    "\n",
    "results = cross_validate(estimator=rf,\n",
    "                                          X=df,\n",
    "                                          y=target,\n",
    "                                          cv=kfold,\n",
    "                                          scoring=scoring)"
   ]
  },
  {
   "cell_type": "code",
   "execution_count": 21,
   "id": "8637383e",
   "metadata": {},
   "outputs": [
    {
     "data": {
      "text/plain": [
       "{'fit_time': array([210.55287957, 222.60826087, 232.95430613, 227.45555997,\n",
       "        234.14511728, 227.43631172, 236.9434936 , 229.58857059,\n",
       "        224.68666029, 225.33002973]),\n",
       " 'score_time': array([0.2777822 , 0.27965379, 0.3067224 , 0.29230332, 0.2833724 ,\n",
       "        0.30316091, 0.28973007, 0.29554987, 0.29273987, 0.38345408]),\n",
       " 'test_accuracy': array([0.99957867, 0.99957867, 0.99971911, 0.999368  , 0.99950844,\n",
       "        0.99950844, 0.99961378, 0.99947331, 0.99947331, 0.99968399]),\n",
       " 'test_precision': array([0.97222222, 0.97619048, 0.89473684, 0.91111111, 1.        ,\n",
       "        0.93333333, 0.97435897, 0.95238095, 0.87755102, 1.        ]),\n",
       " 'test_recall': array([0.76086957, 0.78846154, 0.89473684, 0.74545455, 0.74545455,\n",
       "        0.7       , 0.79166667, 0.75471698, 0.82692308, 0.83018868]),\n",
       " 'test_f1_score': array([0.85365854, 0.87234043, 0.89473684, 0.82      , 0.85416667,\n",
       "        0.8       , 0.87356322, 0.84210526, 0.85148515, 0.90721649])}"
      ]
     },
     "execution_count": 21,
     "metadata": {},
     "output_type": "execute_result"
    }
   ],
   "source": [
    "results"
   ]
  },
  {
   "cell_type": "code",
   "execution_count": 22,
   "id": "3c14679c",
   "metadata": {},
   "outputs": [
    {
     "data": {
      "text/plain": [
       "0.7838472440660386"
      ]
     },
     "execution_count": 22,
     "metadata": {},
     "output_type": "execute_result"
    }
   ],
   "source": [
    "precision = np.mean(results['test_precision'])\n",
    "precision\n",
    "np.mean(results['test_recall'])"
   ]
  },
  {
   "cell_type": "code",
   "execution_count": 23,
   "id": "d3db6cfe",
   "metadata": {},
   "outputs": [
    {
     "data": {
      "text/plain": [
       "RandomForestClassifier()"
      ]
     },
     "execution_count": 23,
     "metadata": {},
     "output_type": "execute_result"
    }
   ],
   "source": [
    "rf.fit(x_train,y_train)"
   ]
  },
  {
   "cell_type": "code",
   "execution_count": 24,
   "id": "2eca5ace",
   "metadata": {
    "scrolled": true
   },
   "outputs": [],
   "source": [
    "y_pred_rf = rf.predict(x_test)"
   ]
  },
  {
   "cell_type": "markdown",
   "id": "45d3704d",
   "metadata": {},
   "source": [
    "## AdaBoost"
   ]
  },
  {
   "cell_type": "code",
   "execution_count": 25,
   "id": "48b1f174",
   "metadata": {},
   "outputs": [
    {
     "data": {
      "text/plain": [
       "AdaBoostClassifier(learning_rate=0.8, n_estimators=100, random_state=42)"
      ]
     },
     "execution_count": 25,
     "metadata": {},
     "output_type": "execute_result"
    }
   ],
   "source": [
    "from sklearn.ensemble import AdaBoostClassifier\n",
    "ada = AdaBoostClassifier(n_estimators = 100, random_state = 42,algorithm='SAMME.R',\n",
    "                         learning_rate=0.8,)\n",
    "ada.fit(x_train,y_train)"
   ]
  },
  {
   "cell_type": "code",
   "execution_count": 26,
   "id": "34f4bb39",
   "metadata": {},
   "outputs": [],
   "source": [
    "y_pred_ada = ada.predict(x_test)"
   ]
  },
  {
   "cell_type": "markdown",
   "id": "34458305",
   "metadata": {},
   "source": [
    "## Gradient Boosting"
   ]
  },
  {
   "cell_type": "code",
   "execution_count": 27,
   "id": "27b2af12",
   "metadata": {},
   "outputs": [],
   "source": [
    "from sklearn.ensemble import GradientBoostingClassifier\n",
    "gb = GradientBoostingClassifier()"
   ]
  },
  {
   "cell_type": "code",
   "execution_count": 28,
   "id": "f027d7ae",
   "metadata": {
    "scrolled": true
   },
   "outputs": [
    {
     "data": {
      "text/plain": [
       "GradientBoostingClassifier()"
      ]
     },
     "execution_count": 28,
     "metadata": {},
     "output_type": "execute_result"
    }
   ],
   "source": [
    "from sklearn.metrics import accuracy_score,confusion_matrix,classification_report\n",
    "gb.fit(x_train,y_train)"
   ]
  },
  {
   "cell_type": "code",
   "execution_count": 29,
   "id": "fefbfd4d",
   "metadata": {},
   "outputs": [],
   "source": [
    "y_pred_gb = gb.predict(x_test)"
   ]
  },
  {
   "cell_type": "markdown",
   "id": "391504d0",
   "metadata": {},
   "source": [
    "## XG Boost"
   ]
  },
  {
   "cell_type": "code",
   "execution_count": 30,
   "id": "ddbf4691",
   "metadata": {},
   "outputs": [
    {
     "name": "stderr",
     "output_type": "stream",
     "text": [
      "/home/abhigyan/.local/lib/python3.8/site-packages/xgboost/compat.py:36: FutureWarning: pandas.Int64Index is deprecated and will be removed from pandas in a future version. Use pandas.Index with the appropriate dtype instead.\n",
      "  from pandas import MultiIndex, Int64Index\n"
     ]
    }
   ],
   "source": [
    "from xgboost import XGBClassifier\n",
    "xgb = XGBClassifier()"
   ]
  },
  {
   "cell_type": "code",
   "execution_count": 31,
   "id": "98fedaf4",
   "metadata": {
    "scrolled": true
   },
   "outputs": [
    {
     "name": "stderr",
     "output_type": "stream",
     "text": [
      "/home/abhigyan/.local/lib/python3.8/site-packages/xgboost/sklearn.py:1224: UserWarning: The use of label encoder in XGBClassifier is deprecated and will be removed in a future release. To remove this warning, do the following: 1) Pass option use_label_encoder=False when constructing XGBClassifier object; and 2) Encode your labels (y) as integers starting with 0, i.e. 0, 1, 2, ..., [num_class - 1].\n",
      "  warnings.warn(label_encoder_deprecation_msg, UserWarning)\n",
      "/home/abhigyan/.local/lib/python3.8/site-packages/xgboost/data.py:262: FutureWarning: pandas.Int64Index is deprecated and will be removed from pandas in a future version. Use pandas.Index with the appropriate dtype instead.\n",
      "  elif isinstance(data.columns, (pd.Int64Index, pd.RangeIndex)):\n"
     ]
    },
    {
     "name": "stdout",
     "output_type": "stream",
     "text": [
      "[16:55:44] WARNING: ../src/learner.cc:1115: Starting in XGBoost 1.3.0, the default evaluation metric used with the objective 'binary:logistic' was changed from 'error' to 'logloss'. Explicitly set eval_metric if you'd like to restore the old behavior.\n"
     ]
    },
    {
     "data": {
      "text/plain": [
       "XGBClassifier(base_score=0.5, booster='gbtree', colsample_bylevel=1,\n",
       "              colsample_bynode=1, colsample_bytree=1, enable_categorical=False,\n",
       "              gamma=0, gpu_id=-1, importance_type=None,\n",
       "              interaction_constraints='', learning_rate=0.300000012,\n",
       "              max_delta_step=0, max_depth=6, min_child_weight=1, missing=nan,\n",
       "              monotone_constraints='()', n_estimators=100, n_jobs=4,\n",
       "              num_parallel_tree=1, predictor='auto', random_state=0,\n",
       "              reg_alpha=0, reg_lambda=1, scale_pos_weight=1, subsample=1,\n",
       "              tree_method='exact', validate_parameters=1, verbosity=None)"
      ]
     },
     "execution_count": 31,
     "metadata": {},
     "output_type": "execute_result"
    }
   ],
   "source": [
    "xgb.fit(x_train,y_train)"
   ]
  },
  {
   "cell_type": "code",
   "execution_count": 32,
   "id": "3f42f6de",
   "metadata": {},
   "outputs": [],
   "source": [
    "y_pred_xgb = xgb.predict(x_test)"
   ]
  },
  {
   "cell_type": "markdown",
   "id": "f4e5d860",
   "metadata": {},
   "source": [
    "## Not Logic"
   ]
  },
  {
   "cell_type": "code",
   "execution_count": 33,
   "id": "a11db373",
   "metadata": {},
   "outputs": [],
   "source": [
    "def negation(y):\n",
    "    x = np.where(y == 0, 1, 0)\n",
    "    return x"
   ]
  },
  {
   "cell_type": "code",
   "execution_count": 34,
   "id": "8f6490fb",
   "metadata": {},
   "outputs": [
    {
     "data": {
      "text/plain": [
       "array([0, 1, 0, 0, 1, 0, 1])"
      ]
     },
     "execution_count": 34,
     "metadata": {},
     "output_type": "execute_result"
    }
   ],
   "source": [
    "arr1 = np.array([1,0,1,1,0,1,0])\n",
    "arr2 = negation(arr1)\n",
    "arr2"
   ]
  },
  {
   "cell_type": "markdown",
   "id": "2b866343",
   "metadata": {},
   "source": [
    "## Adaboost and GB (AND)"
   ]
  },
  {
   "cell_type": "code",
   "execution_count": 35,
   "id": "0d998bff",
   "metadata": {
    "scrolled": false
   },
   "outputs": [
    {
     "name": "stdout",
     "output_type": "stream",
     "text": [
      "0.9985487400957364\n",
      "[[85307     0]\n",
      " [  124    12]]\n",
      "              precision    recall  f1-score   support\n",
      "\n",
      "           0     0.9985    1.0000    0.9993     85307\n",
      "           1     1.0000    0.0882    0.1622       136\n",
      "\n",
      "    accuracy                         0.9985     85443\n",
      "   macro avg     0.9993    0.5441    0.5807     85443\n",
      "weighted avg     0.9986    0.9985    0.9979     85443\n",
      "\n"
     ]
    }
   ],
   "source": [
    "y_pred = y_pred_ada & y_pred_gb\n",
    "print(accuracy_score(y_test,y_pred))\n",
    "print(confusion_matrix(y_test,y_pred))\n",
    "print(classification_report(y_test,y_pred, digits=4))"
   ]
  },
  {
   "cell_type": "markdown",
   "id": "e5a834a1",
   "metadata": {},
   "source": [
    "## Adaboost and Gradient Boost (OR)"
   ]
  },
  {
   "cell_type": "code",
   "execution_count": 36,
   "id": "2bd61d3a",
   "metadata": {},
   "outputs": [
    {
     "name": "stdout",
     "output_type": "stream",
     "text": [
      "0.9994382219725431\n",
      "[[85288    19]\n",
      " [   29   107]]\n",
      "              precision    recall  f1-score   support\n",
      "\n",
      "           0     0.9997    0.9998    0.9997     85307\n",
      "           1     0.8492    0.7868    0.8168       136\n",
      "\n",
      "    accuracy                         0.9994     85443\n",
      "   macro avg     0.9244    0.8933    0.9083     85443\n",
      "weighted avg     0.9994    0.9994    0.9994     85443\n",
      "\n"
     ]
    }
   ],
   "source": [
    "y_pred = y_pred_ada | y_pred_gb\n",
    "print(accuracy_score(y_test,y_pred))\n",
    "print(confusion_matrix(y_test,y_pred))\n",
    "print(classification_report(y_test,y_pred, digits=4))"
   ]
  },
  {
   "cell_type": "markdown",
   "id": "8a7b1863",
   "metadata": {},
   "source": [
    "## Adaboost and GB (XOR) "
   ]
  },
  {
   "cell_type": "code",
   "execution_count": 37,
   "id": "047665af",
   "metadata": {
    "scrolled": true
   },
   "outputs": [
    {
     "name": "stdout",
     "output_type": "stream",
     "text": [
      "0.9992977774656788\n",
      "[[85288    19]\n",
      " [   41    95]]\n",
      "              precision    recall  f1-score   support\n",
      "\n",
      "           0     0.9995    0.9998    0.9996     85307\n",
      "           1     0.8333    0.6985    0.7600       136\n",
      "\n",
      "    accuracy                         0.9993     85443\n",
      "   macro avg     0.9164    0.8492    0.8798     85443\n",
      "weighted avg     0.9993    0.9993    0.9993     85443\n",
      "\n"
     ]
    }
   ],
   "source": [
    "y_pred = y_pred_ada ^ y_pred_gb\n",
    "print(accuracy_score(y_test,y_pred))\n",
    "print(confusion_matrix(y_test,y_pred))\n",
    "print(classification_report(y_test,y_pred, digits=4))"
   ]
  },
  {
   "cell_type": "markdown",
   "id": "9c994101",
   "metadata": {},
   "source": [
    "## Adaboost and GB (NAND)"
   ]
  },
  {
   "cell_type": "code",
   "execution_count": 38,
   "id": "6e6c5d55",
   "metadata": {
    "scrolled": true
   },
   "outputs": [
    {
     "name": "stdout",
     "output_type": "stream",
     "text": [
      "0.0014512599042636612\n",
      "[[    0 85307]\n",
      " [   12   124]]\n",
      "              precision    recall  f1-score   support\n",
      "\n",
      "           0     0.0000    0.0000    0.0000     85307\n",
      "           1     0.0015    0.9118    0.0029       136\n",
      "\n",
      "    accuracy                         0.0015     85443\n",
      "   macro avg     0.0007    0.4559    0.0014     85443\n",
      "weighted avg     0.0000    0.0015    0.0000     85443\n",
      "\n"
     ]
    }
   ],
   "source": [
    "y_pred = negation(y_pred_ada & y_pred_gb)\n",
    "y_pred.shape\n",
    "print(accuracy_score(y_test,y_pred))\n",
    "print(confusion_matrix(y_test,y_pred))\n",
    "print(classification_report(y_test,y_pred, digits=4))"
   ]
  },
  {
   "cell_type": "markdown",
   "id": "22ef81e8",
   "metadata": {},
   "source": [
    "## Ada and GB (NOR)"
   ]
  },
  {
   "cell_type": "code",
   "execution_count": 39,
   "id": "65d540ad",
   "metadata": {},
   "outputs": [
    {
     "name": "stdout",
     "output_type": "stream",
     "text": [
      "0.0005617780274569011\n",
      "[[   19 85288]\n",
      " [  107    29]]\n",
      "              precision    recall  f1-score   support\n",
      "\n",
      "           0     0.1508    0.0002    0.0004     85307\n",
      "           1     0.0003    0.2132    0.0007       136\n",
      "\n",
      "    accuracy                         0.0006     85443\n",
      "   macro avg     0.0756    0.1067    0.0006     85443\n",
      "weighted avg     0.1506    0.0006    0.0004     85443\n",
      "\n"
     ]
    }
   ],
   "source": [
    "y_pred = negation(y_pred_ada | y_pred_gb)\n",
    "print(accuracy_score(y_test,y_pred))\n",
    "print(confusion_matrix(y_test,y_pred))\n",
    "print(classification_report(y_test,y_pred, digits=4))"
   ]
  },
  {
   "cell_type": "markdown",
   "id": "a6fd0349",
   "metadata": {},
   "source": [
    "## Ada and GB (XNOR)"
   ]
  },
  {
   "cell_type": "code",
   "execution_count": 40,
   "id": "17241cd6",
   "metadata": {},
   "outputs": [
    {
     "name": "stdout",
     "output_type": "stream",
     "text": [
      "0.0007022225343211264\n",
      "[[   19 85288]\n",
      " [   95    41]]\n",
      "              precision    recall  f1-score   support\n",
      "\n",
      "           0     0.1667    0.0002    0.0004     85307\n",
      "           1     0.0005    0.3015    0.0010       136\n",
      "\n",
      "    accuracy                         0.0007     85443\n",
      "   macro avg     0.0836    0.1508    0.0007     85443\n",
      "weighted avg     0.1664    0.0007    0.0004     85443\n",
      "\n"
     ]
    }
   ],
   "source": [
    "y_pred = negation((y_pred_ada ^ y_pred_gb))\n",
    "print(accuracy_score(y_test,y_pred))\n",
    "print(confusion_matrix(y_test,y_pred))\n",
    "print(classification_report(y_test,y_pred, digits=4))"
   ]
  },
  {
   "cell_type": "markdown",
   "id": "e7c233e7",
   "metadata": {},
   "source": [
    "## Under Sampling"
   ]
  },
  {
   "cell_type": "code",
   "execution_count": 41,
   "id": "a6b09983",
   "metadata": {},
   "outputs": [],
   "source": [
    "from imblearn.under_sampling import NearMiss\n",
    "from collections import Counter"
   ]
  },
  {
   "cell_type": "code",
   "execution_count": 42,
   "id": "62629f2c",
   "metadata": {},
   "outputs": [
    {
     "name": "stderr",
     "output_type": "stream",
     "text": [
      "/home/abhigyan/.local/lib/python3.8/site-packages/imblearn/utils/_validation.py:586: FutureWarning: Pass sampling_strategy=0.8 as keyword args. From version 0.9 passing these as positional arguments will result in an error\n",
      "  warnings.warn(\n"
     ]
    },
    {
     "name": "stdout",
     "output_type": "stream",
     "text": [
      "The samples before fit Counter({0: 199008, 1: 356})\n",
      "The samples before fit Counter({0: 445, 1: 356})\n"
     ]
    }
   ],
   "source": [
    "us = NearMiss(0.8)\n",
    "x_train_us,y_train_us = us.fit_resample(x_train,y_train)\n",
    "print(\"The samples before fit {}\".format(Counter(y_train)))\n",
    "print(\"The samples before fit {}\".format(Counter(y_train_us)))"
   ]
  },
  {
   "cell_type": "markdown",
   "id": "e41b8b95",
   "metadata": {},
   "source": [
    "## Rf with US"
   ]
  },
  {
   "cell_type": "code",
   "execution_count": 43,
   "id": "5eb2747e",
   "metadata": {},
   "outputs": [],
   "source": [
    "rf.fit(x_train_us,y_train_us)\n",
    "y_pred_rf_us = rf.predict(x_test)"
   ]
  },
  {
   "cell_type": "markdown",
   "id": "985066c9",
   "metadata": {},
   "source": [
    "## Ada with US"
   ]
  },
  {
   "cell_type": "code",
   "execution_count": 44,
   "id": "81b164e1",
   "metadata": {
    "scrolled": true
   },
   "outputs": [],
   "source": [
    "ada.fit(x_train_us,y_train_us)\n",
    "y_pred_ada_us = ada.predict(x_test)"
   ]
  },
  {
   "cell_type": "markdown",
   "id": "9d9297eb",
   "metadata": {},
   "source": [
    "## GB with US"
   ]
  },
  {
   "cell_type": "code",
   "execution_count": 45,
   "id": "6682eb98",
   "metadata": {},
   "outputs": [],
   "source": [
    "gb.fit(x_train_us,y_train_us)\n",
    "y_pred_gb_us = gb.predict(x_test)"
   ]
  },
  {
   "cell_type": "markdown",
   "id": "234db392",
   "metadata": {},
   "source": [
    "## XGB with US"
   ]
  },
  {
   "cell_type": "code",
   "execution_count": 46,
   "id": "173f0c4d",
   "metadata": {
    "scrolled": false
   },
   "outputs": [
    {
     "name": "stderr",
     "output_type": "stream",
     "text": [
      "/home/abhigyan/.local/lib/python3.8/site-packages/xgboost/sklearn.py:1224: UserWarning: The use of label encoder in XGBClassifier is deprecated and will be removed in a future release. To remove this warning, do the following: 1) Pass option use_label_encoder=False when constructing XGBClassifier object; and 2) Encode your labels (y) as integers starting with 0, i.e. 0, 1, 2, ..., [num_class - 1].\n",
      "  warnings.warn(label_encoder_deprecation_msg, UserWarning)\n",
      "/home/abhigyan/.local/lib/python3.8/site-packages/xgboost/data.py:262: FutureWarning: pandas.Int64Index is deprecated and will be removed from pandas in a future version. Use pandas.Index with the appropriate dtype instead.\n",
      "  elif isinstance(data.columns, (pd.Int64Index, pd.RangeIndex)):\n"
     ]
    },
    {
     "name": "stdout",
     "output_type": "stream",
     "text": [
      "[16:56:38] WARNING: ../src/learner.cc:1115: Starting in XGBoost 1.3.0, the default evaluation metric used with the objective 'binary:logistic' was changed from 'error' to 'logloss'. Explicitly set eval_metric if you'd like to restore the old behavior.\n"
     ]
    }
   ],
   "source": [
    "from sklearn.metrics import accuracy_score,confusion_matrix,classification_report\n",
    "xgb.fit(x_train_us,y_train_us)\n",
    "y_pred_xgb_us = xgb.predict(x_test)"
   ]
  },
  {
   "cell_type": "markdown",
   "id": "3202791e",
   "metadata": {},
   "source": [
    "## RF and Ada US (AND)"
   ]
  },
  {
   "cell_type": "code",
   "execution_count": 47,
   "id": "103b665a",
   "metadata": {
    "scrolled": true
   },
   "outputs": [
    {
     "name": "stdout",
     "output_type": "stream",
     "text": [
      "0.7077817960511686\n",
      "[[60347 24960]\n",
      " [    8   128]]\n",
      "              precision    recall  f1-score   support\n",
      "\n",
      "           0     0.9999    0.7074    0.8286     85307\n",
      "           1     0.0051    0.9412    0.0101       136\n",
      "\n",
      "    accuracy                         0.7078     85443\n",
      "   macro avg     0.5025    0.8243    0.4194     85443\n",
      "weighted avg     0.9983    0.7078    0.8273     85443\n",
      "\n"
     ]
    }
   ],
   "source": [
    "y_pred = y_pred_ada_us & y_pred_rf_us\n",
    "print(accuracy_score(y_test,y_pred))\n",
    "print(confusion_matrix(y_test,y_pred))\n",
    "print(classification_report(y_test,y_pred, digits=4))"
   ]
  },
  {
   "cell_type": "markdown",
   "id": "0d2d53f7",
   "metadata": {},
   "source": [
    "## RF and Ada US (OR)"
   ]
  },
  {
   "cell_type": "code",
   "execution_count": 48,
   "id": "5c58f165",
   "metadata": {
    "scrolled": true
   },
   "outputs": [
    {
     "name": "stdout",
     "output_type": "stream",
     "text": [
      "0.5118383015577637\n",
      "[[43601 41706]\n",
      " [    4   132]]\n",
      "              precision    recall  f1-score   support\n",
      "\n",
      "           0     0.9999    0.5111    0.6764     85307\n",
      "           1     0.0032    0.9706    0.0063       136\n",
      "\n",
      "    accuracy                         0.5118     85443\n",
      "   macro avg     0.5015    0.7408    0.3414     85443\n",
      "weighted avg     0.9983    0.5118    0.6754     85443\n",
      "\n"
     ]
    }
   ],
   "source": [
    "y_pred = y_pred_ada_us | y_pred_rf_us\n",
    "print(accuracy_score(y_test,y_pred))\n",
    "print(confusion_matrix(y_test,y_pred))\n",
    "print(classification_report(y_test,y_pred, digits=4))"
   ]
  },
  {
   "cell_type": "markdown",
   "id": "ee1ab418",
   "metadata": {},
   "source": [
    "## RF and Ada US (XOR)"
   ]
  },
  {
   "cell_type": "code",
   "execution_count": 49,
   "id": "41647e4a",
   "metadata": {
    "scrolled": true
   },
   "outputs": [
    {
     "name": "stdout",
     "output_type": "stream",
     "text": [
      "0.8024648010954671\n",
      "[[68561 16746]\n",
      " [  132     4]]\n",
      "              precision    recall  f1-score   support\n",
      "\n",
      "           0     0.9981    0.8037    0.8904     85307\n",
      "           1     0.0002    0.0294    0.0005       136\n",
      "\n",
      "    accuracy                         0.8025     85443\n",
      "   macro avg     0.4992    0.4166    0.4454     85443\n",
      "weighted avg     0.9965    0.8025    0.8890     85443\n",
      "\n"
     ]
    }
   ],
   "source": [
    "y_pred = y_pred_ada_us ^ y_pred_rf_us\n",
    "print(accuracy_score(y_test,y_pred))\n",
    "print(confusion_matrix(y_test,y_pred))\n",
    "print(classification_report(y_test,y_pred, digits=4))"
   ]
  },
  {
   "cell_type": "markdown",
   "id": "007c5456",
   "metadata": {},
   "source": [
    "## RF and Ada US (NAND)"
   ]
  },
  {
   "cell_type": "code",
   "execution_count": 50,
   "id": "bdbbc8bd",
   "metadata": {
    "scrolled": true
   },
   "outputs": [
    {
     "name": "stdout",
     "output_type": "stream",
     "text": [
      "0.48816169844223634\n",
      "[[41706 43601]\n",
      " [  132     4]]\n",
      "              precision    recall  f1-score   support\n",
      "\n",
      "           0     0.9968    0.4889    0.6560     85307\n",
      "           1     0.0001    0.0294    0.0002       136\n",
      "\n",
      "    accuracy                         0.4882     85443\n",
      "   macro avg     0.4985    0.2592    0.3281     85443\n",
      "weighted avg     0.9953    0.4882    0.6550     85443\n",
      "\n"
     ]
    }
   ],
   "source": [
    "y_pred = negation(y_pred_ada_us | y_pred_rf_us)\n",
    "print(accuracy_score(y_test,y_pred))\n",
    "print(confusion_matrix(y_test,y_pred))\n",
    "print(classification_report(y_test,y_pred, digits=4))"
   ]
  },
  {
   "cell_type": "markdown",
   "id": "dab1dcd5",
   "metadata": {},
   "source": [
    "## RF and Ada US (NOR)"
   ]
  },
  {
   "cell_type": "code",
   "execution_count": 51,
   "id": "8740fdf1",
   "metadata": {
    "scrolled": true
   },
   "outputs": [
    {
     "name": "stdout",
     "output_type": "stream",
     "text": [
      "0.48816169844223634\n",
      "[[41706 43601]\n",
      " [  132     4]]\n",
      "              precision    recall  f1-score   support\n",
      "\n",
      "           0     0.9968    0.4889    0.6560     85307\n",
      "           1     0.0001    0.0294    0.0002       136\n",
      "\n",
      "    accuracy                         0.4882     85443\n",
      "   macro avg     0.4985    0.2592    0.3281     85443\n",
      "weighted avg     0.9953    0.4882    0.6550     85443\n",
      "\n"
     ]
    }
   ],
   "source": [
    "y_pred = negation(y_pred_ada_us | y_pred_rf_us)\n",
    "print(accuracy_score(y_test,y_pred))\n",
    "print(confusion_matrix(y_test,y_pred))\n",
    "print(classification_report(y_test,y_pred, digits=4))"
   ]
  },
  {
   "cell_type": "markdown",
   "id": "398310ed",
   "metadata": {},
   "source": [
    "## RF and Ada US (XNOR)"
   ]
  },
  {
   "cell_type": "code",
   "execution_count": 52,
   "id": "b6f1c5af",
   "metadata": {
    "scrolled": true
   },
   "outputs": [
    {
     "name": "stdout",
     "output_type": "stream",
     "text": [
      "0.19753519890453283\n",
      "[[16746 68561]\n",
      " [    4   132]]\n",
      "              precision    recall  f1-score   support\n",
      "\n",
      "           0     0.9998    0.1963    0.3282     85307\n",
      "           1     0.0019    0.9706    0.0038       136\n",
      "\n",
      "    accuracy                         0.1975     85443\n",
      "   macro avg     0.5008    0.5834    0.1660     85443\n",
      "weighted avg     0.9982    0.1975    0.3277     85443\n",
      "\n"
     ]
    }
   ],
   "source": [
    "y_pred = negation(y_pred_ada_us ^ y_pred_rf_us)\n",
    "print(accuracy_score(y_test,y_pred))\n",
    "print(confusion_matrix(y_test,y_pred))\n",
    "print(classification_report(y_test,y_pred, digits=4))"
   ]
  },
  {
   "cell_type": "markdown",
   "id": "b9ee3f2f",
   "metadata": {},
   "source": [
    "## RF and GB Hybrid US (AND)"
   ]
  },
  {
   "cell_type": "code",
   "execution_count": 53,
   "id": "e1e67413",
   "metadata": {},
   "outputs": [
    {
     "name": "stdout",
     "output_type": "stream",
     "text": [
      "0.7121472794728649\n",
      "[[60719 24588]\n",
      " [    7   129]]\n",
      "              precision    recall  f1-score   support\n",
      "\n",
      "           0     0.9999    0.7118    0.8316     85307\n",
      "           1     0.0052    0.9485    0.0104       136\n",
      "\n",
      "    accuracy                         0.7121     85443\n",
      "   macro avg     0.5026    0.8301    0.4210     85443\n",
      "weighted avg     0.9983    0.7121    0.8303     85443\n",
      "\n"
     ]
    }
   ],
   "source": [
    "y_pred = y_pred_gb_us & y_pred_rf_us\n",
    "print(accuracy_score(y_test,y_pred))\n",
    "print(confusion_matrix(y_test,y_pred))\n",
    "print(classification_report(y_test,y_pred, digits=4))"
   ]
  },
  {
   "cell_type": "markdown",
   "id": "9838a430",
   "metadata": {},
   "source": [
    "## RF and GB Hybrid US (OR)"
   ]
  },
  {
   "cell_type": "code",
   "execution_count": 54,
   "id": "fbe9c7d4",
   "metadata": {},
   "outputs": [
    {
     "name": "stdout",
     "output_type": "stream",
     "text": [
      "0.5511276523530306\n",
      "[[46958 38349]\n",
      " [    4   132]]\n",
      "              precision    recall  f1-score   support\n",
      "\n",
      "           0     0.9999    0.5505    0.7100     85307\n",
      "           1     0.0034    0.9706    0.0068       136\n",
      "\n",
      "    accuracy                         0.5511     85443\n",
      "   macro avg     0.5017    0.7605    0.3584     85443\n",
      "weighted avg     0.9983    0.5511    0.7089     85443\n",
      "\n"
     ]
    }
   ],
   "source": [
    "y_pred = y_pred_gb_us | y_pred_rf_us\n",
    "print(accuracy_score(y_test,y_pred))\n",
    "print(confusion_matrix(y_test,y_pred))\n",
    "print(classification_report(y_test,y_pred, digits=4))"
   ]
  },
  {
   "cell_type": "markdown",
   "id": "5c887e96",
   "metadata": {},
   "source": [
    "## RF and GB Hybrid US (XOR)"
   ]
  },
  {
   "cell_type": "code",
   "execution_count": 55,
   "id": "1742a738",
   "metadata": {},
   "outputs": [
    {
     "name": "stdout",
     "output_type": "stream",
     "text": [
      "0.8373886684690378\n",
      "[[71546 13761]\n",
      " [  133     3]]\n",
      "              precision    recall  f1-score   support\n",
      "\n",
      "           0     0.9981    0.8387    0.9115     85307\n",
      "           1     0.0002    0.0221    0.0004       136\n",
      "\n",
      "    accuracy                         0.8374     85443\n",
      "   macro avg     0.4992    0.4304    0.4560     85443\n",
      "weighted avg     0.9966    0.8374    0.9100     85443\n",
      "\n"
     ]
    }
   ],
   "source": [
    "y_pred = y_pred_gb_us ^ y_pred_rf_us\n",
    "print(accuracy_score(y_test,y_pred))\n",
    "print(confusion_matrix(y_test,y_pred))\n",
    "print(classification_report(y_test,y_pred, digits=4))"
   ]
  },
  {
   "cell_type": "markdown",
   "id": "f3b6a8db",
   "metadata": {},
   "source": [
    "## RF and GB Hybrid US (NAND)"
   ]
  },
  {
   "cell_type": "code",
   "execution_count": 56,
   "id": "38b3f655",
   "metadata": {},
   "outputs": [
    {
     "name": "stdout",
     "output_type": "stream",
     "text": [
      "0.28785272052713506\n",
      "[[24588 60719]\n",
      " [  129     7]]\n",
      "              precision    recall  f1-score   support\n",
      "\n",
      "           0     0.9948    0.2882    0.4470     85307\n",
      "           1     0.0001    0.0515    0.0002       136\n",
      "\n",
      "    accuracy                         0.2879     85443\n",
      "   macro avg     0.4974    0.1699    0.2236     85443\n",
      "weighted avg     0.9932    0.2879    0.4462     85443\n",
      "\n"
     ]
    }
   ],
   "source": [
    "y_pred = negation(y_pred_gb_us & y_pred_rf_us)\n",
    "print(accuracy_score(y_test,y_pred))\n",
    "print(confusion_matrix(y_test,y_pred))\n",
    "print(classification_report(y_test,y_pred, digits=4))"
   ]
  },
  {
   "cell_type": "markdown",
   "id": "ed2d5d85",
   "metadata": {},
   "source": [
    "## RF and GB Hybrid US (NOR)"
   ]
  },
  {
   "cell_type": "code",
   "execution_count": 57,
   "id": "5602a5fc",
   "metadata": {},
   "outputs": [
    {
     "name": "stdout",
     "output_type": "stream",
     "text": [
      "0.4488723476469693\n",
      "[[38349 46958]\n",
      " [  132     4]]\n",
      "              precision    recall  f1-score   support\n",
      "\n",
      "           0     0.9966    0.4495    0.6196     85307\n",
      "           1     0.0001    0.0294    0.0002       136\n",
      "\n",
      "    accuracy                         0.4489     85443\n",
      "   macro avg     0.4983    0.2395    0.3099     85443\n",
      "weighted avg     0.9950    0.4489    0.6186     85443\n",
      "\n"
     ]
    }
   ],
   "source": [
    "y_pred = negation(y_pred_gb_us | y_pred_rf_us)\n",
    "print(accuracy_score(y_test,y_pred))\n",
    "print(confusion_matrix(y_test,y_pred))\n",
    "print(classification_report(y_test,y_pred, digits=4))"
   ]
  },
  {
   "cell_type": "markdown",
   "id": "653824e9",
   "metadata": {},
   "source": [
    "## RF and GB Hybrid US (XNOR)"
   ]
  },
  {
   "cell_type": "code",
   "execution_count": 58,
   "id": "13211d08",
   "metadata": {},
   "outputs": [
    {
     "name": "stdout",
     "output_type": "stream",
     "text": [
      "0.16261133153096216\n",
      "[[13761 71546]\n",
      " [    3   133]]\n",
      "              precision    recall  f1-score   support\n",
      "\n",
      "           0     0.9998    0.1613    0.2778     85307\n",
      "           1     0.0019    0.9779    0.0037       136\n",
      "\n",
      "    accuracy                         0.1626     85443\n",
      "   macro avg     0.5008    0.5696    0.1408     85443\n",
      "weighted avg     0.9982    0.1626    0.2774     85443\n",
      "\n"
     ]
    }
   ],
   "source": [
    "y_pred = negation(y_pred_gb_us ^ y_pred_rf_us)\n",
    "print(accuracy_score(y_test,y_pred))\n",
    "print(confusion_matrix(y_test,y_pred))\n",
    "print(classification_report(y_test,y_pred, digits=4))"
   ]
  },
  {
   "cell_type": "markdown",
   "id": "7e84e7c9",
   "metadata": {},
   "source": [
    "## RF and XGB Hybrid US (AND)"
   ]
  },
  {
   "cell_type": "code",
   "execution_count": 59,
   "id": "bc22efd9",
   "metadata": {},
   "outputs": [
    {
     "name": "stdout",
     "output_type": "stream",
     "text": [
      "0.7131420947298199\n",
      "[[60804 24503]\n",
      " [    7   129]]\n",
      "              precision    recall  f1-score   support\n",
      "\n",
      "           0     0.9999    0.7128    0.8323     85307\n",
      "           1     0.0052    0.9485    0.0104       136\n",
      "\n",
      "    accuracy                         0.7131     85443\n",
      "   macro avg     0.5026    0.8306    0.4213     85443\n",
      "weighted avg     0.9983    0.7131    0.8310     85443\n",
      "\n"
     ]
    }
   ],
   "source": [
    "y_pred = y_pred_xgb_us & y_pred_rf_us\n",
    "print(accuracy_score(y_test,y_pred))\n",
    "print(confusion_matrix(y_test,y_pred))\n",
    "print(classification_report(y_test,y_pred, digits=4))"
   ]
  },
  {
   "cell_type": "markdown",
   "id": "2c1922e0",
   "metadata": {},
   "source": [
    "## RF and XGB Hybrid US (OR)"
   ]
  },
  {
   "cell_type": "code",
   "execution_count": 60,
   "id": "8738fc55",
   "metadata": {},
   "outputs": [
    {
     "name": "stdout",
     "output_type": "stream",
     "text": [
      "0.5942090048336318\n",
      "[[50640 34667]\n",
      " [    5   131]]\n",
      "              precision    recall  f1-score   support\n",
      "\n",
      "           0     0.9999    0.5936    0.7450     85307\n",
      "           1     0.0038    0.9632    0.0075       136\n",
      "\n",
      "    accuracy                         0.5942     85443\n",
      "   macro avg     0.5018    0.7784    0.3762     85443\n",
      "weighted avg     0.9983    0.5942    0.7438     85443\n",
      "\n"
     ]
    }
   ],
   "source": [
    "y_pred = y_pred_xgb_us | y_pred_rf_us\n",
    "print(accuracy_score(y_test,y_pred))\n",
    "print(confusion_matrix(y_test,y_pred))\n",
    "print(classification_report(y_test,y_pred, digits=4))"
   ]
  },
  {
   "cell_type": "markdown",
   "id": "815c2f65",
   "metadata": {},
   "source": [
    "## RF and XGB Hybrid US (XOR)"
   ]
  },
  {
   "cell_type": "code",
   "execution_count": 61,
   "id": "06963d4f",
   "metadata": {
    "scrolled": true
   },
   "outputs": [
    {
     "name": "stdout",
     "output_type": "stream",
     "text": [
      "0.879475205692684\n",
      "[[75143 10164]\n",
      " [  134     2]]\n",
      "              precision    recall  f1-score   support\n",
      "\n",
      "           0     0.9982    0.8809    0.9359     85307\n",
      "           1     0.0002    0.0147    0.0004       136\n",
      "\n",
      "    accuracy                         0.8795     85443\n",
      "   macro avg     0.4992    0.4478    0.4681     85443\n",
      "weighted avg     0.9966    0.8795    0.9344     85443\n",
      "\n"
     ]
    }
   ],
   "source": [
    "y_pred = y_pred_xgb_us ^ y_pred_rf_us\n",
    "print(accuracy_score(y_test,y_pred))\n",
    "print(confusion_matrix(y_test,y_pred))\n",
    "print(classification_report(y_test,y_pred, digits=4))"
   ]
  },
  {
   "cell_type": "markdown",
   "id": "ba4d7399",
   "metadata": {},
   "source": [
    "## RF and XGB Hybrid US (NAND)"
   ]
  },
  {
   "cell_type": "code",
   "execution_count": 62,
   "id": "5f972d4f",
   "metadata": {},
   "outputs": [
    {
     "name": "stdout",
     "output_type": "stream",
     "text": [
      "0.2868579052701801\n",
      "[[24503 60804]\n",
      " [  129     7]]\n",
      "              precision    recall  f1-score   support\n",
      "\n",
      "           0     0.9948    0.2872    0.4458     85307\n",
      "           1     0.0001    0.0515    0.0002       136\n",
      "\n",
      "    accuracy                         0.2869     85443\n",
      "   macro avg     0.4974    0.1694    0.2230     85443\n",
      "weighted avg     0.9932    0.2869    0.4450     85443\n",
      "\n"
     ]
    }
   ],
   "source": [
    "y_pred = negation(y_pred_xgb_us & y_pred_rf_us)\n",
    "print(accuracy_score(y_test,y_pred))\n",
    "print(confusion_matrix(y_test,y_pred))\n",
    "print(classification_report(y_test,y_pred, digits=4))"
   ]
  },
  {
   "cell_type": "markdown",
   "id": "788dde0d",
   "metadata": {},
   "source": [
    "## RF and XGB Hybrid US (NOR)"
   ]
  },
  {
   "cell_type": "code",
   "execution_count": 63,
   "id": "9874c7ca",
   "metadata": {},
   "outputs": [
    {
     "name": "stdout",
     "output_type": "stream",
     "text": [
      "0.40579099516636824\n",
      "[[34667 50640]\n",
      " [  131     5]]\n",
      "              precision    recall  f1-score   support\n",
      "\n",
      "           0     0.9962    0.4064    0.5773     85307\n",
      "           1     0.0001    0.0368    0.0002       136\n",
      "\n",
      "    accuracy                         0.4058     85443\n",
      "   macro avg     0.4982    0.2216    0.2887     85443\n",
      "weighted avg     0.9946    0.4058    0.5764     85443\n",
      "\n"
     ]
    }
   ],
   "source": [
    "y_pred = negation(y_pred_xgb_us | y_pred_rf_us)\n",
    "print(accuracy_score(y_test,y_pred))\n",
    "print(confusion_matrix(y_test,y_pred))\n",
    "print(classification_report(y_test,y_pred, digits=4))"
   ]
  },
  {
   "cell_type": "markdown",
   "id": "ecdd55bf",
   "metadata": {},
   "source": [
    "## RF and XGB Hybrid US (XNOR)"
   ]
  },
  {
   "cell_type": "code",
   "execution_count": 64,
   "id": "5dd35969",
   "metadata": {},
   "outputs": [
    {
     "name": "stdout",
     "output_type": "stream",
     "text": [
      "0.12052479430731598\n",
      "[[10164 75143]\n",
      " [    2   134]]\n",
      "              precision    recall  f1-score   support\n",
      "\n",
      "           0     0.9998    0.1191    0.2129     85307\n",
      "           1     0.0018    0.9853    0.0036       136\n",
      "\n",
      "    accuracy                         0.1205     85443\n",
      "   macro avg     0.5008    0.5522    0.1082     85443\n",
      "weighted avg     0.9982    0.1205    0.2126     85443\n",
      "\n"
     ]
    }
   ],
   "source": [
    "y_pred = negation(y_pred_xgb_us ^ y_pred_rf_us)\n",
    "print(accuracy_score(y_test,y_pred))\n",
    "print(confusion_matrix(y_test,y_pred))\n",
    "print(classification_report(y_test,y_pred, digits=4))"
   ]
  },
  {
   "cell_type": "markdown",
   "id": "5c546b2a",
   "metadata": {},
   "source": [
    "## Ada and GB Hybrid US (AND)"
   ]
  },
  {
   "cell_type": "code",
   "execution_count": 65,
   "id": "7618f9a4",
   "metadata": {},
   "outputs": [
    {
     "name": "stdout",
     "output_type": "stream",
     "text": [
      "0.5679107709233056\n",
      "[[48393 36914]\n",
      " [    5   131]]\n",
      "              precision    recall  f1-score   support\n",
      "\n",
      "           0     0.9999    0.5673    0.7239     85307\n",
      "           1     0.0035    0.9632    0.0070       136\n",
      "\n",
      "    accuracy                         0.5679     85443\n",
      "   macro avg     0.5017    0.7653    0.3655     85443\n",
      "weighted avg     0.9983    0.5679    0.7227     85443\n",
      "\n"
     ]
    }
   ],
   "source": [
    "y_pred = y_pred_ada_us & y_pred_gb_us\n",
    "print(accuracy_score(y_test,y_pred))\n",
    "print(confusion_matrix(y_test,y_pred))\n",
    "print(classification_report(y_test,y_pred, digits=4))"
   ]
  },
  {
   "cell_type": "markdown",
   "id": "43c9b8f0",
   "metadata": {},
   "source": [
    "## Ada and GB Hybrid US (OR)"
   ]
  },
  {
   "cell_type": "code",
   "execution_count": 66,
   "id": "b7ba9790",
   "metadata": {},
   "outputs": [
    {
     "name": "stdout",
     "output_type": "stream",
     "text": [
      "0.5024168158889553\n",
      "[[42796 42511]\n",
      " [    4   132]]\n",
      "              precision    recall  f1-score   support\n",
      "\n",
      "           0     0.9999    0.5017    0.6681     85307\n",
      "           1     0.0031    0.9706    0.0062       136\n",
      "\n",
      "    accuracy                         0.5024     85443\n",
      "   macro avg     0.5015    0.7361    0.3372     85443\n",
      "weighted avg     0.9983    0.5024    0.6671     85443\n",
      "\n"
     ]
    }
   ],
   "source": [
    "y_pred = y_pred_ada_us | y_pred_gb_us\n",
    "print(accuracy_score(y_test,y_pred))\n",
    "print(confusion_matrix(y_test,y_pred))\n",
    "print(classification_report(y_test,y_pred, digits=4))"
   ]
  },
  {
   "cell_type": "markdown",
   "id": "1b2ca23b",
   "metadata": {},
   "source": [
    "## Ada and GB Hybrid US (XOR)"
   ]
  },
  {
   "cell_type": "code",
   "execution_count": 67,
   "id": "5f72f7e3",
   "metadata": {},
   "outputs": [
    {
     "name": "stdout",
     "output_type": "stream",
     "text": [
      "0.9329143405545217\n",
      "[[79710  5597]\n",
      " [  135     1]]\n",
      "              precision    recall  f1-score   support\n",
      "\n",
      "           0     0.9983    0.9344    0.9653     85307\n",
      "           1     0.0002    0.0074    0.0003       136\n",
      "\n",
      "    accuracy                         0.9329     85443\n",
      "   macro avg     0.4992    0.4709    0.4828     85443\n",
      "weighted avg     0.9967    0.9329    0.9638     85443\n",
      "\n"
     ]
    }
   ],
   "source": [
    "y_pred = y_pred_ada_us ^ y_pred_gb_us\n",
    "print(accuracy_score(y_test,y_pred))\n",
    "print(confusion_matrix(y_test,y_pred))\n",
    "print(classification_report(y_test,y_pred, digits=4))"
   ]
  },
  {
   "cell_type": "markdown",
   "id": "6fc8088c",
   "metadata": {},
   "source": [
    "## Ada and GB Hybrid US (NAND)"
   ]
  },
  {
   "cell_type": "code",
   "execution_count": 68,
   "id": "4faa0033",
   "metadata": {},
   "outputs": [
    {
     "name": "stdout",
     "output_type": "stream",
     "text": [
      "0.4320892290766944\n",
      "[[36914 48393]\n",
      " [  131     5]]\n",
      "              precision    recall  f1-score   support\n",
      "\n",
      "           0     0.9965    0.4327    0.6034     85307\n",
      "           1     0.0001    0.0368    0.0002       136\n",
      "\n",
      "    accuracy                         0.4321     85443\n",
      "   macro avg     0.4983    0.2347    0.3018     85443\n",
      "weighted avg     0.9949    0.4321    0.6024     85443\n",
      "\n"
     ]
    }
   ],
   "source": [
    "y_pred = negation(y_pred_ada_us & y_pred_gb_us)\n",
    "print(accuracy_score(y_test,y_pred))\n",
    "print(confusion_matrix(y_test,y_pred))\n",
    "print(classification_report(y_test,y_pred, digits=4))"
   ]
  },
  {
   "cell_type": "markdown",
   "id": "bf8663d9",
   "metadata": {},
   "source": [
    "## Ada and GB Hybrid US (NOR)"
   ]
  },
  {
   "cell_type": "code",
   "execution_count": 69,
   "id": "76b93326",
   "metadata": {},
   "outputs": [
    {
     "name": "stdout",
     "output_type": "stream",
     "text": [
      "0.4975831841110448\n",
      "[[42511 42796]\n",
      " [  132     4]]\n",
      "              precision    recall  f1-score   support\n",
      "\n",
      "           0     0.9969    0.4983    0.6645     85307\n",
      "           1     0.0001    0.0294    0.0002       136\n",
      "\n",
      "    accuracy                         0.4976     85443\n",
      "   macro avg     0.4985    0.2639    0.3323     85443\n",
      "weighted avg     0.9953    0.4976    0.6634     85443\n",
      "\n"
     ]
    }
   ],
   "source": [
    "y_pred = negation(y_pred_ada_us | y_pred_gb_us)\n",
    "print(accuracy_score(y_test,y_pred))\n",
    "print(confusion_matrix(y_test,y_pred))\n",
    "print(classification_report(y_test,y_pred, digits=4))"
   ]
  },
  {
   "cell_type": "markdown",
   "id": "5d09df40",
   "metadata": {},
   "source": [
    "## Ada and GB Hybrid US (XNOR)"
   ]
  },
  {
   "cell_type": "code",
   "execution_count": 70,
   "id": "1d2de7de",
   "metadata": {},
   "outputs": [
    {
     "name": "stdout",
     "output_type": "stream",
     "text": [
      "0.06708565944547827\n",
      "[[ 5597 79710]\n",
      " [    1   135]]\n",
      "              precision    recall  f1-score   support\n",
      "\n",
      "           0     0.9998    0.0656    0.1231     85307\n",
      "           1     0.0017    0.9926    0.0034       136\n",
      "\n",
      "    accuracy                         0.0671     85443\n",
      "   macro avg     0.5008    0.5291    0.0633     85443\n",
      "weighted avg     0.9982    0.0671    0.1229     85443\n",
      "\n"
     ]
    }
   ],
   "source": [
    "y_pred = negation(y_pred_ada_us ^ y_pred_gb_us)\n",
    "print(accuracy_score(y_test,y_pred))\n",
    "print(confusion_matrix(y_test,y_pred))\n",
    "print(classification_report(y_test,y_pred, digits=4))"
   ]
  },
  {
   "cell_type": "markdown",
   "id": "d35e91d9",
   "metadata": {},
   "source": [
    "## Ada and XGB Hybrid US (AND)"
   ]
  },
  {
   "cell_type": "code",
   "execution_count": 71,
   "id": "fbcb28b6",
   "metadata": {},
   "outputs": [
    {
     "name": "stdout",
     "output_type": "stream",
     "text": [
      "0.6166099036784757\n",
      "[[52555 32752]\n",
      " [    6   130]]\n",
      "              precision    recall  f1-score   support\n",
      "\n",
      "           0     0.9999    0.6161    0.7624     85307\n",
      "           1     0.0040    0.9559    0.0079       136\n",
      "\n",
      "    accuracy                         0.6166     85443\n",
      "   macro avg     0.5019    0.7860    0.3851     85443\n",
      "weighted avg     0.9983    0.6166    0.7612     85443\n",
      "\n"
     ]
    }
   ],
   "source": [
    "y_pred = y_pred_ada_us & y_pred_xgb_us\n",
    "print(accuracy_score(y_test,y_pred))\n",
    "print(confusion_matrix(y_test,y_pred))\n",
    "print(classification_report(y_test,y_pred, digits=4))"
   ]
  },
  {
   "cell_type": "markdown",
   "id": "332af935",
   "metadata": {},
   "source": [
    "## Ada and XGB Hybrid US (OR)"
   ]
  },
  {
   "cell_type": "code",
   "execution_count": 72,
   "id": "1ae4753d",
   "metadata": {},
   "outputs": [
    {
     "name": "stdout",
     "output_type": "stream",
     "text": [
      "0.49779385087134115\n",
      "[[42401 42906]\n",
      " [    4   132]]\n",
      "              precision    recall  f1-score   support\n",
      "\n",
      "           0     0.9999    0.4970    0.6640     85307\n",
      "           1     0.0031    0.9706    0.0061       136\n",
      "\n",
      "    accuracy                         0.4978     85443\n",
      "   macro avg     0.5015    0.7338    0.3351     85443\n",
      "weighted avg     0.9983    0.4978    0.6630     85443\n",
      "\n"
     ]
    }
   ],
   "source": [
    "y_pred = y_pred_ada_us | y_pred_xgb_us\n",
    "print(accuracy_score(y_test,y_pred))\n",
    "print(confusion_matrix(y_test,y_pred))\n",
    "print(classification_report(y_test,y_pred, digits=4))"
   ]
  },
  {
   "cell_type": "markdown",
   "id": "81d07d0d",
   "metadata": {},
   "source": [
    "## Ada and XGB Hybrid US (XOR)"
   ]
  },
  {
   "cell_type": "code",
   "execution_count": 73,
   "id": "701f9087",
   "metadata": {},
   "outputs": [
    {
     "name": "stdout",
     "output_type": "stream",
     "text": [
      "0.8795922427817375\n",
      "[[75153 10154]\n",
      " [  134     2]]\n",
      "              precision    recall  f1-score   support\n",
      "\n",
      "           0     0.9982    0.8810    0.9359     85307\n",
      "           1     0.0002    0.0147    0.0004       136\n",
      "\n",
      "    accuracy                         0.8796     85443\n",
      "   macro avg     0.4992    0.4478    0.4682     85443\n",
      "weighted avg     0.9966    0.8796    0.9344     85443\n",
      "\n"
     ]
    }
   ],
   "source": [
    "y_pred = y_pred_ada_us ^ y_pred_xgb_us\n",
    "print(accuracy_score(y_test,y_pred))\n",
    "print(confusion_matrix(y_test,y_pred))\n",
    "print(classification_report(y_test,y_pred, digits=4))"
   ]
  },
  {
   "cell_type": "markdown",
   "id": "81768781",
   "metadata": {},
   "source": [
    "## Ada and XGB Hybrid US (NAND)"
   ]
  },
  {
   "cell_type": "code",
   "execution_count": 74,
   "id": "99d7d11d",
   "metadata": {},
   "outputs": [
    {
     "name": "stdout",
     "output_type": "stream",
     "text": [
      "0.5022061491286589\n",
      "[[42906 42401]\n",
      " [  132     4]]\n",
      "              precision    recall  f1-score   support\n",
      "\n",
      "           0     0.9969    0.5030    0.6686     85307\n",
      "           1     0.0001    0.0294    0.0002       136\n",
      "\n",
      "    accuracy                         0.5022     85443\n",
      "   macro avg     0.4985    0.2662    0.3344     85443\n",
      "weighted avg     0.9953    0.5022    0.6675     85443\n",
      "\n"
     ]
    }
   ],
   "source": [
    "y_pred = negation(y_pred_ada_us | y_pred_xgb_us)\n",
    "print(accuracy_score(y_test,y_pred))\n",
    "print(confusion_matrix(y_test,y_pred))\n",
    "print(classification_report(y_test,y_pred, digits=4))"
   ]
  },
  {
   "cell_type": "markdown",
   "id": "4b7b7e67",
   "metadata": {},
   "source": [
    "## Ada and XGB Hybrid US (NOR)"
   ]
  },
  {
   "cell_type": "code",
   "execution_count": 75,
   "id": "90d7df17",
   "metadata": {},
   "outputs": [
    {
     "name": "stdout",
     "output_type": "stream",
     "text": [
      "0.5022061491286589\n",
      "[[42906 42401]\n",
      " [  132     4]]\n",
      "              precision    recall  f1-score   support\n",
      "\n",
      "           0     0.9969    0.5030    0.6686     85307\n",
      "           1     0.0001    0.0294    0.0002       136\n",
      "\n",
      "    accuracy                         0.5022     85443\n",
      "   macro avg     0.4985    0.2662    0.3344     85443\n",
      "weighted avg     0.9953    0.5022    0.6675     85443\n",
      "\n"
     ]
    }
   ],
   "source": [
    "y_pred = negation(y_pred_ada_us | y_pred_xgb_us)\n",
    "print(accuracy_score(y_test,y_pred))\n",
    "print(confusion_matrix(y_test,y_pred))\n",
    "print(classification_report(y_test,y_pred, digits=4))"
   ]
  },
  {
   "cell_type": "markdown",
   "id": "dcc2eef5",
   "metadata": {},
   "source": [
    "## Ada and XGB Hybrid US (XNOR)"
   ]
  },
  {
   "cell_type": "code",
   "execution_count": 76,
   "id": "84cfb7a2",
   "metadata": {
    "scrolled": true
   },
   "outputs": [
    {
     "name": "stdout",
     "output_type": "stream",
     "text": [
      "0.12040775721826247\n",
      "[[10154 75153]\n",
      " [    2   134]]\n",
      "              precision    recall  f1-score   support\n",
      "\n",
      "           0     0.9998    0.1190    0.2127     85307\n",
      "           1     0.0018    0.9853    0.0036       136\n",
      "\n",
      "    accuracy                         0.1204     85443\n",
      "   macro avg     0.5008    0.5522    0.1081     85443\n",
      "weighted avg     0.9982    0.1204    0.2124     85443\n",
      "\n"
     ]
    }
   ],
   "source": [
    "y_pred = negation(y_pred_ada_us ^ y_pred_xgb_us)\n",
    "print(accuracy_score(y_test,y_pred))\n",
    "print(confusion_matrix(y_test,y_pred))\n",
    "print(classification_report(y_test,y_pred, digits=4))"
   ]
  },
  {
   "cell_type": "markdown",
   "id": "3bb2be37",
   "metadata": {},
   "source": [
    "## GB and XGB Hybrid US (AND)"
   ]
  },
  {
   "cell_type": "code",
   "execution_count": 77,
   "id": "887d8d7a",
   "metadata": {},
   "outputs": [
    {
     "name": "stdout",
     "output_type": "stream",
     "text": [
      "0.6261952412719591\n",
      "[[53373 31934]\n",
      " [    5   131]]\n",
      "              precision    recall  f1-score   support\n",
      "\n",
      "           0     0.9999    0.6257    0.7697     85307\n",
      "           1     0.0041    0.9632    0.0081       136\n",
      "\n",
      "    accuracy                         0.6262     85443\n",
      "   macro avg     0.5020    0.7944    0.3889     85443\n",
      "weighted avg     0.9983    0.6262    0.7685     85443\n",
      "\n"
     ]
    }
   ],
   "source": [
    "y_pred = y_pred_gb_us & y_pred_xgb_us\n",
    "print(accuracy_score(y_test,y_pred))\n",
    "print(confusion_matrix(y_test,y_pred))\n",
    "print(classification_report(y_test,y_pred, digits=4))"
   ]
  },
  {
   "cell_type": "markdown",
   "id": "0e6d76d1",
   "metadata": {},
   "source": [
    "## GB and XGB Hybrid US (OR)"
   ]
  },
  {
   "cell_type": "code",
   "execution_count": 78,
   "id": "aa242a84",
   "metadata": {},
   "outputs": [
    {
     "name": "stdout",
     "output_type": "stream",
     "text": [
      "0.5318633474948211\n",
      "[[45312 39995]\n",
      " [    4   132]]\n",
      "              precision    recall  f1-score   support\n",
      "\n",
      "           0     0.9999    0.5312    0.6938     85307\n",
      "           1     0.0033    0.9706    0.0066       136\n",
      "\n",
      "    accuracy                         0.5319     85443\n",
      "   macro avg     0.5016    0.7509    0.3502     85443\n",
      "weighted avg     0.9983    0.5319    0.6927     85443\n",
      "\n"
     ]
    }
   ],
   "source": [
    "y_pred = y_pred_gb_us | y_pred_xgb_us\n",
    "print(accuracy_score(y_test,y_pred))\n",
    "print(confusion_matrix(y_test,y_pred))\n",
    "print(classification_report(y_test,y_pred, digits=4))"
   ]
  },
  {
   "cell_type": "markdown",
   "id": "b27449af",
   "metadata": {},
   "source": [
    "## GB and XGB Hybrid US (XOR)"
   ]
  },
  {
   "cell_type": "code",
   "execution_count": 79,
   "id": "f04db8e0",
   "metadata": {},
   "outputs": [
    {
     "name": "stdout",
     "output_type": "stream",
     "text": [
      "0.9040764018117341\n",
      "[[77246  8061]\n",
      " [  135     1]]\n",
      "              precision    recall  f1-score   support\n",
      "\n",
      "           0     0.9983    0.9055    0.9496     85307\n",
      "           1     0.0001    0.0074    0.0002       136\n",
      "\n",
      "    accuracy                         0.9041     85443\n",
      "   macro avg     0.4992    0.4564    0.4749     85443\n",
      "weighted avg     0.9967    0.9041    0.9481     85443\n",
      "\n"
     ]
    }
   ],
   "source": [
    "y_pred = y_pred_gb_us ^ y_pred_xgb_us\n",
    "print(accuracy_score(y_test,y_pred))\n",
    "print(confusion_matrix(y_test,y_pred))\n",
    "print(classification_report(y_test,y_pred, digits=4))"
   ]
  },
  {
   "cell_type": "markdown",
   "id": "4f08b120",
   "metadata": {},
   "source": [
    "## GB and XGB Hybrid US (NAND)"
   ]
  },
  {
   "cell_type": "code",
   "execution_count": 80,
   "id": "e5f7bfcc",
   "metadata": {
    "scrolled": true
   },
   "outputs": [
    {
     "name": "stdout",
     "output_type": "stream",
     "text": [
      "0.3738047587280409\n",
      "[[31934 53373]\n",
      " [  131     5]]\n",
      "              precision    recall  f1-score   support\n",
      "\n",
      "           0     0.9959    0.3743    0.5442     85307\n",
      "           1     0.0001    0.0368    0.0002       136\n",
      "\n",
      "    accuracy                         0.3738     85443\n",
      "   macro avg     0.4980    0.2056    0.2722     85443\n",
      "weighted avg     0.9943    0.3738    0.5433     85443\n",
      "\n"
     ]
    }
   ],
   "source": [
    "y_pred = negation(y_pred_gb_us & y_pred_xgb_us)\n",
    "print(accuracy_score(y_test,y_pred))\n",
    "print(confusion_matrix(y_test,y_pred))\n",
    "print(classification_report(y_test,y_pred, digits=4))"
   ]
  },
  {
   "cell_type": "markdown",
   "id": "077084a5",
   "metadata": {},
   "source": [
    "## GB and XGB Hybrid US (NOR)"
   ]
  },
  {
   "cell_type": "code",
   "execution_count": 81,
   "id": "890103ea",
   "metadata": {
    "scrolled": true
   },
   "outputs": [
    {
     "name": "stdout",
     "output_type": "stream",
     "text": [
      "0.4681366525051789\n",
      "[[39995 45312]\n",
      " [  132     4]]\n",
      "              precision    recall  f1-score   support\n",
      "\n",
      "           0     0.9967    0.4688    0.6377     85307\n",
      "           1     0.0001    0.0294    0.0002       136\n",
      "\n",
      "    accuracy                         0.4681     85443\n",
      "   macro avg     0.4984    0.2491    0.3189     85443\n",
      "weighted avg     0.9951    0.4681    0.6367     85443\n",
      "\n"
     ]
    }
   ],
   "source": [
    "y_pred = negation(y_pred_gb_us | y_pred_xgb_us)\n",
    "print(accuracy_score(y_test,y_pred))\n",
    "print(confusion_matrix(y_test,y_pred))\n",
    "print(classification_report(y_test,y_pred,digits=4))"
   ]
  },
  {
   "cell_type": "markdown",
   "id": "271765a1",
   "metadata": {},
   "source": [
    "## GB and XGB Hybrid US (XNOR)"
   ]
  },
  {
   "cell_type": "code",
   "execution_count": 82,
   "id": "651cfce8",
   "metadata": {},
   "outputs": [
    {
     "name": "stdout",
     "output_type": "stream",
     "text": [
      "0.09592359818826586\n",
      "[[ 8061 77246]\n",
      " [    1   135]]\n",
      "              precision    recall  f1-score   support\n",
      "\n",
      "           0     0.9999    0.0945    0.1727     85307\n",
      "           1     0.0017    0.9926    0.0035       136\n",
      "\n",
      "    accuracy                         0.0959     85443\n",
      "   macro avg     0.5008    0.5436    0.0881     85443\n",
      "weighted avg     0.9983    0.0959    0.1724     85443\n",
      "\n"
     ]
    }
   ],
   "source": [
    "y_pred = negation(y_pred_gb_us ^ y_pred_xgb_us)\n",
    "print(accuracy_score(y_test,y_pred))\n",
    "print(confusion_matrix(y_test,y_pred))\n",
    "print(classification_report(y_test,y_pred, digits=4))"
   ]
  },
  {
   "cell_type": "markdown",
   "id": "5760f4f6",
   "metadata": {},
   "source": [
    "## Over Sampling"
   ]
  },
  {
   "cell_type": "code",
   "execution_count": 83,
   "id": "e4a761ba",
   "metadata": {},
   "outputs": [],
   "source": [
    "from imblearn.over_sampling import RandomOverSampler"
   ]
  },
  {
   "cell_type": "code",
   "execution_count": 84,
   "id": "c2b876d6",
   "metadata": {},
   "outputs": [
    {
     "name": "stderr",
     "output_type": "stream",
     "text": [
      "/home/abhigyan/.local/lib/python3.8/site-packages/imblearn/utils/_validation.py:586: FutureWarning: Pass sampling_strategy=0.75 as keyword args. From version 0.9 passing these as positional arguments will result in an error\n",
      "  warnings.warn(\n"
     ]
    },
    {
     "name": "stdout",
     "output_type": "stream",
     "text": [
      "The samples before fit Counter({0: 199008, 1: 356})\n",
      "The samples before fit Counter({0: 199008, 1: 149256})\n"
     ]
    }
   ],
   "source": [
    "os = RandomOverSampler(0.75)\n",
    "x_train_os,y_train_os = os.fit_resample(x_train,y_train)\n",
    "print(\"The samples before fit {}\".format(Counter(y_train)))\n",
    "print(\"The samples before fit {}\".format(Counter(y_train_os)))"
   ]
  },
  {
   "cell_type": "markdown",
   "id": "8e10e0d2",
   "metadata": {},
   "source": [
    "## Rf with OS"
   ]
  },
  {
   "cell_type": "code",
   "execution_count": 85,
   "id": "6b8ebc20",
   "metadata": {},
   "outputs": [],
   "source": [
    "rf.fit(x_train_os,y_train_os)\n",
    "y_pred_rf_os = rf.predict(x_test)"
   ]
  },
  {
   "cell_type": "markdown",
   "id": "68d516e1",
   "metadata": {},
   "source": [
    "## Ada with OS"
   ]
  },
  {
   "cell_type": "code",
   "execution_count": 86,
   "id": "977e1d13",
   "metadata": {},
   "outputs": [],
   "source": [
    "ada.fit(x_train_os,y_train_os)\n",
    "y_pred_ada_os = ada.predict(x_test)"
   ]
  },
  {
   "cell_type": "markdown",
   "id": "514f92b3",
   "metadata": {},
   "source": [
    "## Gb with OS"
   ]
  },
  {
   "cell_type": "code",
   "execution_count": 87,
   "id": "273d0095",
   "metadata": {
    "scrolled": true
   },
   "outputs": [],
   "source": [
    "gb.fit(x_train_os,y_train_os)\n",
    "y_pred_gb_os = gb.predict(x_test)"
   ]
  },
  {
   "cell_type": "markdown",
   "id": "028320f6",
   "metadata": {},
   "source": [
    "## XGB with OS"
   ]
  },
  {
   "cell_type": "code",
   "execution_count": 88,
   "id": "7e53178d",
   "metadata": {},
   "outputs": [
    {
     "name": "stderr",
     "output_type": "stream",
     "text": [
      "/home/abhigyan/.local/lib/python3.8/site-packages/xgboost/sklearn.py:1224: UserWarning: The use of label encoder in XGBClassifier is deprecated and will be removed in a future release. To remove this warning, do the following: 1) Pass option use_label_encoder=False when constructing XGBClassifier object; and 2) Encode your labels (y) as integers starting with 0, i.e. 0, 1, 2, ..., [num_class - 1].\n",
      "  warnings.warn(label_encoder_deprecation_msg, UserWarning)\n",
      "/home/abhigyan/.local/lib/python3.8/site-packages/xgboost/data.py:262: FutureWarning: pandas.Int64Index is deprecated and will be removed from pandas in a future version. Use pandas.Index with the appropriate dtype instead.\n",
      "  elif isinstance(data.columns, (pd.Int64Index, pd.RangeIndex)):\n"
     ]
    },
    {
     "name": "stdout",
     "output_type": "stream",
     "text": [
      "[17:06:16] WARNING: ../src/learner.cc:1115: Starting in XGBoost 1.3.0, the default evaluation metric used with the objective 'binary:logistic' was changed from 'error' to 'logloss'. Explicitly set eval_metric if you'd like to restore the old behavior.\n"
     ]
    }
   ],
   "source": [
    "from sklearn.metrics import accuracy_score,confusion_matrix,classification_report\n",
    "xgb.fit(x_train_os,y_train_os)\n",
    "y_pred_xgb_os = xgb.predict(x_test)"
   ]
  },
  {
   "cell_type": "markdown",
   "id": "884106f3",
   "metadata": {},
   "source": [
    "## Adaboost and GB Hybrid OS (AND)"
   ]
  },
  {
   "cell_type": "code",
   "execution_count": 89,
   "id": "63b89676",
   "metadata": {
    "scrolled": true
   },
   "outputs": [
    {
     "name": "stdout",
     "output_type": "stream",
     "text": [
      "0.9967697763421228\n",
      "[[85042   265]\n",
      " [   11   125]]\n",
      "              precision    recall  f1-score   support\n",
      "\n",
      "           0     0.9999    0.9969    0.9984     85307\n",
      "           1     0.3205    0.9191    0.4753       136\n",
      "\n",
      "    accuracy                         0.9968     85443\n",
      "   macro avg     0.6602    0.9580    0.7368     85443\n",
      "weighted avg     0.9988    0.9968    0.9975     85443\n",
      "\n"
     ]
    }
   ],
   "source": [
    "y_pred = y_pred_ada_os & y_pred_gb_os\n",
    "print(accuracy_score(y_test,y_pred))\n",
    "print(confusion_matrix(y_test,y_pred))\n",
    "print(classification_report(y_test,y_pred, digits=4))"
   ]
  },
  {
   "cell_type": "markdown",
   "id": "1880cd86",
   "metadata": {},
   "source": [
    "## Adaboost and GB Hybrid OS (OR)"
   ]
  },
  {
   "cell_type": "code",
   "execution_count": 90,
   "id": "6eb4c4dc",
   "metadata": {},
   "outputs": [
    {
     "name": "stdout",
     "output_type": "stream",
     "text": [
      "0.9876759945226642\n",
      "[[84263  1044]\n",
      " [    9   127]]\n",
      "              precision    recall  f1-score   support\n",
      "\n",
      "           0     0.9999    0.9878    0.9938     85307\n",
      "           1     0.1085    0.9338    0.1943       136\n",
      "\n",
      "    accuracy                         0.9877     85443\n",
      "   macro avg     0.5542    0.9608    0.5941     85443\n",
      "weighted avg     0.9985    0.9877    0.9925     85443\n",
      "\n"
     ]
    }
   ],
   "source": [
    "y_pred = y_pred_ada_os | y_pred_gb_os\n",
    "print(accuracy_score(y_test,y_pred))\n",
    "print(confusion_matrix(y_test,y_pred))\n",
    "print(classification_report(y_test,y_pred, digits=4))"
   ]
  },
  {
   "cell_type": "markdown",
   "id": "17ae3ee4",
   "metadata": {},
   "source": [
    "## Adaboost and GB Hybrid OS (XOR)"
   ]
  },
  {
   "cell_type": "code",
   "execution_count": 91,
   "id": "f55d5695",
   "metadata": {},
   "outputs": [
    {
     "name": "stdout",
     "output_type": "stream",
     "text": [
      "0.9893145137694135\n",
      "[[84528   779]\n",
      " [  134     2]]\n",
      "              precision    recall  f1-score   support\n",
      "\n",
      "           0     0.9984    0.9909    0.9946     85307\n",
      "           1     0.0026    0.0147    0.0044       136\n",
      "\n",
      "    accuracy                         0.9893     85443\n",
      "   macro avg     0.5005    0.5028    0.4995     85443\n",
      "weighted avg     0.9968    0.9893    0.9931     85443\n",
      "\n"
     ]
    }
   ],
   "source": [
    "y_pred = y_pred_ada_os ^ y_pred_gb_os\n",
    "print(accuracy_score(y_test,y_pred))\n",
    "print(confusion_matrix(y_test,y_pred))\n",
    "print(classification_report(y_test,y_pred, digits=4))"
   ]
  },
  {
   "cell_type": "markdown",
   "id": "0234e74f",
   "metadata": {},
   "source": [
    "## GB and ada Hybrid OS (NAND)"
   ]
  },
  {
   "cell_type": "code",
   "execution_count": 92,
   "id": "b29da355",
   "metadata": {},
   "outputs": [
    {
     "name": "stdout",
     "output_type": "stream",
     "text": [
      "0.003230223657877181\n",
      "[[  265 85042]\n",
      " [  125    11]]\n",
      "              precision    recall  f1-score   support\n",
      "\n",
      "           0     0.6795    0.0031    0.0062     85307\n",
      "           1     0.0001    0.0809    0.0003       136\n",
      "\n",
      "    accuracy                         0.0032     85443\n",
      "   macro avg     0.3398    0.0420    0.0032     85443\n",
      "weighted avg     0.6784    0.0032    0.0062     85443\n",
      "\n"
     ]
    }
   ],
   "source": [
    "y_pred = negation(y_pred_gb_os & y_pred_ada_os)\n",
    "print(accuracy_score(y_test,y_pred))\n",
    "print(confusion_matrix(y_test,y_pred))\n",
    "print(classification_report(y_test,y_pred, digits=4))"
   ]
  },
  {
   "cell_type": "markdown",
   "id": "f9b27be3",
   "metadata": {},
   "source": [
    "## GB and ada Hybrid OS (NOR)"
   ]
  },
  {
   "cell_type": "code",
   "execution_count": 93,
   "id": "9a3e9af1",
   "metadata": {},
   "outputs": [
    {
     "name": "stdout",
     "output_type": "stream",
     "text": [
      "0.012324005477335767\n",
      "[[ 1044 84263]\n",
      " [  127     9]]\n",
      "              precision    recall  f1-score   support\n",
      "\n",
      "           0     0.8915    0.0122    0.0241     85307\n",
      "           1     0.0001    0.0662    0.0002       136\n",
      "\n",
      "    accuracy                         0.0123     85443\n",
      "   macro avg     0.4458    0.0392    0.0122     85443\n",
      "weighted avg     0.8901    0.0123    0.0241     85443\n",
      "\n"
     ]
    }
   ],
   "source": [
    "y_pred = negation(y_pred_gb_os | y_pred_ada_os)\n",
    "print(accuracy_score(y_test,y_pred))\n",
    "print(confusion_matrix(y_test,y_pred))\n",
    "print(classification_report(y_test,y_pred, digits=4))"
   ]
  },
  {
   "cell_type": "markdown",
   "id": "3860e2eb",
   "metadata": {},
   "source": [
    "## GB and ada Hybrid OS (XNOR)"
   ]
  },
  {
   "cell_type": "code",
   "execution_count": 94,
   "id": "2e961546",
   "metadata": {},
   "outputs": [
    {
     "name": "stdout",
     "output_type": "stream",
     "text": [
      "0.010685486230586473\n",
      "[[  779 84528]\n",
      " [    2   134]]\n",
      "              precision    recall  f1-score   support\n",
      "\n",
      "           0     0.9974    0.0091    0.0181     85307\n",
      "           1     0.0016    0.9853    0.0032       136\n",
      "\n",
      "    accuracy                         0.0107     85443\n",
      "   macro avg     0.4995    0.4972    0.0106     85443\n",
      "weighted avg     0.9959    0.0107    0.0181     85443\n",
      "\n"
     ]
    }
   ],
   "source": [
    "y_pred = negation(y_pred_gb_os ^ y_pred_ada_os)\n",
    "print(accuracy_score(y_test,y_pred))\n",
    "print(confusion_matrix(y_test,y_pred))\n",
    "print(classification_report(y_test,y_pred, digits=4))"
   ]
  },
  {
   "cell_type": "markdown",
   "id": "bd839d62",
   "metadata": {},
   "source": [
    "## SMOTETomek"
   ]
  },
  {
   "cell_type": "code",
   "execution_count": 95,
   "id": "314576f4",
   "metadata": {},
   "outputs": [],
   "source": [
    "from imblearn.combine import SMOTETomek"
   ]
  },
  {
   "cell_type": "code",
   "execution_count": 96,
   "id": "1d794ec4",
   "metadata": {},
   "outputs": [
    {
     "name": "stdout",
     "output_type": "stream",
     "text": [
      "The samples before fit Counter({0: 199008, 1: 356})\n",
      "The samples before fit Counter({0: 198366, 1: 198366})\n"
     ]
    }
   ],
   "source": [
    "sm = SMOTETomek()\n",
    "x_train_sm,y_train_sm = sm.fit_resample(x_train,y_train)\n",
    "print(\"The samples before fit {}\".format(Counter(y_train)))\n",
    "print(\"The samples before fit {}\".format(Counter(y_train_sm)))"
   ]
  },
  {
   "cell_type": "code",
   "execution_count": 97,
   "id": "cebc2a35",
   "metadata": {},
   "outputs": [
    {
     "data": {
      "text/plain": [
       "Counter({1: 136, 0: 85307})"
      ]
     },
     "execution_count": 97,
     "metadata": {},
     "output_type": "execute_result"
    }
   ],
   "source": [
    "Counter(y_test)"
   ]
  },
  {
   "cell_type": "markdown",
   "id": "5ab9afe9",
   "metadata": {},
   "source": [
    "## Rf with SMOTETomek"
   ]
  },
  {
   "cell_type": "code",
   "execution_count": 98,
   "id": "3a629073",
   "metadata": {},
   "outputs": [],
   "source": [
    "rf.fit(x_train_sm,y_train_sm)\n",
    "y_pred_rf_sm = rf.predict(x_test)"
   ]
  },
  {
   "cell_type": "markdown",
   "id": "7a1f9d20",
   "metadata": {},
   "source": [
    "## Ada with SMOTETomek"
   ]
  },
  {
   "cell_type": "code",
   "execution_count": 99,
   "id": "52180308",
   "metadata": {},
   "outputs": [],
   "source": [
    "ada.fit(x_train_sm,y_train_sm)\n",
    "y_pred_ada_sm = ada.predict(x_test)"
   ]
  },
  {
   "cell_type": "markdown",
   "id": "2b4bfb4b",
   "metadata": {},
   "source": [
    "## Gb with SMOTETomek"
   ]
  },
  {
   "cell_type": "code",
   "execution_count": 100,
   "id": "9813769c",
   "metadata": {},
   "outputs": [],
   "source": [
    "gb.fit(x_train_sm,y_train_sm)\n",
    "y_pred_gb_sm = gb.predict(x_test)"
   ]
  },
  {
   "cell_type": "markdown",
   "id": "dc988d77",
   "metadata": {},
   "source": [
    "## XGB with SMOTETomek"
   ]
  },
  {
   "cell_type": "code",
   "execution_count": 101,
   "id": "28d04f18",
   "metadata": {
    "scrolled": true
   },
   "outputs": [
    {
     "name": "stderr",
     "output_type": "stream",
     "text": [
      "/home/abhigyan/.local/lib/python3.8/site-packages/xgboost/sklearn.py:1224: UserWarning: The use of label encoder in XGBClassifier is deprecated and will be removed in a future release. To remove this warning, do the following: 1) Pass option use_label_encoder=False when constructing XGBClassifier object; and 2) Encode your labels (y) as integers starting with 0, i.e. 0, 1, 2, ..., [num_class - 1].\n",
      "  warnings.warn(label_encoder_deprecation_msg, UserWarning)\n",
      "/home/abhigyan/.local/lib/python3.8/site-packages/xgboost/data.py:262: FutureWarning: pandas.Int64Index is deprecated and will be removed from pandas in a future version. Use pandas.Index with the appropriate dtype instead.\n",
      "  elif isinstance(data.columns, (pd.Int64Index, pd.RangeIndex)):\n"
     ]
    },
    {
     "name": "stdout",
     "output_type": "stream",
     "text": [
      "[18:13:20] WARNING: ../src/learner.cc:1115: Starting in XGBoost 1.3.0, the default evaluation metric used with the objective 'binary:logistic' was changed from 'error' to 'logloss'. Explicitly set eval_metric if you'd like to restore the old behavior.\n"
     ]
    }
   ],
   "source": [
    "from sklearn.metrics import accuracy_score,confusion_matrix,classification_report\n",
    "xgb.fit(x_train_sm,y_train_sm)\n",
    "y_pred_xgb_sm = xgb.predict(x_test)"
   ]
  },
  {
   "cell_type": "markdown",
   "id": "23d20e96",
   "metadata": {},
   "source": [
    "## Adaboost and GB Hybrid SMOTETomek (AND)"
   ]
  },
  {
   "cell_type": "code",
   "execution_count": 102,
   "id": "c942097a",
   "metadata": {},
   "outputs": [
    {
     "name": "stdout",
     "output_type": "stream",
     "text": [
      "0.9962197020235712\n",
      "[[84997   310]\n",
      " [   13   123]]\n",
      "              precision    recall  f1-score   support\n",
      "\n",
      "           0     0.9998    0.9964    0.9981     85307\n",
      "           1     0.2841    0.9044    0.4323       136\n",
      "\n",
      "    accuracy                         0.9962     85443\n",
      "   macro avg     0.6420    0.9504    0.7152     85443\n",
      "weighted avg     0.9987    0.9962    0.9972     85443\n",
      "\n"
     ]
    }
   ],
   "source": [
    "y_pred = y_pred_ada_sm & y_pred_gb_sm\n",
    "print(accuracy_score(y_test,y_pred))\n",
    "print(confusion_matrix(y_test,y_pred))\n",
    "print(classification_report(y_test,y_pred, digits=4))"
   ]
  },
  {
   "cell_type": "markdown",
   "id": "9ff83143",
   "metadata": {},
   "source": [
    "## Adaboost and GB Hybrid SMOTETomek (OR)"
   ]
  },
  {
   "cell_type": "code",
   "execution_count": 103,
   "id": "583c322f",
   "metadata": {},
   "outputs": [
    {
     "name": "stdout",
     "output_type": "stream",
     "text": [
      "0.9884718467282282\n",
      "[[84330   977]\n",
      " [    8   128]]\n",
      "              precision    recall  f1-score   support\n",
      "\n",
      "           0     0.9999    0.9885    0.9942     85307\n",
      "           1     0.1158    0.9412    0.2063       136\n",
      "\n",
      "    accuracy                         0.9885     85443\n",
      "   macro avg     0.5579    0.9649    0.6002     85443\n",
      "weighted avg     0.9985    0.9885    0.9929     85443\n",
      "\n"
     ]
    }
   ],
   "source": [
    "y_pred = y_pred_ada_sm | y_pred_gb_sm\n",
    "print(accuracy_score(y_test,y_pred))\n",
    "print(confusion_matrix(y_test,y_pred))\n",
    "print(classification_report(y_test,y_pred, digits=4))"
   ]
  },
  {
   "cell_type": "markdown",
   "id": "7b5af25c",
   "metadata": {},
   "source": [
    "## Adaboost and GB Hybrid SMOTETomek (XOR)"
   ]
  },
  {
   "cell_type": "code",
   "execution_count": 104,
   "id": "29b89266",
   "metadata": {
    "scrolled": true
   },
   "outputs": [
    {
     "name": "stdout",
     "output_type": "stream",
     "text": [
      "0.9906604402935291\n",
      "[[84640   667]\n",
      " [  131     5]]\n",
      "              precision    recall  f1-score   support\n",
      "\n",
      "           0     0.9985    0.9922    0.9953     85307\n",
      "           1     0.0074    0.0368    0.0124       136\n",
      "\n",
      "    accuracy                         0.9907     85443\n",
      "   macro avg     0.5029    0.5145    0.5038     85443\n",
      "weighted avg     0.9969    0.9907    0.9937     85443\n",
      "\n"
     ]
    }
   ],
   "source": [
    "y_pred = y_pred_ada_sm ^ y_pred_gb_sm\n",
    "print(accuracy_score(y_test,y_pred))\n",
    "print(confusion_matrix(y_test,y_pred))\n",
    "print(classification_report(y_test,y_pred, digits=4))"
   ]
  },
  {
   "cell_type": "markdown",
   "id": "2bba4b0f",
   "metadata": {},
   "source": [
    "## Adaboost and GB Hybrid SMOTETomek (NAND)"
   ]
  },
  {
   "cell_type": "code",
   "execution_count": 105,
   "id": "4d1866cb",
   "metadata": {
    "scrolled": true
   },
   "outputs": [
    {
     "name": "stdout",
     "output_type": "stream",
     "text": [
      "0.00378029797642873\n",
      "[[  310 84997]\n",
      " [  123    13]]\n",
      "              precision    recall  f1-score   support\n",
      "\n",
      "           0     0.7159    0.0036    0.0072     85307\n",
      "           1     0.0002    0.0956    0.0003       136\n",
      "\n",
      "    accuracy                         0.0038     85443\n",
      "   macro avg     0.3580    0.0496    0.0038     85443\n",
      "weighted avg     0.7148    0.0038    0.0072     85443\n",
      "\n"
     ]
    }
   ],
   "source": [
    "y_pred = negation(y_pred_ada_sm & y_pred_gb_sm)\n",
    "print(accuracy_score(y_test,y_pred))\n",
    "print(confusion_matrix(y_test,y_pred))\n",
    "print(classification_report(y_test,y_pred, digits=4))"
   ]
  },
  {
   "cell_type": "markdown",
   "id": "e60a8f2e",
   "metadata": {},
   "source": [
    "## Adaboost and GB Hybrid SMOTETomek (NOR)"
   ]
  },
  {
   "cell_type": "code",
   "execution_count": 106,
   "id": "95c670d2",
   "metadata": {},
   "outputs": [
    {
     "name": "stdout",
     "output_type": "stream",
     "text": [
      "0.011528153271771825\n",
      "[[  977 84330]\n",
      " [  128     8]]\n",
      "              precision    recall  f1-score   support\n",
      "\n",
      "           0     0.8842    0.0115    0.0226     85307\n",
      "           1     0.0001    0.0588    0.0002       136\n",
      "\n",
      "    accuracy                         0.0115     85443\n",
      "   macro avg     0.4421    0.0351    0.0114     85443\n",
      "weighted avg     0.8828    0.0115    0.0226     85443\n",
      "\n"
     ]
    }
   ],
   "source": [
    "y_pred = negation(y_pred_ada_sm | y_pred_gb_sm)\n",
    "print(accuracy_score(y_test,y_pred))\n",
    "print(confusion_matrix(y_test,y_pred))\n",
    "print(classification_report(y_test,y_pred, digits=4))"
   ]
  },
  {
   "cell_type": "markdown",
   "id": "bfbd84d0",
   "metadata": {},
   "source": [
    "## Adaboost and GB Hybrid SMOTETomek (XNOR)"
   ]
  },
  {
   "cell_type": "code",
   "execution_count": 107,
   "id": "b1f7f7a2",
   "metadata": {},
   "outputs": [
    {
     "name": "stdout",
     "output_type": "stream",
     "text": [
      "0.009339559706470981\n",
      "[[  667 84640]\n",
      " [    5   131]]\n",
      "              precision    recall  f1-score   support\n",
      "\n",
      "           0     0.9926    0.0078    0.0155     85307\n",
      "           1     0.0015    0.9632    0.0031       136\n",
      "\n",
      "    accuracy                         0.0093     85443\n",
      "   macro avg     0.4971    0.4855    0.0093     85443\n",
      "weighted avg     0.9910    0.0093    0.0155     85443\n",
      "\n"
     ]
    }
   ],
   "source": [
    "y_pred = negation(y_pred_ada_sm ^ y_pred_gb_sm)\n",
    "print(accuracy_score(y_test,y_pred))\n",
    "print(confusion_matrix(y_test,y_pred))\n",
    "print(classification_report(y_test,y_pred, digits=4))"
   ]
  }
 ],
 "metadata": {
  "kernelspec": {
   "display_name": "Python 3 (ipykernel)",
   "language": "python",
   "name": "python3"
  },
  "language_info": {
   "codemirror_mode": {
    "name": "ipython",
    "version": 3
   },
   "file_extension": ".py",
   "mimetype": "text/x-python",
   "name": "python",
   "nbconvert_exporter": "python",
   "pygments_lexer": "ipython3",
   "version": "3.8.10"
  }
 },
 "nbformat": 4,
 "nbformat_minor": 5
}
