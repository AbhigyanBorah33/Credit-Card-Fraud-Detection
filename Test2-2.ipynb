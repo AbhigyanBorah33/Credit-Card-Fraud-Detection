{
 "cells": [
  {
   "cell_type": "markdown",
   "id": "7a26c344",
   "metadata": {},
   "source": [
    "## AND, OR, XOR, NAND, NOR, XNOR using CC_FRAUD.csv"
   ]
  },
  {
   "cell_type": "markdown",
   "id": "65f7a684",
   "metadata": {},
   "source": [
    "### Load Packages"
   ]
  },
  {
   "cell_type": "code",
   "execution_count": 1,
   "id": "4493a9b8",
   "metadata": {},
   "outputs": [],
   "source": [
    "import pandas as pd\n",
    "import numpy as np\n",
    "import seaborn as sns\n",
    "from sklearn.model_selection import KFold\n",
    "from sklearn.metrics import accuracy_score,confusion_matrix,classification_report,roc_auc_score\n",
    "from sklearn.metrics import make_scorer, accuracy_score, precision_score, recall_score, f1_score"
   ]
  },
  {
   "cell_type": "markdown",
   "id": "c4f5d93b",
   "metadata": {},
   "source": [
    "### Read Data"
   ]
  },
  {
   "cell_type": "code",
   "execution_count": 2,
   "id": "a6181fb5",
   "metadata": {},
   "outputs": [],
   "source": [
    "df = pd.read_csv(\"CC_FRAUD.csv\")"
   ]
  },
  {
   "cell_type": "markdown",
   "id": "a2cf5e6b",
   "metadata": {},
   "source": [
    "### Glimse of data"
   ]
  },
  {
   "cell_type": "code",
   "execution_count": 3,
   "id": "e447ce34",
   "metadata": {},
   "outputs": [
    {
     "data": {
      "text/html": [
       "<div>\n",
       "<style scoped>\n",
       "    .dataframe tbody tr th:only-of-type {\n",
       "        vertical-align: middle;\n",
       "    }\n",
       "\n",
       "    .dataframe tbody tr th {\n",
       "        vertical-align: top;\n",
       "    }\n",
       "\n",
       "    .dataframe thead th {\n",
       "        text-align: right;\n",
       "    }\n",
       "</style>\n",
       "<table border=\"1\" class=\"dataframe\">\n",
       "  <thead>\n",
       "    <tr style=\"text-align: right;\">\n",
       "      <th></th>\n",
       "      <th>DOMAIN</th>\n",
       "      <th>STATE</th>\n",
       "      <th>ZIPCODE</th>\n",
       "      <th>TIME1</th>\n",
       "      <th>TIME2</th>\n",
       "      <th>VIS1</th>\n",
       "      <th>VIS2</th>\n",
       "      <th>XRN1</th>\n",
       "      <th>XRN2</th>\n",
       "      <th>XRN3</th>\n",
       "      <th>XRN4</th>\n",
       "      <th>XRN5</th>\n",
       "      <th>VAR1</th>\n",
       "      <th>VAR2</th>\n",
       "      <th>VAR3</th>\n",
       "      <th>VAR4</th>\n",
       "      <th>VAR5</th>\n",
       "      <th>TRN_AMT</th>\n",
       "      <th>TOTAL_TRN_AMT</th>\n",
       "      <th>TRN_TYPE</th>\n",
       "    </tr>\n",
       "  </thead>\n",
       "  <tbody>\n",
       "    <tr>\n",
       "      <th>0</th>\n",
       "      <td>CDRZLKAJIJVQHCN.COM</td>\n",
       "      <td>AO</td>\n",
       "      <td>675</td>\n",
       "      <td>12</td>\n",
       "      <td>12</td>\n",
       "      <td>1</td>\n",
       "      <td>0</td>\n",
       "      <td>0</td>\n",
       "      <td>1</td>\n",
       "      <td>1</td>\n",
       "      <td>0</td>\n",
       "      <td>1</td>\n",
       "      <td>2</td>\n",
       "      <td>1</td>\n",
       "      <td>16.680</td>\n",
       "      <td>34</td>\n",
       "      <td>0</td>\n",
       "      <td>12.95</td>\n",
       "      <td>12.95</td>\n",
       "      <td>0</td>\n",
       "    </tr>\n",
       "    <tr>\n",
       "      <th>1</th>\n",
       "      <td>NEKSXUK.NET</td>\n",
       "      <td>KK</td>\n",
       "      <td>680</td>\n",
       "      <td>18</td>\n",
       "      <td>18</td>\n",
       "      <td>1</td>\n",
       "      <td>0</td>\n",
       "      <td>0</td>\n",
       "      <td>0</td>\n",
       "      <td>0</td>\n",
       "      <td>0</td>\n",
       "      <td>1</td>\n",
       "      <td>3</td>\n",
       "      <td>0</td>\n",
       "      <td>37.880</td>\n",
       "      <td>23</td>\n",
       "      <td>0</td>\n",
       "      <td>38.85</td>\n",
       "      <td>38.85</td>\n",
       "      <td>0</td>\n",
       "    </tr>\n",
       "    <tr>\n",
       "      <th>2</th>\n",
       "      <td>XOSOP.COM</td>\n",
       "      <td>UO</td>\n",
       "      <td>432</td>\n",
       "      <td>3</td>\n",
       "      <td>3</td>\n",
       "      <td>1</td>\n",
       "      <td>0</td>\n",
       "      <td>0</td>\n",
       "      <td>1</td>\n",
       "      <td>1</td>\n",
       "      <td>0</td>\n",
       "      <td>1</td>\n",
       "      <td>3</td>\n",
       "      <td>1</td>\n",
       "      <td>-9.080</td>\n",
       "      <td>19</td>\n",
       "      <td>2</td>\n",
       "      <td>38.85</td>\n",
       "      <td>38.85</td>\n",
       "      <td>0</td>\n",
       "    </tr>\n",
       "    <tr>\n",
       "      <th>3</th>\n",
       "      <td>TMA.COM</td>\n",
       "      <td>KR</td>\n",
       "      <td>119</td>\n",
       "      <td>23</td>\n",
       "      <td>23</td>\n",
       "      <td>0</td>\n",
       "      <td>0</td>\n",
       "      <td>1</td>\n",
       "      <td>0</td>\n",
       "      <td>0</td>\n",
       "      <td>0</td>\n",
       "      <td>3</td>\n",
       "      <td>0</td>\n",
       "      <td>0</td>\n",
       "      <td>-6.392</td>\n",
       "      <td>18</td>\n",
       "      <td>0</td>\n",
       "      <td>11.01</td>\n",
       "      <td>11.01</td>\n",
       "      <td>0</td>\n",
       "    </tr>\n",
       "    <tr>\n",
       "      <th>4</th>\n",
       "      <td>VUHZRNB.COM</td>\n",
       "      <td>PO</td>\n",
       "      <td>614</td>\n",
       "      <td>9</td>\n",
       "      <td>9</td>\n",
       "      <td>0</td>\n",
       "      <td>0</td>\n",
       "      <td>0</td>\n",
       "      <td>1</td>\n",
       "      <td>0</td>\n",
       "      <td>0</td>\n",
       "      <td>1</td>\n",
       "      <td>3</td>\n",
       "      <td>0</td>\n",
       "      <td>42.512</td>\n",
       "      <td>7</td>\n",
       "      <td>0</td>\n",
       "      <td>12.95</td>\n",
       "      <td>12.95</td>\n",
       "      <td>0</td>\n",
       "    </tr>\n",
       "  </tbody>\n",
       "</table>\n",
       "</div>"
      ],
      "text/plain": [
       "                DOMAIN STATE  ZIPCODE  TIME1  TIME2  VIS1  VIS2  XRN1  XRN2  \\\n",
       "0  CDRZLKAJIJVQHCN.COM    AO      675     12     12     1     0     0     1   \n",
       "1          NEKSXUK.NET    KK      680     18     18     1     0     0     0   \n",
       "2            XOSOP.COM    UO      432      3      3     1     0     0     1   \n",
       "3              TMA.COM    KR      119     23     23     0     0     1     0   \n",
       "4          VUHZRNB.COM    PO      614      9      9     0     0     0     1   \n",
       "\n",
       "   XRN3  XRN4  XRN5  VAR1  VAR2    VAR3  VAR4  VAR5  TRN_AMT  TOTAL_TRN_AMT  \\\n",
       "0     1     0     1     2     1  16.680    34     0    12.95          12.95   \n",
       "1     0     0     1     3     0  37.880    23     0    38.85          38.85   \n",
       "2     1     0     1     3     1  -9.080    19     2    38.85          38.85   \n",
       "3     0     0     3     0     0  -6.392    18     0    11.01          11.01   \n",
       "4     0     0     1     3     0  42.512     7     0    12.95          12.95   \n",
       "\n",
       "   TRN_TYPE  \n",
       "0         0  \n",
       "1         0  \n",
       "2         0  \n",
       "3         0  \n",
       "4         0  "
      ]
     },
     "execution_count": 3,
     "metadata": {},
     "output_type": "execute_result"
    }
   ],
   "source": [
    "df.head()"
   ]
  },
  {
   "cell_type": "code",
   "execution_count": 4,
   "id": "a0be4eb6",
   "metadata": {},
   "outputs": [
    {
     "data": {
      "text/plain": [
       "(94682, 20)"
      ]
     },
     "execution_count": 4,
     "metadata": {},
     "output_type": "execute_result"
    }
   ],
   "source": [
    "df.shape"
   ]
  },
  {
   "cell_type": "code",
   "execution_count": 5,
   "id": "c600c1f2",
   "metadata": {},
   "outputs": [
    {
     "data": {
      "text/plain": [
       "0    92588\n",
       "1     2094\n",
       "Name: TRN_TYPE, dtype: int64"
      ]
     },
     "execution_count": 5,
     "metadata": {},
     "output_type": "execute_result"
    }
   ],
   "source": [
    "df[\"TRN_TYPE\"].value_counts()"
   ]
  },
  {
   "cell_type": "markdown",
   "id": "cf5cb49a",
   "metadata": {},
   "source": [
    "### Credit card Fraud- data unbalance"
   ]
  },
  {
   "cell_type": "code",
   "execution_count": 6,
   "id": "9dbbe3ff",
   "metadata": {},
   "outputs": [
    {
     "name": "stderr",
     "output_type": "stream",
     "text": [
      "/home/abhigyan/.local/lib/python3.8/site-packages/seaborn/_decorators.py:36: FutureWarning: Pass the following variable as a keyword arg: x. From version 0.12, the only valid positional argument will be `data`, and passing other arguments without an explicit keyword will result in an error or misinterpretation.\n",
      "  warnings.warn(\n"
     ]
    },
    {
     "data": {
      "text/plain": [
       "[Text(0, 0, 'Normal'), Text(1, 0, 'Fraud')]"
      ]
     },
     "execution_count": 6,
     "metadata": {},
     "output_type": "execute_result"
    },
    {
     "data": {
      "image/png": "[encoded data removed]",
      "text/plain": [
       "<Figure size 432x288 with 1 Axes>"
      ]
     },
     "metadata": {
      "needs_background": "light"
     },
     "output_type": "display_data"
    }
   ],
   "source": [
    "graph = sns.countplot(df[\"TRN_TYPE\"],data=df)\n",
    "graph.set_xticklabels([\"Normal\",\"Fraud\"])"
   ]
  },
  {
   "cell_type": "markdown",
   "id": "788fc2b9",
   "metadata": {},
   "source": [
    "### check for missing values"
   ]
  },
  {
   "cell_type": "code",
   "execution_count": 7,
   "id": "5ddf3176",
   "metadata": {},
   "outputs": [
    {
     "data": {
      "text/plain": [
       "<AxesSubplot:>"
      ]
     },
     "execution_count": 7,
     "metadata": {},
     "output_type": "execute_result"
    },
    {
     "data": {
      "image/png": "[encoded data removed]",
      "text/plain": [
       "<Figure size 720x360 with 1 Axes>"
      ]
     },
     "metadata": {
      "needs_background": "light"
     },
     "output_type": "display_data"
    }
   ],
   "source": [
    "import matplotlib.pyplot as plt\n",
    "%matplotlib inline\n",
    "plt.figure(figsize=(10,5))\n",
    "sns.heatmap(df.isnull(),yticklabels=False,cmap='viridis',cbar=False)"
   ]
  },
  {
   "cell_type": "code",
   "execution_count": 8,
   "id": "9f5318b4",
   "metadata": {},
   "outputs": [],
   "source": [
    "target = df[\"TRN_TYPE\"]"
   ]
  },
  {
   "cell_type": "code",
   "execution_count": 9,
   "id": "ae00d3d4",
   "metadata": {},
   "outputs": [
    {
     "data": {
      "text/plain": [
       "0        0\n",
       "1        0\n",
       "2        0\n",
       "3        0\n",
       "4        0\n",
       "        ..\n",
       "94677    0\n",
       "94678    0\n",
       "94679    0\n",
       "94680    0\n",
       "94681    0\n",
       "Name: TRN_TYPE, Length: 94682, dtype: int64"
      ]
     },
     "execution_count": 9,
     "metadata": {},
     "output_type": "execute_result"
    }
   ],
   "source": [
    "target"
   ]
  },
  {
   "cell_type": "code",
   "execution_count": 10,
   "id": "3cccb733",
   "metadata": {},
   "outputs": [],
   "source": [
    "df= df.drop([\"DOMAIN\",\"STATE\",\"ZIPCODE\",\"TRN_TYPE\"],axis=1)"
   ]
  },
  {
   "cell_type": "code",
   "execution_count": 11,
   "id": "d374cce1",
   "metadata": {},
   "outputs": [
    {
     "data": {
      "text/html": [
       "<div>\n",
       "<style scoped>\n",
       "    .dataframe tbody tr th:only-of-type {\n",
       "        vertical-align: middle;\n",
       "    }\n",
       "\n",
       "    .dataframe tbody tr th {\n",
       "        vertical-align: top;\n",
       "    }\n",
       "\n",
       "    .dataframe thead th {\n",
       "        text-align: right;\n",
       "    }\n",
       "</style>\n",
       "<table border=\"1\" class=\"dataframe\">\n",
       "  <thead>\n",
       "    <tr style=\"text-align: right;\">\n",
       "      <th></th>\n",
       "      <th>TIME1</th>\n",
       "      <th>TIME2</th>\n",
       "      <th>VIS1</th>\n",
       "      <th>VIS2</th>\n",
       "      <th>XRN1</th>\n",
       "      <th>XRN2</th>\n",
       "      <th>XRN3</th>\n",
       "      <th>XRN4</th>\n",
       "      <th>XRN5</th>\n",
       "      <th>VAR1</th>\n",
       "      <th>VAR2</th>\n",
       "      <th>VAR3</th>\n",
       "      <th>VAR4</th>\n",
       "      <th>VAR5</th>\n",
       "      <th>TRN_AMT</th>\n",
       "      <th>TOTAL_TRN_AMT</th>\n",
       "    </tr>\n",
       "  </thead>\n",
       "  <tbody>\n",
       "    <tr>\n",
       "      <th>0</th>\n",
       "      <td>12</td>\n",
       "      <td>12</td>\n",
       "      <td>1</td>\n",
       "      <td>0</td>\n",
       "      <td>0</td>\n",
       "      <td>1</td>\n",
       "      <td>1</td>\n",
       "      <td>0</td>\n",
       "      <td>1</td>\n",
       "      <td>2</td>\n",
       "      <td>1</td>\n",
       "      <td>16.680</td>\n",
       "      <td>34</td>\n",
       "      <td>0</td>\n",
       "      <td>12.95</td>\n",
       "      <td>12.95</td>\n",
       "    </tr>\n",
       "    <tr>\n",
       "      <th>1</th>\n",
       "      <td>18</td>\n",
       "      <td>18</td>\n",
       "      <td>1</td>\n",
       "      <td>0</td>\n",
       "      <td>0</td>\n",
       "      <td>0</td>\n",
       "      <td>0</td>\n",
       "      <td>0</td>\n",
       "      <td>1</td>\n",
       "      <td>3</td>\n",
       "      <td>0</td>\n",
       "      <td>37.880</td>\n",
       "      <td>23</td>\n",
       "      <td>0</td>\n",
       "      <td>38.85</td>\n",
       "      <td>38.85</td>\n",
       "    </tr>\n",
       "    <tr>\n",
       "      <th>2</th>\n",
       "      <td>3</td>\n",
       "      <td>3</td>\n",
       "      <td>1</td>\n",
       "      <td>0</td>\n",
       "      <td>0</td>\n",
       "      <td>1</td>\n",
       "      <td>1</td>\n",
       "      <td>0</td>\n",
       "      <td>1</td>\n",
       "      <td>3</td>\n",
       "      <td>1</td>\n",
       "      <td>-9.080</td>\n",
       "      <td>19</td>\n",
       "      <td>2</td>\n",
       "      <td>38.85</td>\n",
       "      <td>38.85</td>\n",
       "    </tr>\n",
       "    <tr>\n",
       "      <th>3</th>\n",
       "      <td>23</td>\n",
       "      <td>23</td>\n",
       "      <td>0</td>\n",
       "      <td>0</td>\n",
       "      <td>1</td>\n",
       "      <td>0</td>\n",
       "      <td>0</td>\n",
       "      <td>0</td>\n",
       "      <td>3</td>\n",
       "      <td>0</td>\n",
       "      <td>0</td>\n",
       "      <td>-6.392</td>\n",
       "      <td>18</td>\n",
       "      <td>0</td>\n",
       "      <td>11.01</td>\n",
       "      <td>11.01</td>\n",
       "    </tr>\n",
       "    <tr>\n",
       "      <th>4</th>\n",
       "      <td>9</td>\n",
       "      <td>9</td>\n",
       "      <td>0</td>\n",
       "      <td>0</td>\n",
       "      <td>0</td>\n",
       "      <td>1</td>\n",
       "      <td>0</td>\n",
       "      <td>0</td>\n",
       "      <td>1</td>\n",
       "      <td>3</td>\n",
       "      <td>0</td>\n",
       "      <td>42.512</td>\n",
       "      <td>7</td>\n",
       "      <td>0</td>\n",
       "      <td>12.95</td>\n",
       "      <td>12.95</td>\n",
       "    </tr>\n",
       "  </tbody>\n",
       "</table>\n",
       "</div>"
      ],
      "text/plain": [
       "   TIME1  TIME2  VIS1  VIS2  XRN1  XRN2  XRN3  XRN4  XRN5  VAR1  VAR2    VAR3  \\\n",
       "0     12     12     1     0     0     1     1     0     1     2     1  16.680   \n",
       "1     18     18     1     0     0     0     0     0     1     3     0  37.880   \n",
       "2      3      3     1     0     0     1     1     0     1     3     1  -9.080   \n",
       "3     23     23     0     0     1     0     0     0     3     0     0  -6.392   \n",
       "4      9      9     0     0     0     1     0     0     1     3     0  42.512   \n",
       "\n",
       "   VAR4  VAR5  TRN_AMT  TOTAL_TRN_AMT  \n",
       "0    34     0    12.95          12.95  \n",
       "1    23     0    38.85          38.85  \n",
       "2    19     2    38.85          38.85  \n",
       "3    18     0    11.01          11.01  \n",
       "4     7     0    12.95          12.95  "
      ]
     },
     "execution_count": 11,
     "metadata": {},
     "output_type": "execute_result"
    }
   ],
   "source": [
    "df.head()"
   ]
  },
  {
   "cell_type": "markdown",
   "id": "b53ef954",
   "metadata": {},
   "source": [
    "## splitting data in train and test sets"
   ]
  },
  {
   "cell_type": "code",
   "execution_count": 12,
   "id": "86815d7e",
   "metadata": {},
   "outputs": [],
   "source": [
    "from sklearn.model_selection import train_test_split\n",
    "x_train,x_test,y_train,y_test = train_test_split(df,target,test_size=0.3,random_state=42)"
   ]
  },
  {
   "cell_type": "code",
   "execution_count": 13,
   "id": "712c96ea",
   "metadata": {},
   "outputs": [
    {
     "data": {
      "text/plain": [
       "(28405, 16)"
      ]
     },
     "execution_count": 13,
     "metadata": {},
     "output_type": "execute_result"
    }
   ],
   "source": [
    "x_test.shape"
   ]
  },
  {
   "cell_type": "code",
   "execution_count": 14,
   "id": "ef2d90d2",
   "metadata": {},
   "outputs": [
    {
     "data": {
      "text/plain": [
       "(66277, 16)"
      ]
     },
     "execution_count": 14,
     "metadata": {},
     "output_type": "execute_result"
    }
   ],
   "source": [
    "x_train.shape"
   ]
  },
  {
   "cell_type": "code",
   "execution_count": 15,
   "id": "459b8347",
   "metadata": {},
   "outputs": [
    {
     "data": {
      "text/plain": [
       "0    27769\n",
       "1      636\n",
       "Name: TRN_TYPE, dtype: int64"
      ]
     },
     "execution_count": 15,
     "metadata": {},
     "output_type": "execute_result"
    }
   ],
   "source": [
    "y_test.value_counts()"
   ]
  },
  {
   "cell_type": "markdown",
   "id": "11a612da",
   "metadata": {},
   "source": [
    "## Random Forest"
   ]
  },
  {
   "cell_type": "code",
   "execution_count": 16,
   "id": "7e7ad8a6",
   "metadata": {},
   "outputs": [],
   "source": [
    "from sklearn.ensemble import RandomForestClassifier\n",
    "rf = RandomForestClassifier()\n",
    "from sklearn.model_selection import cross_val_score"
   ]
  },
  {
   "cell_type": "code",
   "execution_count": 17,
   "id": "d2979fe3",
   "metadata": {},
   "outputs": [],
   "source": [
    "from sklearn.model_selection import cross_validate\n",
    "\n",
    "scoring = {'accuracy' : make_scorer(accuracy_score), \n",
    "           'precision' : make_scorer(precision_score),\n",
    "           'recall' : make_scorer(recall_score), \n",
    "           'f1_score' : make_scorer(f1_score)}\n",
    "\n",
    "kfold = KFold(n_splits=10, random_state=42, shuffle=True) \n",
    "\n",
    "results = cross_validate(estimator=rf,\n",
    "                                          X=df,\n",
    "                                          y=target,\n",
    "                                          cv=kfold,\n",
    "                                          scoring=scoring)"
   ]
  },
  {
   "cell_type": "code",
   "execution_count": 18,
   "id": "8637383e",
   "metadata": {},
   "outputs": [
    {
     "data": {
      "text/plain": [
       "{'fit_time': array([15.62853885, 13.34750867, 15.2167418 , 13.57386279, 14.94461536,\n",
       "        13.46903443, 16.25557494, 14.95307446, 14.02482343, 14.60130572]),\n",
       " 'score_time': array([0.31609988, 0.32493258, 0.26607084, 0.29225636, 0.33255768,\n",
       "        0.30772901, 0.30359149, 0.30533075, 0.3223989 , 0.2888999 ]),\n",
       " 'test_accuracy': array([0.97518217, 0.97813919, 0.97634136, 0.97782003, 0.9765526 ,\n",
       "        0.97613012, 0.97697507, 0.97887621, 0.97729193, 0.97496831]),\n",
       " 'test_precision': array([0.24137931, 0.26315789, 0.375     , 0.43333333, 0.26315789,\n",
       "        0.13333333, 0.26666667, 0.38888889, 0.25      , 0.17857143]),\n",
       " 'test_recall': array([0.03181818, 0.02525253, 0.0412844 , 0.0631068 , 0.02347418,\n",
       "        0.00930233, 0.03921569, 0.03571429, 0.02439024, 0.02283105]),\n",
       " 'test_f1_score': array([0.0562249 , 0.04608295, 0.07438017, 0.11016949, 0.04310345,\n",
       "        0.0173913 , 0.06837607, 0.06542056, 0.04444444, 0.04048583])}"
      ]
     },
     "execution_count": 18,
     "metadata": {},
     "output_type": "execute_result"
    }
   ],
   "source": [
    "results"
   ]
  },
  {
   "cell_type": "code",
   "execution_count": 19,
   "id": "3c14679c",
   "metadata": {},
   "outputs": [
    {
     "data": {
      "text/plain": [
       "0.0316389676961633"
      ]
     },
     "execution_count": 19,
     "metadata": {},
     "output_type": "execute_result"
    }
   ],
   "source": [
    "precision = np.mean(results['test_precision'])\n",
    "precision\n",
    "np.mean(results['test_recall'])"
   ]
  },
  {
   "cell_type": "code",
   "execution_count": 20,
   "id": "d3db6cfe",
   "metadata": {},
   "outputs": [
    {
     "data": {
      "text/plain": [
       "RandomForestClassifier()"
      ]
     },
     "execution_count": 20,
     "metadata": {},
     "output_type": "execute_result"
    }
   ],
   "source": [
    "rf.fit(x_train,y_train)"
   ]
  },
  {
   "cell_type": "code",
   "execution_count": 21,
   "id": "2eca5ace",
   "metadata": {
    "scrolled": true
   },
   "outputs": [
    {
     "name": "stdout",
     "output_type": "stream",
     "text": [
      "0.9767294490406618\n",
      "[[27727    42]\n",
      " [  619    17]]\n",
      "              precision    recall  f1-score   support\n",
      "\n",
      "           0     0.9782    0.9985    0.9882     27769\n",
      "           1     0.2881    0.0267    0.0489       636\n",
      "\n",
      "    accuracy                         0.9767     28405\n",
      "   macro avg     0.6331    0.5126    0.5186     28405\n",
      "weighted avg     0.9627    0.9767    0.9672     28405\n",
      "\n"
     ]
    }
   ],
   "source": [
    "y_pred_rf = rf.predict(x_test)\n",
    "print(accuracy_score(y_test,y_pred_rf))\n",
    "print(confusion_matrix(y_test,y_pred_rf))\n",
    "print(classification_report(y_test,y_pred_rf, digits=4))"
   ]
  },
  {
   "cell_type": "markdown",
   "id": "45d3704d",
   "metadata": {},
   "source": [
    "## AdaBoost"
   ]
  },
  {
   "cell_type": "code",
   "execution_count": 22,
   "id": "48b1f174",
   "metadata": {},
   "outputs": [
    {
     "data": {
      "text/plain": [
       "AdaBoostClassifier(learning_rate=0.8, n_estimators=100, random_state=42)"
      ]
     },
     "execution_count": 22,
     "metadata": {},
     "output_type": "execute_result"
    }
   ],
   "source": [
    "from sklearn.ensemble import AdaBoostClassifier\n",
    "ada = AdaBoostClassifier(n_estimators = 100, random_state = 42,algorithm='SAMME.R',\n",
    "                         learning_rate=0.8,)\n",
    "ada.fit(x_train,y_train)"
   ]
  },
  {
   "cell_type": "code",
   "execution_count": 23,
   "id": "34f4bb39",
   "metadata": {},
   "outputs": [
    {
     "name": "stdout",
     "output_type": "stream",
     "text": [
      "0.9776095757789122\n",
      "[[27769     0]\n",
      " [  636     0]]\n",
      "              precision    recall  f1-score   support\n",
      "\n",
      "           0     0.9776    1.0000    0.9887     27769\n",
      "           1     0.0000    0.0000    0.0000       636\n",
      "\n",
      "    accuracy                         0.9776     28405\n",
      "   macro avg     0.4888    0.5000    0.4943     28405\n",
      "weighted avg     0.9557    0.9776    0.9665     28405\n",
      "\n"
     ]
    },
    {
     "name": "stderr",
     "output_type": "stream",
     "text": [
      "/home/abhigyan/.local/lib/python3.8/site-packages/sklearn/metrics/_classification.py:1318: UndefinedMetricWarning: Precision and F-score are ill-defined and being set to 0.0 in labels with no predicted samples. Use `zero_division` parameter to control this behavior.\n",
      "  _warn_prf(average, modifier, msg_start, len(result))\n",
      "/home/abhigyan/.local/lib/python3.8/site-packages/sklearn/metrics/_classification.py:1318: UndefinedMetricWarning: Precision and F-score are ill-defined and being set to 0.0 in labels with no predicted samples. Use `zero_division` parameter to control this behavior.\n",
      "  _warn_prf(average, modifier, msg_start, len(result))\n",
      "/home/abhigyan/.local/lib/python3.8/site-packages/sklearn/metrics/_classification.py:1318: UndefinedMetricWarning: Precision and F-score are ill-defined and being set to 0.0 in labels with no predicted samples. Use `zero_division` parameter to control this behavior.\n",
      "  _warn_prf(average, modifier, msg_start, len(result))\n"
     ]
    }
   ],
   "source": [
    "y_pred_ada = ada.predict(x_test)\n",
    "print(accuracy_score(y_test,y_pred_ada))\n",
    "print(confusion_matrix(y_test,y_pred_ada))\n",
    "print(classification_report(y_test,y_pred_ada, digits=4))"
   ]
  },
  {
   "cell_type": "markdown",
   "id": "34458305",
   "metadata": {},
   "source": [
    "## Gradient Boosting"
   ]
  },
  {
   "cell_type": "code",
   "execution_count": 24,
   "id": "27b2af12",
   "metadata": {},
   "outputs": [],
   "source": [
    "from sklearn.ensemble import GradientBoostingClassifier\n",
    "gb = GradientBoostingClassifier()"
   ]
  },
  {
   "cell_type": "code",
   "execution_count": 25,
   "id": "f027d7ae",
   "metadata": {
    "scrolled": true
   },
   "outputs": [
    {
     "data": {
      "text/plain": [
       "GradientBoostingClassifier()"
      ]
     },
     "execution_count": 25,
     "metadata": {},
     "output_type": "execute_result"
    }
   ],
   "source": [
    "from sklearn.metrics import accuracy_score,confusion_matrix,classification_report\n",
    "gb.fit(x_train,y_train)"
   ]
  },
  {
   "cell_type": "code",
   "execution_count": 26,
   "id": "fefbfd4d",
   "metadata": {},
   "outputs": [
    {
     "name": "stdout",
     "output_type": "stream",
     "text": [
      "0.977187114944552\n",
      "[[27757    12]\n",
      " [  636     0]]\n",
      "              precision    recall  f1-score   support\n",
      "\n",
      "           0     0.9776    0.9996    0.9885     27769\n",
      "           1     0.0000    0.0000    0.0000       636\n",
      "\n",
      "    accuracy                         0.9772     28405\n",
      "   macro avg     0.4888    0.4998    0.4942     28405\n",
      "weighted avg     0.9557    0.9772    0.9663     28405\n",
      "\n"
     ]
    }
   ],
   "source": [
    "y_pred_gb = gb.predict(x_test)\n",
    "print(accuracy_score(y_test,y_pred_gb))\n",
    "print(confusion_matrix(y_test,y_pred_gb))\n",
    "print(classification_report(y_test,y_pred_gb, digits=4))"
   ]
  },
  {
   "cell_type": "markdown",
   "id": "391504d0",
   "metadata": {},
   "source": [
    "## XG Boost"
   ]
  },
  {
   "cell_type": "code",
   "execution_count": 27,
   "id": "ddbf4691",
   "metadata": {},
   "outputs": [
    {
     "name": "stderr",
     "output_type": "stream",
     "text": [
      "/home/abhigyan/.local/lib/python3.8/site-packages/xgboost/compat.py:36: FutureWarning: pandas.Int64Index is deprecated and will be removed from pandas in a future version. Use pandas.Index with the appropriate dtype instead.\n",
      "  from pandas import MultiIndex, Int64Index\n"
     ]
    }
   ],
   "source": [
    "from xgboost import XGBClassifier\n",
    "xgb = XGBClassifier()"
   ]
  },
  {
   "cell_type": "code",
   "execution_count": 28,
   "id": "98fedaf4",
   "metadata": {
    "scrolled": true
   },
   "outputs": [
    {
     "name": "stderr",
     "output_type": "stream",
     "text": [
      "/home/abhigyan/.local/lib/python3.8/site-packages/xgboost/sklearn.py:1224: UserWarning: The use of label encoder in XGBClassifier is deprecated and will be removed in a future release. To remove this warning, do the following: 1) Pass option use_label_encoder=False when constructing XGBClassifier object; and 2) Encode your labels (y) as integers starting with 0, i.e. 0, 1, 2, ..., [num_class - 1].\n",
      "  warnings.warn(label_encoder_deprecation_msg, UserWarning)\n",
      "/home/abhigyan/.local/lib/python3.8/site-packages/xgboost/data.py:262: FutureWarning: pandas.Int64Index is deprecated and will be removed from pandas in a future version. Use pandas.Index with the appropriate dtype instead.\n",
      "  elif isinstance(data.columns, (pd.Int64Index, pd.RangeIndex)):\n"
     ]
    },
    {
     "name": "stdout",
     "output_type": "stream",
     "text": [
      "[20:24:35] WARNING: ../src/learner.cc:1115: Starting in XGBoost 1.3.0, the default evaluation metric used with the objective 'binary:logistic' was changed from 'error' to 'logloss'. Explicitly set eval_metric if you'd like to restore the old behavior.\n"
     ]
    },
    {
     "data": {
      "text/plain": [
       "XGBClassifier(base_score=0.5, booster='gbtree', colsample_bylevel=1,\n",
       "              colsample_bynode=1, colsample_bytree=1, enable_categorical=False,\n",
       "              gamma=0, gpu_id=-1, importance_type=None,\n",
       "              interaction_constraints='', learning_rate=0.300000012,\n",
       "              max_delta_step=0, max_depth=6, min_child_weight=1, missing=nan,\n",
       "              monotone_constraints='()', n_estimators=100, n_jobs=4,\n",
       "              num_parallel_tree=1, predictor='auto', random_state=0,\n",
       "              reg_alpha=0, reg_lambda=1, scale_pos_weight=1, subsample=1,\n",
       "              tree_method='exact', validate_parameters=1, verbosity=None)"
      ]
     },
     "execution_count": 28,
     "metadata": {},
     "output_type": "execute_result"
    }
   ],
   "source": [
    "xgb.fit(x_train,y_train)"
   ]
  },
  {
   "cell_type": "code",
   "execution_count": 29,
   "id": "3f42f6de",
   "metadata": {},
   "outputs": [
    {
     "name": "stdout",
     "output_type": "stream",
     "text": [
      "0.9775039605703221\n",
      "[[27762     7]\n",
      " [  632     4]]\n",
      "              precision    recall  f1-score   support\n",
      "\n",
      "           0     0.9777    0.9997    0.9886     27769\n",
      "           1     0.3636    0.0063    0.0124       636\n",
      "\n",
      "    accuracy                         0.9775     28405\n",
      "   macro avg     0.6707    0.5030    0.5005     28405\n",
      "weighted avg     0.9640    0.9775    0.9668     28405\n",
      "\n"
     ]
    }
   ],
   "source": [
    "y_pred_xgb = xgb.predict(x_test)\n",
    "print(accuracy_score(y_test,y_pred_xgb))\n",
    "print(confusion_matrix(y_test,y_pred_xgb))\n",
    "print(classification_report(y_test,y_pred_xgb, digits=4))"
   ]
  },
  {
   "cell_type": "markdown",
   "id": "f4e5d860",
   "metadata": {},
   "source": [
    "## Not Logic"
   ]
  },
  {
   "cell_type": "code",
   "execution_count": 30,
   "id": "a11db373",
   "metadata": {},
   "outputs": [],
   "source": [
    "def negation(y):\n",
    "    x = np.where(y == 0, 1, 0)\n",
    "    return x"
   ]
  },
  {
   "cell_type": "code",
   "execution_count": 31,
   "id": "8f6490fb",
   "metadata": {},
   "outputs": [
    {
     "data": {
      "text/plain": [
       "array([0, 1, 0, 0, 1, 0, 1])"
      ]
     },
     "execution_count": 31,
     "metadata": {},
     "output_type": "execute_result"
    }
   ],
   "source": [
    "arr1 = np.array([1,0,1,1,0,1,0])\n",
    "arr2 = negation(arr1)\n",
    "arr2"
   ]
  },
  {
   "cell_type": "markdown",
   "id": "2b866343",
   "metadata": {},
   "source": [
    "## Adaboost and GB (AND)"
   ]
  },
  {
   "cell_type": "code",
   "execution_count": 32,
   "id": "0d998bff",
   "metadata": {
    "scrolled": false
   },
   "outputs": [
    {
     "name": "stdout",
     "output_type": "stream",
     "text": [
      "0.9776095757789122\n",
      "[[27769     0]\n",
      " [  636     0]]\n",
      "              precision    recall  f1-score   support\n",
      "\n",
      "           0     0.9776    1.0000    0.9887     27769\n",
      "           1     0.0000    0.0000    0.0000       636\n",
      "\n",
      "    accuracy                         0.9776     28405\n",
      "   macro avg     0.4888    0.5000    0.4943     28405\n",
      "weighted avg     0.9557    0.9776    0.9665     28405\n",
      "\n"
     ]
    },
    {
     "name": "stderr",
     "output_type": "stream",
     "text": [
      "/home/abhigyan/.local/lib/python3.8/site-packages/sklearn/metrics/_classification.py:1318: UndefinedMetricWarning: Precision and F-score are ill-defined and being set to 0.0 in labels with no predicted samples. Use `zero_division` parameter to control this behavior.\n",
      "  _warn_prf(average, modifier, msg_start, len(result))\n",
      "/home/abhigyan/.local/lib/python3.8/site-packages/sklearn/metrics/_classification.py:1318: UndefinedMetricWarning: Precision and F-score are ill-defined and being set to 0.0 in labels with no predicted samples. Use `zero_division` parameter to control this behavior.\n",
      "  _warn_prf(average, modifier, msg_start, len(result))\n",
      "/home/abhigyan/.local/lib/python3.8/site-packages/sklearn/metrics/_classification.py:1318: UndefinedMetricWarning: Precision and F-score are ill-defined and being set to 0.0 in labels with no predicted samples. Use `zero_division` parameter to control this behavior.\n",
      "  _warn_prf(average, modifier, msg_start, len(result))\n"
     ]
    }
   ],
   "source": [
    "y_pred = y_pred_ada & y_pred_gb\n",
    "print(accuracy_score(y_test,y_pred))\n",
    "print(confusion_matrix(y_test,y_pred))\n",
    "print(classification_report(y_test,y_pred, digits=4))"
   ]
  },
  {
   "cell_type": "markdown",
   "id": "e5a834a1",
   "metadata": {},
   "source": [
    "## Adaboost and Gradient Boost (OR)"
   ]
  },
  {
   "cell_type": "code",
   "execution_count": 33,
   "id": "2bd61d3a",
   "metadata": {},
   "outputs": [
    {
     "name": "stdout",
     "output_type": "stream",
     "text": [
      "0.977187114944552\n",
      "[[27757    12]\n",
      " [  636     0]]\n",
      "              precision    recall  f1-score   support\n",
      "\n",
      "           0     0.9776    0.9996    0.9885     27769\n",
      "           1     0.0000    0.0000    0.0000       636\n",
      "\n",
      "    accuracy                         0.9772     28405\n",
      "   macro avg     0.4888    0.4998    0.4942     28405\n",
      "weighted avg     0.9557    0.9772    0.9663     28405\n",
      "\n"
     ]
    }
   ],
   "source": [
    "y_pred = y_pred_ada | y_pred_gb\n",
    "print(accuracy_score(y_test,y_pred))\n",
    "print(confusion_matrix(y_test,y_pred))\n",
    "print(classification_report(y_test,y_pred, digits=4))"
   ]
  },
  {
   "cell_type": "markdown",
   "id": "8a7b1863",
   "metadata": {},
   "source": [
    "## Adaboost and GB (XOR) "
   ]
  },
  {
   "cell_type": "code",
   "execution_count": 34,
   "id": "047665af",
   "metadata": {
    "scrolled": true
   },
   "outputs": [
    {
     "name": "stdout",
     "output_type": "stream",
     "text": [
      "0.977187114944552\n",
      "[[27757    12]\n",
      " [  636     0]]\n",
      "              precision    recall  f1-score   support\n",
      "\n",
      "           0     0.9776    0.9996    0.9885     27769\n",
      "           1     0.0000    0.0000    0.0000       636\n",
      "\n",
      "    accuracy                         0.9772     28405\n",
      "   macro avg     0.4888    0.4998    0.4942     28405\n",
      "weighted avg     0.9557    0.9772    0.9663     28405\n",
      "\n"
     ]
    }
   ],
   "source": [
    "y_pred = y_pred_ada ^ y_pred_gb\n",
    "print(accuracy_score(y_test,y_pred))\n",
    "print(confusion_matrix(y_test,y_pred))\n",
    "print(classification_report(y_test,y_pred, digits=4))"
   ]
  },
  {
   "cell_type": "markdown",
   "id": "9c994101",
   "metadata": {},
   "source": [
    "## Adaboost and GB (NAND)"
   ]
  },
  {
   "cell_type": "code",
   "execution_count": 35,
   "id": "6e6c5d55",
   "metadata": {
    "scrolled": true
   },
   "outputs": [
    {
     "name": "stdout",
     "output_type": "stream",
     "text": [
      "0.022390424221087838\n",
      "[[    0 27769]\n",
      " [    0   636]]\n",
      "              precision    recall  f1-score   support\n",
      "\n",
      "           0     0.0000    0.0000    0.0000     27769\n",
      "           1     0.0224    1.0000    0.0438       636\n",
      "\n",
      "    accuracy                         0.0224     28405\n",
      "   macro avg     0.0112    0.5000    0.0219     28405\n",
      "weighted avg     0.0005    0.0224    0.0010     28405\n",
      "\n"
     ]
    },
    {
     "name": "stderr",
     "output_type": "stream",
     "text": [
      "/home/abhigyan/.local/lib/python3.8/site-packages/sklearn/metrics/_classification.py:1318: UndefinedMetricWarning: Precision and F-score are ill-defined and being set to 0.0 in labels with no predicted samples. Use `zero_division` parameter to control this behavior.\n",
      "  _warn_prf(average, modifier, msg_start, len(result))\n",
      "/home/abhigyan/.local/lib/python3.8/site-packages/sklearn/metrics/_classification.py:1318: UndefinedMetricWarning: Precision and F-score are ill-defined and being set to 0.0 in labels with no predicted samples. Use `zero_division` parameter to control this behavior.\n",
      "  _warn_prf(average, modifier, msg_start, len(result))\n",
      "/home/abhigyan/.local/lib/python3.8/site-packages/sklearn/metrics/_classification.py:1318: UndefinedMetricWarning: Precision and F-score are ill-defined and being set to 0.0 in labels with no predicted samples. Use `zero_division` parameter to control this behavior.\n",
      "  _warn_prf(average, modifier, msg_start, len(result))\n"
     ]
    }
   ],
   "source": [
    "y_pred = negation(y_pred_ada & y_pred_gb)\n",
    "y_pred.shape\n",
    "print(accuracy_score(y_test,y_pred))\n",
    "print(confusion_matrix(y_test,y_pred))\n",
    "print(classification_report(y_test,y_pred, digits=4))"
   ]
  },
  {
   "cell_type": "markdown",
   "id": "22ef81e8",
   "metadata": {},
   "source": [
    "## Ada and GB (NOR)"
   ]
  },
  {
   "cell_type": "code",
   "execution_count": 36,
   "id": "65d540ad",
   "metadata": {},
   "outputs": [
    {
     "name": "stdout",
     "output_type": "stream",
     "text": [
      "0.022812885055447985\n",
      "[[   12 27757]\n",
      " [    0   636]]\n",
      "              precision    recall  f1-score   support\n",
      "\n",
      "           0     1.0000    0.0004    0.0009     27769\n",
      "           1     0.0224    1.0000    0.0438       636\n",
      "\n",
      "    accuracy                         0.0228     28405\n",
      "   macro avg     0.5112    0.5002    0.0223     28405\n",
      "weighted avg     0.9781    0.0228    0.0018     28405\n",
      "\n"
     ]
    }
   ],
   "source": [
    "y_pred = negation(y_pred_ada | y_pred_gb)\n",
    "print(accuracy_score(y_test,y_pred))\n",
    "print(confusion_matrix(y_test,y_pred))\n",
    "print(classification_report(y_test,y_pred, digits=4))"
   ]
  },
  {
   "cell_type": "markdown",
   "id": "a6fd0349",
   "metadata": {},
   "source": [
    "## Ada and GB (XNOR)"
   ]
  },
  {
   "cell_type": "code",
   "execution_count": 37,
   "id": "17241cd6",
   "metadata": {},
   "outputs": [
    {
     "name": "stdout",
     "output_type": "stream",
     "text": [
      "0.022812885055447985\n",
      "[[   12 27757]\n",
      " [    0   636]]\n",
      "              precision    recall  f1-score   support\n",
      "\n",
      "           0     1.0000    0.0004    0.0009     27769\n",
      "           1     0.0224    1.0000    0.0438       636\n",
      "\n",
      "    accuracy                         0.0228     28405\n",
      "   macro avg     0.5112    0.5002    0.0223     28405\n",
      "weighted avg     0.9781    0.0228    0.0018     28405\n",
      "\n"
     ]
    }
   ],
   "source": [
    "y_pred = negation((y_pred_ada ^ y_pred_gb))\n",
    "print(accuracy_score(y_test,y_pred))\n",
    "print(confusion_matrix(y_test,y_pred))\n",
    "print(classification_report(y_test,y_pred, digits=4))"
   ]
  },
  {
   "cell_type": "markdown",
   "id": "e7c233e7",
   "metadata": {},
   "source": [
    "## Under Sampling"
   ]
  },
  {
   "cell_type": "code",
   "execution_count": 38,
   "id": "a6b09983",
   "metadata": {},
   "outputs": [],
   "source": [
    "from imblearn.under_sampling import NearMiss\n",
    "from collections import Counter"
   ]
  },
  {
   "cell_type": "code",
   "execution_count": 39,
   "id": "62629f2c",
   "metadata": {},
   "outputs": [
    {
     "name": "stderr",
     "output_type": "stream",
     "text": [
      "/home/abhigyan/.local/lib/python3.8/site-packages/imblearn/utils/_validation.py:586: FutureWarning: Pass sampling_strategy=0.8 as keyword args. From version 0.9 passing these as positional arguments will result in an error\n",
      "  warnings.warn(\n"
     ]
    },
    {
     "name": "stdout",
     "output_type": "stream",
     "text": [
      "The samples before fit Counter({0: 64819, 1: 1458})\n",
      "The samples before fit Counter({0: 1822, 1: 1458})\n"
     ]
    }
   ],
   "source": [
    "us = NearMiss(0.8)\n",
    "x_train_us,y_train_us = us.fit_resample(x_train,y_train)\n",
    "print(\"The samples before fit {}\".format(Counter(y_train)))\n",
    "print(\"The samples before fit {}\".format(Counter(y_train_us)))"
   ]
  },
  {
   "cell_type": "markdown",
   "id": "e41b8b95",
   "metadata": {},
   "source": [
    "## Rf with US"
   ]
  },
  {
   "cell_type": "code",
   "execution_count": 40,
   "id": "5eb2747e",
   "metadata": {},
   "outputs": [
    {
     "name": "stdout",
     "output_type": "stream",
     "text": [
      "0.2157366660799155\n",
      "[[ 5633 22136]\n",
      " [  141   495]]\n",
      "              precision    recall  f1-score   support\n",
      "\n",
      "           0     0.9756    0.2029    0.3359     27769\n",
      "           1     0.0219    0.7783    0.0425       636\n",
      "\n",
      "    accuracy                         0.2157     28405\n",
      "   macro avg     0.4987    0.4906    0.1892     28405\n",
      "weighted avg     0.9542    0.2157    0.3293     28405\n",
      "\n"
     ]
    }
   ],
   "source": [
    "rf.fit(x_train_us,y_train_us)\n",
    "y_pred_rf_us = rf.predict(x_test)\n",
    "print(accuracy_score(y_test,y_pred_rf_us))\n",
    "print(confusion_matrix(y_test,y_pred_rf_us))\n",
    "print(classification_report(y_test,y_pred_rf_us, digits=4))"
   ]
  },
  {
   "cell_type": "markdown",
   "id": "985066c9",
   "metadata": {},
   "source": [
    "## Ada with US"
   ]
  },
  {
   "cell_type": "code",
   "execution_count": 41,
   "id": "81b164e1",
   "metadata": {
    "scrolled": true
   },
   "outputs": [
    {
     "name": "stdout",
     "output_type": "stream",
     "text": [
      "0.3014258053159655\n",
      "[[ 8147 19622]\n",
      " [  221   415]]\n",
      "              precision    recall  f1-score   support\n",
      "\n",
      "           0     0.9736    0.2934    0.4509     27769\n",
      "           1     0.0207    0.6525    0.0401       636\n",
      "\n",
      "    accuracy                         0.3014     28405\n",
      "   macro avg     0.4972    0.4730    0.2455     28405\n",
      "weighted avg     0.9523    0.3014    0.4417     28405\n",
      "\n"
     ]
    }
   ],
   "source": [
    "ada.fit(x_train_us,y_train_us)\n",
    "y_pred_ada_us = ada.predict(x_test)\n",
    "print(accuracy_score(y_test,y_pred_ada_us))\n",
    "print(confusion_matrix(y_test,y_pred_ada_us))\n",
    "print(classification_report(y_test,y_pred_ada_us, digits=4))"
   ]
  },
  {
   "cell_type": "markdown",
   "id": "9d9297eb",
   "metadata": {},
   "source": [
    "## GB with US"
   ]
  },
  {
   "cell_type": "code",
   "execution_count": 42,
   "id": "6682eb98",
   "metadata": {},
   "outputs": [
    {
     "name": "stdout",
     "output_type": "stream",
     "text": [
      "0.27410667136067596\n",
      "[[ 7352 20417]\n",
      " [  202   434]]\n",
      "              precision    recall  f1-score   support\n",
      "\n",
      "           0     0.9733    0.2648    0.4163     27769\n",
      "           1     0.0208    0.6824    0.0404       636\n",
      "\n",
      "    accuracy                         0.2741     28405\n",
      "   macro avg     0.4970    0.4736    0.2283     28405\n",
      "weighted avg     0.9519    0.2741    0.4079     28405\n",
      "\n"
     ]
    }
   ],
   "source": [
    "gb.fit(x_train_us,y_train_us)\n",
    "y_pred_gb_us = gb.predict(x_test)\n",
    "print(accuracy_score(y_test,y_pred_gb_us))\n",
    "print(confusion_matrix(y_test,y_pred_gb_us))\n",
    "print(classification_report(y_test,y_pred_gb_us, digits=4))"
   ]
  },
  {
   "cell_type": "markdown",
   "id": "234db392",
   "metadata": {},
   "source": [
    "## XGB with US"
   ]
  },
  {
   "cell_type": "code",
   "execution_count": 43,
   "id": "173f0c4d",
   "metadata": {
    "scrolled": false
   },
   "outputs": [
    {
     "name": "stdout",
     "output_type": "stream",
     "text": [
      "[20:25:00] WARNING: ../src/learner.cc:1115: Starting in XGBoost 1.3.0, the default evaluation metric used with the objective 'binary:logistic' was changed from 'error' to 'logloss'. Explicitly set eval_metric if you'd like to restore the old behavior.\n"
     ]
    },
    {
     "name": "stderr",
     "output_type": "stream",
     "text": [
      "/home/abhigyan/.local/lib/python3.8/site-packages/xgboost/sklearn.py:1224: UserWarning: The use of label encoder in XGBClassifier is deprecated and will be removed in a future release. To remove this warning, do the following: 1) Pass option use_label_encoder=False when constructing XGBClassifier object; and 2) Encode your labels (y) as integers starting with 0, i.e. 0, 1, 2, ..., [num_class - 1].\n",
      "  warnings.warn(label_encoder_deprecation_msg, UserWarning)\n",
      "/home/abhigyan/.local/lib/python3.8/site-packages/xgboost/data.py:262: FutureWarning: pandas.Int64Index is deprecated and will be removed from pandas in a future version. Use pandas.Index with the appropriate dtype instead.\n",
      "  elif isinstance(data.columns, (pd.Int64Index, pd.RangeIndex)):\n"
     ]
    },
    {
     "name": "stdout",
     "output_type": "stream",
     "text": [
      "0.2145396937158951\n",
      "[[ 5601 22168]\n",
      " [  143   493]]\n",
      "              precision    recall  f1-score   support\n",
      "\n",
      "           0     0.9751    0.2017    0.3343     27769\n",
      "           1     0.0218    0.7752    0.0423       636\n",
      "\n",
      "    accuracy                         0.2145     28405\n",
      "   macro avg     0.4984    0.4884    0.1883     28405\n",
      "weighted avg     0.9538    0.2145    0.3277     28405\n",
      "\n"
     ]
    }
   ],
   "source": [
    "from sklearn.metrics import accuracy_score,confusion_matrix,classification_report\n",
    "xgb.fit(x_train_us,y_train_us)\n",
    "y_pred_xgb_us = xgb.predict(x_test)\n",
    "print(accuracy_score(y_test,y_pred_xgb_us))\n",
    "print(confusion_matrix(y_test,y_pred_xgb_us))\n",
    "print(classification_report(y_test,y_pred_xgb_us, digits=4))"
   ]
  },
  {
   "cell_type": "markdown",
   "id": "3202791e",
   "metadata": {},
   "source": [
    "## RF and Ada US (AND)"
   ]
  },
  {
   "cell_type": "code",
   "execution_count": 44,
   "id": "103b665a",
   "metadata": {
    "scrolled": true
   },
   "outputs": [
    {
     "name": "stdout",
     "output_type": "stream",
     "text": [
      "0.32381622953705336\n",
      "[[ 8801 18968]\n",
      " [  239   397]]\n",
      "              precision    recall  f1-score   support\n",
      "\n",
      "           0     0.9736    0.3169    0.4782     27769\n",
      "           1     0.0205    0.6242    0.0397       636\n",
      "\n",
      "    accuracy                         0.3238     28405\n",
      "   macro avg     0.4970    0.4706    0.2589     28405\n",
      "weighted avg     0.9522    0.3238    0.4684     28405\n",
      "\n"
     ]
    }
   ],
   "source": [
    "y_pred = y_pred_ada_us & y_pred_rf_us\n",
    "print(accuracy_score(y_test,y_pred))\n",
    "print(confusion_matrix(y_test,y_pred))\n",
    "print(classification_report(y_test,y_pred, digits=4))"
   ]
  },
  {
   "cell_type": "markdown",
   "id": "0d2d53f7",
   "metadata": {},
   "source": [
    "## RF and Ada US (OR)"
   ]
  },
  {
   "cell_type": "code",
   "execution_count": 45,
   "id": "5c58f165",
   "metadata": {
    "scrolled": true
   },
   "outputs": [
    {
     "name": "stdout",
     "output_type": "stream",
     "text": [
      "0.19334624185882768\n",
      "[[ 4979 22790]\n",
      " [  123   513]]\n",
      "              precision    recall  f1-score   support\n",
      "\n",
      "           0     0.9759    0.1793    0.3029     27769\n",
      "           1     0.0220    0.8066    0.0429       636\n",
      "\n",
      "    accuracy                         0.1933     28405\n",
      "   macro avg     0.4990    0.4930    0.1729     28405\n",
      "weighted avg     0.9545    0.1933    0.2971     28405\n",
      "\n"
     ]
    }
   ],
   "source": [
    "y_pred = y_pred_ada_us | y_pred_rf_us\n",
    "print(accuracy_score(y_test,y_pred))\n",
    "print(confusion_matrix(y_test,y_pred))\n",
    "print(classification_report(y_test,y_pred, digits=4))"
   ]
  },
  {
   "cell_type": "markdown",
   "id": "ee1ab418",
   "metadata": {},
   "source": [
    "## RF and Ada US (XOR)"
   ]
  },
  {
   "cell_type": "code",
   "execution_count": 46,
   "id": "41647e4a",
   "metadata": {
    "scrolled": true
   },
   "outputs": [
    {
     "name": "stdout",
     "output_type": "stream",
     "text": [
      "0.8471395881006865\n",
      "[[23947  3822]\n",
      " [  520   116]]\n",
      "              precision    recall  f1-score   support\n",
      "\n",
      "           0     0.9787    0.8624    0.9169     27769\n",
      "           1     0.0295    0.1824    0.0507       636\n",
      "\n",
      "    accuracy                         0.8471     28405\n",
      "   macro avg     0.5041    0.5224    0.4838     28405\n",
      "weighted avg     0.9575    0.8471    0.8975     28405\n",
      "\n"
     ]
    }
   ],
   "source": [
    "y_pred = y_pred_ada_us ^ y_pred_rf_us\n",
    "print(accuracy_score(y_test,y_pred))\n",
    "print(confusion_matrix(y_test,y_pred))\n",
    "print(classification_report(y_test,y_pred, digits=4))"
   ]
  },
  {
   "cell_type": "markdown",
   "id": "007c5456",
   "metadata": {},
   "source": [
    "## RF and Ada US (NAND)"
   ]
  },
  {
   "cell_type": "code",
   "execution_count": 47,
   "id": "bdbbc8bd",
   "metadata": {
    "scrolled": true
   },
   "outputs": [
    {
     "name": "stdout",
     "output_type": "stream",
     "text": [
      "0.8066537581411724\n",
      "[[22790  4979]\n",
      " [  513   123]]\n",
      "              precision    recall  f1-score   support\n",
      "\n",
      "           0     0.9780    0.8207    0.8925     27769\n",
      "           1     0.0241    0.1934    0.0429       636\n",
      "\n",
      "    accuracy                         0.8067     28405\n",
      "   macro avg     0.5010    0.5070    0.4677     28405\n",
      "weighted avg     0.9566    0.8067    0.8734     28405\n",
      "\n"
     ]
    }
   ],
   "source": [
    "y_pred = negation(y_pred_ada_us | y_pred_rf_us)\n",
    "print(accuracy_score(y_test,y_pred))\n",
    "print(confusion_matrix(y_test,y_pred))\n",
    "print(classification_report(y_test,y_pred, digits=4))"
   ]
  },
  {
   "cell_type": "markdown",
   "id": "dab1dcd5",
   "metadata": {},
   "source": [
    "## RF and Ada US (NOR)"
   ]
  },
  {
   "cell_type": "code",
   "execution_count": 48,
   "id": "8740fdf1",
   "metadata": {
    "scrolled": true
   },
   "outputs": [
    {
     "name": "stdout",
     "output_type": "stream",
     "text": [
      "0.8066537581411724\n",
      "[[22790  4979]\n",
      " [  513   123]]\n",
      "              precision    recall  f1-score   support\n",
      "\n",
      "           0     0.9780    0.8207    0.8925     27769\n",
      "           1     0.0241    0.1934    0.0429       636\n",
      "\n",
      "    accuracy                         0.8067     28405\n",
      "   macro avg     0.5010    0.5070    0.4677     28405\n",
      "weighted avg     0.9566    0.8067    0.8734     28405\n",
      "\n"
     ]
    }
   ],
   "source": [
    "y_pred = negation(y_pred_ada_us | y_pred_rf_us)\n",
    "print(accuracy_score(y_test,y_pred))\n",
    "print(confusion_matrix(y_test,y_pred))\n",
    "print(classification_report(y_test,y_pred, digits=4))"
   ]
  },
  {
   "cell_type": "markdown",
   "id": "398310ed",
   "metadata": {},
   "source": [
    "## RF and Ada US (XNOR)"
   ]
  },
  {
   "cell_type": "code",
   "execution_count": 49,
   "id": "b6f1c5af",
   "metadata": {
    "scrolled": true
   },
   "outputs": [
    {
     "name": "stdout",
     "output_type": "stream",
     "text": [
      "0.15286041189931351\n",
      "[[ 3822 23947]\n",
      " [  116   520]]\n",
      "              precision    recall  f1-score   support\n",
      "\n",
      "           0     0.9705    0.1376    0.2411     27769\n",
      "           1     0.0213    0.8176    0.0414       636\n",
      "\n",
      "    accuracy                         0.1529     28405\n",
      "   macro avg     0.4959    0.4776    0.1413     28405\n",
      "weighted avg     0.9493    0.1529    0.2366     28405\n",
      "\n"
     ]
    }
   ],
   "source": [
    "y_pred = negation(y_pred_ada_us ^ y_pred_rf_us)\n",
    "print(accuracy_score(y_test,y_pred))\n",
    "print(confusion_matrix(y_test,y_pred))\n",
    "print(classification_report(y_test,y_pred, digits=4))"
   ]
  },
  {
   "cell_type": "markdown",
   "id": "b9ee3f2f",
   "metadata": {},
   "source": [
    "## RF and GB Hybrid US (AND)"
   ]
  },
  {
   "cell_type": "code",
   "execution_count": 50,
   "id": "e1e67413",
   "metadata": {},
   "outputs": [
    {
     "name": "stdout",
     "output_type": "stream",
     "text": [
      "0.29068825910931173\n",
      "[[ 7838 19931]\n",
      " [  217   419]]\n",
      "              precision    recall  f1-score   support\n",
      "\n",
      "           0     0.9731    0.2823    0.4376     27769\n",
      "           1     0.0206    0.6588    0.0399       636\n",
      "\n",
      "    accuracy                         0.2907     28405\n",
      "   macro avg     0.4968    0.4705    0.2388     28405\n",
      "weighted avg     0.9517    0.2907    0.4287     28405\n",
      "\n"
     ]
    }
   ],
   "source": [
    "y_pred = y_pred_gb_us & y_pred_rf_us\n",
    "print(accuracy_score(y_test,y_pred))\n",
    "print(confusion_matrix(y_test,y_pred))\n",
    "print(classification_report(y_test,y_pred, digits=4))"
   ]
  },
  {
   "cell_type": "markdown",
   "id": "9838a430",
   "metadata": {},
   "source": [
    "## RF and GB Hybrid US (OR)"
   ]
  },
  {
   "cell_type": "code",
   "execution_count": 51,
   "id": "fbe9c7d4",
   "metadata": {},
   "outputs": [
    {
     "name": "stdout",
     "output_type": "stream",
     "text": [
      "0.1991550783312797\n",
      "[[ 5147 22622]\n",
      " [  126   510]]\n",
      "              precision    recall  f1-score   support\n",
      "\n",
      "           0     0.9761    0.1854    0.3115     27769\n",
      "           1     0.0220    0.8019    0.0429       636\n",
      "\n",
      "    accuracy                         0.1992     28405\n",
      "   macro avg     0.4991    0.4936    0.1772     28405\n",
      "weighted avg     0.9547    0.1992    0.3055     28405\n",
      "\n"
     ]
    }
   ],
   "source": [
    "y_pred = y_pred_gb_us | y_pred_rf_us\n",
    "print(accuracy_score(y_test,y_pred))\n",
    "print(confusion_matrix(y_test,y_pred))\n",
    "print(classification_report(y_test,y_pred, digits=4))"
   ]
  },
  {
   "cell_type": "markdown",
   "id": "5c887e96",
   "metadata": {},
   "source": [
    "## RF and GB Hybrid US (XOR)"
   ]
  },
  {
   "cell_type": "code",
   "execution_count": 52,
   "id": "1742a738",
   "metadata": {},
   "outputs": [
    {
     "name": "stdout",
     "output_type": "stream",
     "text": [
      "0.8860763950008801\n",
      "[[25078  2691]\n",
      " [  545    91]]\n",
      "              precision    recall  f1-score   support\n",
      "\n",
      "           0     0.9787    0.9031    0.9394     27769\n",
      "           1     0.0327    0.1431    0.0532       636\n",
      "\n",
      "    accuracy                         0.8861     28405\n",
      "   macro avg     0.5057    0.5231    0.4963     28405\n",
      "weighted avg     0.9575    0.8861    0.9196     28405\n",
      "\n"
     ]
    }
   ],
   "source": [
    "y_pred = y_pred_gb_us ^ y_pred_rf_us\n",
    "print(accuracy_score(y_test,y_pred))\n",
    "print(confusion_matrix(y_test,y_pred))\n",
    "print(classification_report(y_test,y_pred, digits=4))"
   ]
  },
  {
   "cell_type": "markdown",
   "id": "f3b6a8db",
   "metadata": {},
   "source": [
    "## RF and GB Hybrid US (NAND)"
   ]
  },
  {
   "cell_type": "code",
   "execution_count": 53,
   "id": "38b3f655",
   "metadata": {},
   "outputs": [
    {
     "name": "stdout",
     "output_type": "stream",
     "text": [
      "0.7093117408906883\n",
      "[[19931  7838]\n",
      " [  419   217]]\n",
      "              precision    recall  f1-score   support\n",
      "\n",
      "           0     0.9794    0.7177    0.8284     27769\n",
      "           1     0.0269    0.3412    0.0499       636\n",
      "\n",
      "    accuracy                         0.7093     28405\n",
      "   macro avg     0.5032    0.5295    0.4392     28405\n",
      "weighted avg     0.9581    0.7093    0.8110     28405\n",
      "\n"
     ]
    }
   ],
   "source": [
    "y_pred = negation(y_pred_gb_us & y_pred_rf_us)\n",
    "print(accuracy_score(y_test,y_pred))\n",
    "print(confusion_matrix(y_test,y_pred))\n",
    "print(classification_report(y_test,y_pred, digits=4))"
   ]
  },
  {
   "cell_type": "markdown",
   "id": "ed2d5d85",
   "metadata": {},
   "source": [
    "## RF and GB Hybrid US (NOR)"
   ]
  },
  {
   "cell_type": "code",
   "execution_count": 54,
   "id": "5602a5fc",
   "metadata": {},
   "outputs": [
    {
     "name": "stdout",
     "output_type": "stream",
     "text": [
      "0.8008449216687203\n",
      "[[22622  5147]\n",
      " [  510   126]]\n",
      "              precision    recall  f1-score   support\n",
      "\n",
      "           0     0.9780    0.8146    0.8889     27769\n",
      "           1     0.0239    0.1981    0.0426       636\n",
      "\n",
      "    accuracy                         0.8008     28405\n",
      "   macro avg     0.5009    0.5064    0.4658     28405\n",
      "weighted avg     0.9566    0.8008    0.8699     28405\n",
      "\n"
     ]
    }
   ],
   "source": [
    "y_pred = negation(y_pred_gb_us | y_pred_rf_us)\n",
    "print(accuracy_score(y_test,y_pred))\n",
    "print(confusion_matrix(y_test,y_pred))\n",
    "print(classification_report(y_test,y_pred, digits=4))"
   ]
  },
  {
   "cell_type": "markdown",
   "id": "653824e9",
   "metadata": {},
   "source": [
    "## RF and GB Hybrid US (XNOR)"
   ]
  },
  {
   "cell_type": "code",
   "execution_count": 55,
   "id": "13211d08",
   "metadata": {},
   "outputs": [
    {
     "name": "stdout",
     "output_type": "stream",
     "text": [
      "0.11392360499911987\n",
      "[[ 2691 25078]\n",
      " [   91   545]]\n",
      "              precision    recall  f1-score   support\n",
      "\n",
      "           0     0.9673    0.0969    0.1762     27769\n",
      "           1     0.0213    0.8569    0.0415       636\n",
      "\n",
      "    accuracy                         0.1139     28405\n",
      "   macro avg     0.4943    0.4769    0.1088     28405\n",
      "weighted avg     0.9461    0.1139    0.1731     28405\n",
      "\n"
     ]
    }
   ],
   "source": [
    "y_pred = negation(y_pred_gb_us ^ y_pred_rf_us)\n",
    "print(accuracy_score(y_test,y_pred))\n",
    "print(confusion_matrix(y_test,y_pred))\n",
    "print(classification_report(y_test,y_pred, digits=4))"
   ]
  },
  {
   "cell_type": "markdown",
   "id": "7e84e7c9",
   "metadata": {},
   "source": [
    "## RF and XGB Hybrid US (AND)"
   ]
  },
  {
   "cell_type": "code",
   "execution_count": 56,
   "id": "bc22efd9",
   "metadata": {},
   "outputs": [
    {
     "name": "stdout",
     "output_type": "stream",
     "text": [
      "0.25097694067945786\n",
      "[[ 6664 21105]\n",
      " [  171   465]]\n",
      "              precision    recall  f1-score   support\n",
      "\n",
      "           0     0.9750    0.2400    0.3852     27769\n",
      "           1     0.0216    0.7311    0.0419       636\n",
      "\n",
      "    accuracy                         0.2510     28405\n",
      "   macro avg     0.4983    0.4856    0.2135     28405\n",
      "weighted avg     0.9536    0.2510    0.3775     28405\n",
      "\n"
     ]
    }
   ],
   "source": [
    "y_pred = y_pred_xgb_us & y_pred_rf_us\n",
    "print(accuracy_score(y_test,y_pred))\n",
    "print(confusion_matrix(y_test,y_pred))\n",
    "print(classification_report(y_test,y_pred, digits=4))"
   ]
  },
  {
   "cell_type": "markdown",
   "id": "2c1922e0",
   "metadata": {},
   "source": [
    "## RF and XGB Hybrid US (OR)"
   ]
  },
  {
   "cell_type": "code",
   "execution_count": 57,
   "id": "8738fc55",
   "metadata": {},
   "outputs": [
    {
     "name": "stdout",
     "output_type": "stream",
     "text": [
      "0.17929941911635275\n",
      "[[ 4570 23199]\n",
      " [  113   523]]\n",
      "              precision    recall  f1-score   support\n",
      "\n",
      "           0     0.9759    0.1646    0.2816     27769\n",
      "           1     0.0220    0.8223    0.0429       636\n",
      "\n",
      "    accuracy                         0.1793     28405\n",
      "   macro avg     0.4990    0.4934    0.1623     28405\n",
      "weighted avg     0.9545    0.1793    0.2763     28405\n",
      "\n"
     ]
    }
   ],
   "source": [
    "y_pred = y_pred_xgb_us | y_pred_rf_us\n",
    "print(accuracy_score(y_test,y_pred))\n",
    "print(confusion_matrix(y_test,y_pred))\n",
    "print(classification_report(y_test,y_pred, digits=4))"
   ]
  },
  {
   "cell_type": "markdown",
   "id": "815c2f65",
   "metadata": {},
   "source": [
    "## RF and XGB Hybrid US (XOR)"
   ]
  },
  {
   "cell_type": "code",
   "execution_count": 58,
   "id": "06963d4f",
   "metadata": {
    "scrolled": true
   },
   "outputs": [
    {
     "name": "stdout",
     "output_type": "stream",
     "text": [
      "0.905932054215807\n",
      "[[25675  2094]\n",
      " [  578    58]]\n",
      "              precision    recall  f1-score   support\n",
      "\n",
      "           0     0.9780    0.9246    0.9505     27769\n",
      "           1     0.0270    0.0912    0.0416       636\n",
      "\n",
      "    accuracy                         0.9059     28405\n",
      "   macro avg     0.5025    0.5079    0.4961     28405\n",
      "weighted avg     0.9567    0.9059    0.9302     28405\n",
      "\n"
     ]
    }
   ],
   "source": [
    "y_pred = y_pred_xgb_us ^ y_pred_rf_us\n",
    "print(accuracy_score(y_test,y_pred))\n",
    "print(confusion_matrix(y_test,y_pred))\n",
    "print(classification_report(y_test,y_pred, digits=4))"
   ]
  },
  {
   "cell_type": "markdown",
   "id": "ba4d7399",
   "metadata": {},
   "source": [
    "## RF and XGB Hybrid US (NAND)"
   ]
  },
  {
   "cell_type": "code",
   "execution_count": 59,
   "id": "5f972d4f",
   "metadata": {},
   "outputs": [
    {
     "name": "stdout",
     "output_type": "stream",
     "text": [
      "0.7490230593205421\n",
      "[[21105  6664]\n",
      " [  465   171]]\n",
      "              precision    recall  f1-score   support\n",
      "\n",
      "           0     0.9784    0.7600    0.8555     27769\n",
      "           1     0.0250    0.2689    0.0458       636\n",
      "\n",
      "    accuracy                         0.7490     28405\n",
      "   macro avg     0.5017    0.5144    0.4506     28405\n",
      "weighted avg     0.9571    0.7490    0.8374     28405\n",
      "\n"
     ]
    }
   ],
   "source": [
    "y_pred = negation(y_pred_xgb_us & y_pred_rf_us)\n",
    "print(accuracy_score(y_test,y_pred))\n",
    "print(confusion_matrix(y_test,y_pred))\n",
    "print(classification_report(y_test,y_pred, digits=4))"
   ]
  },
  {
   "cell_type": "markdown",
   "id": "788dde0d",
   "metadata": {},
   "source": [
    "## RF and XGB Hybrid US (NOR)"
   ]
  },
  {
   "cell_type": "code",
   "execution_count": 60,
   "id": "9874c7ca",
   "metadata": {},
   "outputs": [
    {
     "name": "stdout",
     "output_type": "stream",
     "text": [
      "0.8207005808836473\n",
      "[[23199  4570]\n",
      " [  523   113]]\n",
      "              precision    recall  f1-score   support\n",
      "\n",
      "           0     0.9780    0.8354    0.9011     27769\n",
      "           1     0.0241    0.1777    0.0425       636\n",
      "\n",
      "    accuracy                         0.8207     28405\n",
      "   macro avg     0.5010    0.5066    0.4718     28405\n",
      "weighted avg     0.9566    0.8207    0.8819     28405\n",
      "\n"
     ]
    }
   ],
   "source": [
    "y_pred = negation(y_pred_xgb_us | y_pred_rf_us)\n",
    "print(accuracy_score(y_test,y_pred))\n",
    "print(confusion_matrix(y_test,y_pred))\n",
    "print(classification_report(y_test,y_pred, digits=4))"
   ]
  },
  {
   "cell_type": "markdown",
   "id": "ecdd55bf",
   "metadata": {},
   "source": [
    "## RF and XGB Hybrid US (XNOR)"
   ]
  },
  {
   "cell_type": "code",
   "execution_count": 61,
   "id": "5dd35969",
   "metadata": {},
   "outputs": [
    {
     "name": "stdout",
     "output_type": "stream",
     "text": [
      "0.09406794578419292\n",
      "[[ 2094 25675]\n",
      " [   58   578]]\n",
      "              precision    recall  f1-score   support\n",
      "\n",
      "           0     0.9730    0.0754    0.1400     27769\n",
      "           1     0.0220    0.9088    0.0430       636\n",
      "\n",
      "    accuracy                         0.0941     28405\n",
      "   macro avg     0.4975    0.4921    0.0915     28405\n",
      "weighted avg     0.9518    0.0941    0.1378     28405\n",
      "\n"
     ]
    }
   ],
   "source": [
    "y_pred = negation(y_pred_xgb_us ^ y_pred_rf_us)\n",
    "print(accuracy_score(y_test,y_pred))\n",
    "print(confusion_matrix(y_test,y_pred))\n",
    "print(classification_report(y_test,y_pred, digits=4))"
   ]
  },
  {
   "cell_type": "markdown",
   "id": "5c546b2a",
   "metadata": {},
   "source": [
    "## Ada and GB Hybrid US (AND)"
   ]
  },
  {
   "cell_type": "code",
   "execution_count": 62,
   "id": "7618f9a4",
   "metadata": {},
   "outputs": [
    {
     "name": "stdout",
     "output_type": "stream",
     "text": [
      "0.32501320190107374\n",
      "[[ 8839 18930]\n",
      " [  243   393]]\n",
      "              precision    recall  f1-score   support\n",
      "\n",
      "           0     0.9732    0.3183    0.4797     27769\n",
      "           1     0.0203    0.6179    0.0394       636\n",
      "\n",
      "    accuracy                         0.3250     28405\n",
      "   macro avg     0.4968    0.4681    0.2595     28405\n",
      "weighted avg     0.9519    0.3250    0.4699     28405\n",
      "\n"
     ]
    }
   ],
   "source": [
    "y_pred = y_pred_ada_us & y_pred_gb_us\n",
    "print(accuracy_score(y_test,y_pred))\n",
    "print(confusion_matrix(y_test,y_pred))\n",
    "print(classification_report(y_test,y_pred, digits=4))"
   ]
  },
  {
   "cell_type": "markdown",
   "id": "43c9b8f0",
   "metadata": {},
   "source": [
    "## Ada and GB Hybrid US (OR)"
   ]
  },
  {
   "cell_type": "code",
   "execution_count": 63,
   "id": "b7ba9790",
   "metadata": {},
   "outputs": [
    {
     "name": "stdout",
     "output_type": "stream",
     "text": [
      "0.2505192747755677\n",
      "[[ 6660 21109]\n",
      " [  180   456]]\n",
      "              precision    recall  f1-score   support\n",
      "\n",
      "           0     0.9737    0.2398    0.3849     27769\n",
      "           1     0.0211    0.7170    0.0411       636\n",
      "\n",
      "    accuracy                         0.2505     28405\n",
      "   macro avg     0.4974    0.4784    0.2130     28405\n",
      "weighted avg     0.9524    0.2505    0.3772     28405\n",
      "\n"
     ]
    }
   ],
   "source": [
    "y_pred = y_pred_ada_us | y_pred_gb_us\n",
    "print(accuracy_score(y_test,y_pred))\n",
    "print(confusion_matrix(y_test,y_pred))\n",
    "print(classification_report(y_test,y_pred, digits=4))"
   ]
  },
  {
   "cell_type": "markdown",
   "id": "1b2ca23b",
   "metadata": {},
   "source": [
    "## Ada and GB Hybrid US (XOR)"
   ]
  },
  {
   "cell_type": "code",
   "execution_count": 64,
   "id": "5f72f7e3",
   "metadata": {},
   "outputs": [
    {
     "name": "stdout",
     "output_type": "stream",
     "text": [
      "0.9031156486534061\n",
      "[[25590  2179]\n",
      " [  573    63]]\n",
      "              precision    recall  f1-score   support\n",
      "\n",
      "           0     0.9781    0.9215    0.9490     27769\n",
      "           1     0.0281    0.0991    0.0438       636\n",
      "\n",
      "    accuracy                         0.9031     28405\n",
      "   macro avg     0.5031    0.5103    0.4964     28405\n",
      "weighted avg     0.9568    0.9031    0.9287     28405\n",
      "\n"
     ]
    }
   ],
   "source": [
    "y_pred = y_pred_ada_us ^ y_pred_gb_us\n",
    "print(accuracy_score(y_test,y_pred))\n",
    "print(confusion_matrix(y_test,y_pred))\n",
    "print(classification_report(y_test,y_pred, digits=4))"
   ]
  },
  {
   "cell_type": "markdown",
   "id": "6fc8088c",
   "metadata": {},
   "source": [
    "## Ada and GB Hybrid US (NAND)"
   ]
  },
  {
   "cell_type": "code",
   "execution_count": 65,
   "id": "4faa0033",
   "metadata": {},
   "outputs": [
    {
     "name": "stdout",
     "output_type": "stream",
     "text": [
      "0.6749867980989263\n",
      "[[18930  8839]\n",
      " [  393   243]]\n",
      "              precision    recall  f1-score   support\n",
      "\n",
      "           0     0.9797    0.6817    0.8040     27769\n",
      "           1     0.0268    0.3821    0.0500       636\n",
      "\n",
      "    accuracy                         0.6750     28405\n",
      "   macro avg     0.5032    0.5319    0.4270     28405\n",
      "weighted avg     0.9583    0.6750    0.7871     28405\n",
      "\n"
     ]
    }
   ],
   "source": [
    "y_pred = negation(y_pred_ada_us & y_pred_gb_us)\n",
    "print(accuracy_score(y_test,y_pred))\n",
    "print(confusion_matrix(y_test,y_pred))\n",
    "print(classification_report(y_test,y_pred, digits=4))"
   ]
  },
  {
   "cell_type": "markdown",
   "id": "bf8663d9",
   "metadata": {},
   "source": [
    "## Ada and GB Hybrid US (NOR)"
   ]
  },
  {
   "cell_type": "code",
   "execution_count": 66,
   "id": "76b93326",
   "metadata": {},
   "outputs": [
    {
     "name": "stdout",
     "output_type": "stream",
     "text": [
      "0.7494807252244323\n",
      "[[21109  6660]\n",
      " [  456   180]]\n",
      "              precision    recall  f1-score   support\n",
      "\n",
      "           0     0.9789    0.7602    0.8558     27769\n",
      "           1     0.0263    0.2830    0.0482       636\n",
      "\n",
      "    accuracy                         0.7495     28405\n",
      "   macro avg     0.5026    0.5216    0.4520     28405\n",
      "weighted avg     0.9575    0.7495    0.8377     28405\n",
      "\n"
     ]
    }
   ],
   "source": [
    "y_pred = negation(y_pred_ada_us | y_pred_gb_us)\n",
    "print(accuracy_score(y_test,y_pred))\n",
    "print(confusion_matrix(y_test,y_pred))\n",
    "print(classification_report(y_test,y_pred, digits=4))"
   ]
  },
  {
   "cell_type": "markdown",
   "id": "5d09df40",
   "metadata": {},
   "source": [
    "## Ada and GB Hybrid US (XNOR)"
   ]
  },
  {
   "cell_type": "code",
   "execution_count": 67,
   "id": "1d2de7de",
   "metadata": {},
   "outputs": [
    {
     "name": "stdout",
     "output_type": "stream",
     "text": [
      "0.09688435134659391\n",
      "[[ 2179 25590]\n",
      " [   63   573]]\n",
      "              precision    recall  f1-score   support\n",
      "\n",
      "           0     0.9719    0.0785    0.1452     27769\n",
      "           1     0.0219    0.9009    0.0428       636\n",
      "\n",
      "    accuracy                         0.0969     28405\n",
      "   macro avg     0.4969    0.4897    0.0940     28405\n",
      "weighted avg     0.9506    0.0969    0.1429     28405\n",
      "\n"
     ]
    }
   ],
   "source": [
    "y_pred = negation(y_pred_ada_us ^ y_pred_gb_us)\n",
    "print(accuracy_score(y_test,y_pred))\n",
    "print(confusion_matrix(y_test,y_pred))\n",
    "print(classification_report(y_test,y_pred, digits=4))"
   ]
  },
  {
   "cell_type": "markdown",
   "id": "d35e91d9",
   "metadata": {},
   "source": [
    "## Ada and XGB Hybrid US (AND)"
   ]
  },
  {
   "cell_type": "code",
   "execution_count": 68,
   "id": "fbcb28b6",
   "metadata": {},
   "outputs": [
    {
     "name": "stdout",
     "output_type": "stream",
     "text": [
      "0.3216687202957226\n",
      "[[ 8747 19022]\n",
      " [  246   390]]\n",
      "              precision    recall  f1-score   support\n",
      "\n",
      "           0     0.9726    0.3150    0.4759     27769\n",
      "           1     0.0201    0.6132    0.0389       636\n",
      "\n",
      "    accuracy                         0.3217     28405\n",
      "   macro avg     0.4964    0.4641    0.2574     28405\n",
      "weighted avg     0.9513    0.3217    0.4661     28405\n",
      "\n"
     ]
    }
   ],
   "source": [
    "y_pred = y_pred_ada_us & y_pred_xgb_us\n",
    "print(accuracy_score(y_test,y_pred))\n",
    "print(confusion_matrix(y_test,y_pred))\n",
    "print(classification_report(y_test,y_pred, digits=4))"
   ]
  },
  {
   "cell_type": "markdown",
   "id": "332af935",
   "metadata": {},
   "source": [
    "## Ada and XGB Hybrid US (OR)"
   ]
  },
  {
   "cell_type": "code",
   "execution_count": 69,
   "id": "1ae4753d",
   "metadata": {},
   "outputs": [
    {
     "name": "stdout",
     "output_type": "stream",
     "text": [
      "0.19429677873613801\n",
      "[[ 5001 22768]\n",
      " [  118   518]]\n",
      "              precision    recall  f1-score   support\n",
      "\n",
      "           0     0.9769    0.1801    0.3041     27769\n",
      "           1     0.0222    0.8145    0.0433       636\n",
      "\n",
      "    accuracy                         0.1943     28405\n",
      "   macro avg     0.4996    0.4973    0.1737     28405\n",
      "weighted avg     0.9556    0.1943    0.2983     28405\n",
      "\n"
     ]
    }
   ],
   "source": [
    "y_pred = y_pred_ada_us | y_pred_xgb_us\n",
    "print(accuracy_score(y_test,y_pred))\n",
    "print(confusion_matrix(y_test,y_pred))\n",
    "print(classification_report(y_test,y_pred, digits=4))"
   ]
  },
  {
   "cell_type": "markdown",
   "id": "81d07d0d",
   "metadata": {},
   "source": [
    "## Ada and XGB Hybrid US (XOR)"
   ]
  },
  {
   "cell_type": "code",
   "execution_count": 70,
   "id": "701f9087",
   "metadata": {},
   "outputs": [
    {
     "name": "stdout",
     "output_type": "stream",
     "text": [
      "0.8502376342193276\n",
      "[[24023  3746]\n",
      " [  508   128]]\n",
      "              precision    recall  f1-score   support\n",
      "\n",
      "           0     0.9793    0.8651    0.9187     27769\n",
      "           1     0.0330    0.2013    0.0568       636\n",
      "\n",
      "    accuracy                         0.8502     28405\n",
      "   macro avg     0.5062    0.5332    0.4877     28405\n",
      "weighted avg     0.9581    0.8502    0.8994     28405\n",
      "\n"
     ]
    }
   ],
   "source": [
    "y_pred = y_pred_ada_us ^ y_pred_xgb_us\n",
    "print(accuracy_score(y_test,y_pred))\n",
    "print(confusion_matrix(y_test,y_pred))\n",
    "print(classification_report(y_test,y_pred, digits=4))"
   ]
  },
  {
   "cell_type": "markdown",
   "id": "81768781",
   "metadata": {},
   "source": [
    "## Ada and XGB Hybrid US (NAND)"
   ]
  },
  {
   "cell_type": "code",
   "execution_count": 71,
   "id": "99d7d11d",
   "metadata": {},
   "outputs": [
    {
     "name": "stdout",
     "output_type": "stream",
     "text": [
      "0.805703221263862\n",
      "[[22768  5001]\n",
      " [  518   118]]\n",
      "              precision    recall  f1-score   support\n",
      "\n",
      "           0     0.9778    0.8199    0.8919     27769\n",
      "           1     0.0231    0.1855    0.0410       636\n",
      "\n",
      "    accuracy                         0.8057     28405\n",
      "   macro avg     0.5004    0.5027    0.4665     28405\n",
      "weighted avg     0.9564    0.8057    0.8728     28405\n",
      "\n"
     ]
    }
   ],
   "source": [
    "y_pred = negation(y_pred_ada_us | y_pred_xgb_us)\n",
    "print(accuracy_score(y_test,y_pred))\n",
    "print(confusion_matrix(y_test,y_pred))\n",
    "print(classification_report(y_test,y_pred, digits=4))"
   ]
  },
  {
   "cell_type": "markdown",
   "id": "4b7b7e67",
   "metadata": {},
   "source": [
    "## Ada and XGB Hybrid US (NOR)"
   ]
  },
  {
   "cell_type": "code",
   "execution_count": 72,
   "id": "90d7df17",
   "metadata": {},
   "outputs": [
    {
     "name": "stdout",
     "output_type": "stream",
     "text": [
      "0.805703221263862\n",
      "[[22768  5001]\n",
      " [  518   118]]\n",
      "              precision    recall  f1-score   support\n",
      "\n",
      "           0     0.9778    0.8199    0.8919     27769\n",
      "           1     0.0231    0.1855    0.0410       636\n",
      "\n",
      "    accuracy                         0.8057     28405\n",
      "   macro avg     0.5004    0.5027    0.4665     28405\n",
      "weighted avg     0.9564    0.8057    0.8728     28405\n",
      "\n"
     ]
    }
   ],
   "source": [
    "y_pred = negation(y_pred_ada_us | y_pred_xgb_us)\n",
    "print(accuracy_score(y_test,y_pred))\n",
    "print(confusion_matrix(y_test,y_pred))\n",
    "print(classification_report(y_test,y_pred, digits=4))"
   ]
  },
  {
   "cell_type": "markdown",
   "id": "dcc2eef5",
   "metadata": {},
   "source": [
    "## Ada and XGB Hybrid US (XNOR)"
   ]
  },
  {
   "cell_type": "code",
   "execution_count": 73,
   "id": "84cfb7a2",
   "metadata": {
    "scrolled": true
   },
   "outputs": [
    {
     "name": "stdout",
     "output_type": "stream",
     "text": [
      "0.14976236578067242\n",
      "[[ 3746 24023]\n",
      " [  128   508]]\n",
      "              precision    recall  f1-score   support\n",
      "\n",
      "           0     0.9670    0.1349    0.2368     27769\n",
      "           1     0.0207    0.7987    0.0404       636\n",
      "\n",
      "    accuracy                         0.1498     28405\n",
      "   macro avg     0.4938    0.4668    0.1386     28405\n",
      "weighted avg     0.9458    0.1498    0.2324     28405\n",
      "\n"
     ]
    }
   ],
   "source": [
    "y_pred = negation(y_pred_ada_us ^ y_pred_xgb_us)\n",
    "print(accuracy_score(y_test,y_pred))\n",
    "print(confusion_matrix(y_test,y_pred))\n",
    "print(classification_report(y_test,y_pred, digits=4))"
   ]
  },
  {
   "cell_type": "markdown",
   "id": "3bb2be37",
   "metadata": {},
   "source": [
    "## GB and XGB Hybrid US (AND)"
   ]
  },
  {
   "cell_type": "code",
   "execution_count": 74,
   "id": "887d8d7a",
   "metadata": {},
   "outputs": [
    {
     "name": "stdout",
     "output_type": "stream",
     "text": [
      "0.2887519802851611\n",
      "[[ 7788 19981]\n",
      " [  222   414]]\n",
      "              precision    recall  f1-score   support\n",
      "\n",
      "           0     0.9723    0.2805    0.4353     27769\n",
      "           1     0.0203    0.6509    0.0394       636\n",
      "\n",
      "    accuracy                         0.2888     28405\n",
      "   macro avg     0.4963    0.4657    0.2374     28405\n",
      "weighted avg     0.9510    0.2888    0.4265     28405\n",
      "\n"
     ]
    }
   ],
   "source": [
    "y_pred = y_pred_gb_us & y_pred_xgb_us\n",
    "print(accuracy_score(y_test,y_pred))\n",
    "print(confusion_matrix(y_test,y_pred))\n",
    "print(classification_report(y_test,y_pred, digits=4))"
   ]
  },
  {
   "cell_type": "markdown",
   "id": "0e6d76d1",
   "metadata": {},
   "source": [
    "## GB and XGB Hybrid US (OR)"
   ]
  },
  {
   "cell_type": "code",
   "execution_count": 75,
   "id": "aa242a84",
   "metadata": {},
   "outputs": [
    {
     "name": "stdout",
     "output_type": "stream",
     "text": [
      "0.19989438479140997\n",
      "[[ 5165 22604]\n",
      " [  123   513]]\n",
      "              precision    recall  f1-score   support\n",
      "\n",
      "           0     0.9767    0.1860    0.3125     27769\n",
      "           1     0.0222    0.8066    0.0432       636\n",
      "\n",
      "    accuracy                         0.1999     28405\n",
      "   macro avg     0.4995    0.4963    0.1778     28405\n",
      "weighted avg     0.9554    0.1999    0.3065     28405\n",
      "\n"
     ]
    }
   ],
   "source": [
    "y_pred = y_pred_gb_us | y_pred_xgb_us\n",
    "print(accuracy_score(y_test,y_pred))\n",
    "print(confusion_matrix(y_test,y_pred))\n",
    "print(classification_report(y_test,y_pred, digits=4))"
   ]
  },
  {
   "cell_type": "markdown",
   "id": "b27449af",
   "metadata": {},
   "source": [
    "## GB and XGB Hybrid US (XOR)"
   ]
  },
  {
   "cell_type": "code",
   "execution_count": 76,
   "id": "f04db8e0",
   "metadata": {},
   "outputs": [
    {
     "name": "stdout",
     "output_type": "stream",
     "text": [
      "0.8887519802851611\n",
      "[[25146  2623]\n",
      " [  537    99]]\n",
      "              precision    recall  f1-score   support\n",
      "\n",
      "           0     0.9791    0.9055    0.9409     27769\n",
      "           1     0.0364    0.1557    0.0590       636\n",
      "\n",
      "    accuracy                         0.8888     28405\n",
      "   macro avg     0.5077    0.5306    0.4999     28405\n",
      "weighted avg     0.9580    0.8888    0.9211     28405\n",
      "\n"
     ]
    }
   ],
   "source": [
    "y_pred = y_pred_gb_us ^ y_pred_xgb_us\n",
    "print(accuracy_score(y_test,y_pred))\n",
    "print(confusion_matrix(y_test,y_pred))\n",
    "print(classification_report(y_test,y_pred, digits=4))"
   ]
  },
  {
   "cell_type": "markdown",
   "id": "4f08b120",
   "metadata": {},
   "source": [
    "## GB and XGB Hybrid US (NAND)"
   ]
  },
  {
   "cell_type": "code",
   "execution_count": 77,
   "id": "e5f7bfcc",
   "metadata": {
    "scrolled": true
   },
   "outputs": [
    {
     "name": "stdout",
     "output_type": "stream",
     "text": [
      "0.711248019714839\n",
      "[[19981  7788]\n",
      " [  414   222]]\n",
      "              precision    recall  f1-score   support\n",
      "\n",
      "           0     0.9797    0.7195    0.8297     27769\n",
      "           1     0.0277    0.3491    0.0514       636\n",
      "\n",
      "    accuracy                         0.7112     28405\n",
      "   macro avg     0.5037    0.5343    0.4405     28405\n",
      "weighted avg     0.9584    0.7112    0.8123     28405\n",
      "\n"
     ]
    }
   ],
   "source": [
    "y_pred = negation(y_pred_gb_us & y_pred_xgb_us)\n",
    "print(accuracy_score(y_test,y_pred))\n",
    "print(confusion_matrix(y_test,y_pred))\n",
    "print(classification_report(y_test,y_pred, digits=4))"
   ]
  },
  {
   "cell_type": "markdown",
   "id": "077084a5",
   "metadata": {},
   "source": [
    "## GB and XGB Hybrid US (NOR)"
   ]
  },
  {
   "cell_type": "code",
   "execution_count": 78,
   "id": "890103ea",
   "metadata": {
    "scrolled": true
   },
   "outputs": [
    {
     "name": "stdout",
     "output_type": "stream",
     "text": [
      "0.80010561520859\n",
      "[[22604  5165]\n",
      " [  513   123]]\n",
      "              precision    recall  f1-score   support\n",
      "\n",
      "           0     0.9778    0.8140    0.8884     27769\n",
      "           1     0.0233    0.1934    0.0415       636\n",
      "\n",
      "    accuracy                         0.8001     28405\n",
      "   macro avg     0.5005    0.5037    0.4650     28405\n",
      "weighted avg     0.9564    0.8001    0.8695     28405\n",
      "\n"
     ]
    }
   ],
   "source": [
    "y_pred = negation(y_pred_gb_us | y_pred_xgb_us)\n",
    "print(accuracy_score(y_test,y_pred))\n",
    "print(confusion_matrix(y_test,y_pred))\n",
    "print(classification_report(y_test,y_pred,digits=4))"
   ]
  },
  {
   "cell_type": "markdown",
   "id": "271765a1",
   "metadata": {},
   "source": [
    "## GB and XGB Hybrid US (XNOR)"
   ]
  },
  {
   "cell_type": "code",
   "execution_count": 79,
   "id": "651cfce8",
   "metadata": {},
   "outputs": [
    {
     "name": "stdout",
     "output_type": "stream",
     "text": [
      "0.11124801971483894\n",
      "[[ 2623 25146]\n",
      " [   99   537]]\n",
      "              precision    recall  f1-score   support\n",
      "\n",
      "           0     0.9636    0.0945    0.1721     27769\n",
      "           1     0.0209    0.8443    0.0408       636\n",
      "\n",
      "    accuracy                         0.1112     28405\n",
      "   macro avg     0.4923    0.4694    0.1064     28405\n",
      "weighted avg     0.9425    0.1112    0.1691     28405\n",
      "\n"
     ]
    }
   ],
   "source": [
    "y_pred = negation(y_pred_gb_us ^ y_pred_xgb_us)\n",
    "print(accuracy_score(y_test,y_pred))\n",
    "print(confusion_matrix(y_test,y_pred))\n",
    "print(classification_report(y_test,y_pred, digits=4))"
   ]
  },
  {
   "cell_type": "markdown",
   "id": "5760f4f6",
   "metadata": {},
   "source": [
    "## Over Sampling"
   ]
  },
  {
   "cell_type": "code",
   "execution_count": 80,
   "id": "e4a761ba",
   "metadata": {},
   "outputs": [],
   "source": [
    "from imblearn.over_sampling import RandomOverSampler"
   ]
  },
  {
   "cell_type": "code",
   "execution_count": 81,
   "id": "c2b876d6",
   "metadata": {},
   "outputs": [
    {
     "name": "stdout",
     "output_type": "stream",
     "text": [
      "The samples before fit Counter({0: 64819, 1: 1458})\n",
      "The samples before fit Counter({0: 64819, 1: 48614})\n"
     ]
    },
    {
     "name": "stderr",
     "output_type": "stream",
     "text": [
      "/home/abhigyan/.local/lib/python3.8/site-packages/imblearn/utils/_validation.py:586: FutureWarning: Pass sampling_strategy=0.75 as keyword args. From version 0.9 passing these as positional arguments will result in an error\n",
      "  warnings.warn(\n"
     ]
    }
   ],
   "source": [
    "os = RandomOverSampler(0.75)\n",
    "x_train_os,y_train_os = os.fit_resample(x_train,y_train)\n",
    "print(\"The samples before fit {}\".format(Counter(y_train)))\n",
    "print(\"The samples before fit {}\".format(Counter(y_train_os)))"
   ]
  },
  {
   "cell_type": "markdown",
   "id": "8e10e0d2",
   "metadata": {},
   "source": [
    "## Rf with OS"
   ]
  },
  {
   "cell_type": "code",
   "execution_count": 82,
   "id": "6b8ebc20",
   "metadata": {},
   "outputs": [
    {
     "name": "stdout",
     "output_type": "stream",
     "text": [
      "0.9750396057032212\n",
      "[[ 5633 22136]\n",
      " [  141   495]]\n",
      "              precision    recall  f1-score   support\n",
      "\n",
      "           0     0.9784    0.9964    0.9874     27769\n",
      "           1     0.2080    0.0409    0.0683       636\n",
      "\n",
      "    accuracy                         0.9750     28405\n",
      "   macro avg     0.5932    0.5187    0.5278     28405\n",
      "weighted avg     0.9612    0.9750    0.9668     28405\n",
      "\n"
     ]
    }
   ],
   "source": [
    "rf.fit(x_train_os,y_train_os)\n",
    "y_pred_rf_os = rf.predict(x_test)\n",
    "print(accuracy_score(y_test,y_pred_rf_os))\n",
    "print(confusion_matrix(y_test,y_pred_rf_us))\n",
    "print(classification_report(y_test,y_pred_rf_os, digits=4))"
   ]
  },
  {
   "cell_type": "markdown",
   "id": "68d516e1",
   "metadata": {},
   "source": [
    "## Ada with OS"
   ]
  },
  {
   "cell_type": "code",
   "execution_count": 83,
   "id": "977e1d13",
   "metadata": {},
   "outputs": [
    {
     "name": "stdout",
     "output_type": "stream",
     "text": [
      "0.9531772575250836\n",
      "[[27047   722]\n",
      " [  608    28]]\n",
      "              precision    recall  f1-score   support\n",
      "\n",
      "           0     0.9780    0.9740    0.9760     27769\n",
      "           1     0.0373    0.0440    0.0404       636\n",
      "\n",
      "    accuracy                         0.9532     28405\n",
      "   macro avg     0.5077    0.5090    0.5082     28405\n",
      "weighted avg     0.9570    0.9532    0.9551     28405\n",
      "\n"
     ]
    }
   ],
   "source": [
    "ada.fit(x_train_os,y_train_os)\n",
    "y_pred_ada_os = ada.predict(x_test)\n",
    "print(accuracy_score(y_test,y_pred_ada_os))\n",
    "print(confusion_matrix(y_test,y_pred_ada_os))\n",
    "print(classification_report(y_test,y_pred_ada_os, digits=4))"
   ]
  },
  {
   "cell_type": "markdown",
   "id": "514f92b3",
   "metadata": {},
   "source": [
    "## Gb with OS"
   ]
  },
  {
   "cell_type": "code",
   "execution_count": 84,
   "id": "273d0095",
   "metadata": {
    "scrolled": true
   },
   "outputs": [
    {
     "name": "stdout",
     "output_type": "stream",
     "text": [
      "0.9539869741242739\n",
      "[[27063   706]\n",
      " [  601    35]]\n",
      "              precision    recall  f1-score   support\n",
      "\n",
      "           0     0.9783    0.9746    0.9764     27769\n",
      "           1     0.0472    0.0550    0.0508       636\n",
      "\n",
      "    accuracy                         0.9540     28405\n",
      "   macro avg     0.5128    0.5148    0.5136     28405\n",
      "weighted avg     0.9574    0.9540    0.9557     28405\n",
      "\n"
     ]
    }
   ],
   "source": [
    "gb.fit(x_train_os,y_train_os)\n",
    "y_pred_gb_os = gb.predict(x_test)\n",
    "print(accuracy_score(y_test,y_pred_gb_os))\n",
    "print(confusion_matrix(y_test,y_pred_gb_os))\n",
    "print(classification_report(y_test,y_pred_gb_os, digits=4))"
   ]
  },
  {
   "cell_type": "markdown",
   "id": "028320f6",
   "metadata": {},
   "source": [
    "## XGB with OS"
   ]
  },
  {
   "cell_type": "code",
   "execution_count": 85,
   "id": "7e53178d",
   "metadata": {},
   "outputs": [
    {
     "name": "stderr",
     "output_type": "stream",
     "text": [
      "/home/abhigyan/.local/lib/python3.8/site-packages/xgboost/sklearn.py:1224: UserWarning: The use of label encoder in XGBClassifier is deprecated and will be removed in a future release. To remove this warning, do the following: 1) Pass option use_label_encoder=False when constructing XGBClassifier object; and 2) Encode your labels (y) as integers starting with 0, i.e. 0, 1, 2, ..., [num_class - 1].\n",
      "  warnings.warn(label_encoder_deprecation_msg, UserWarning)\n",
      "/home/abhigyan/.local/lib/python3.8/site-packages/xgboost/data.py:262: FutureWarning: pandas.Int64Index is deprecated and will be removed from pandas in a future version. Use pandas.Index with the appropriate dtype instead.\n",
      "  elif isinstance(data.columns, (pd.Int64Index, pd.RangeIndex)):\n"
     ]
    },
    {
     "name": "stdout",
     "output_type": "stream",
     "text": [
      "[20:25:54] WARNING: ../src/learner.cc:1115: Starting in XGBoost 1.3.0, the default evaluation metric used with the objective 'binary:logistic' was changed from 'error' to 'logloss'. Explicitly set eval_metric if you'd like to restore the old behavior.\n"
     ]
    }
   ],
   "source": [
    "from sklearn.metrics import accuracy_score,confusion_matrix,classification_report\n",
    "xgb.fit(x_train_os,y_train_os)\n",
    "y_pred_xgb_os = xgb.predict(x_test)"
   ]
  },
  {
   "cell_type": "markdown",
   "id": "884106f3",
   "metadata": {},
   "source": [
    "## Adaboost and GB Hybrid OS (AND)"
   ]
  },
  {
   "cell_type": "code",
   "execution_count": 86,
   "id": "63b89676",
   "metadata": {
    "scrolled": true
   },
   "outputs": [
    {
     "name": "stdout",
     "output_type": "stream",
     "text": [
      "0.9664495687378982\n",
      "[[27433   336]\n",
      " [  617    19]]\n",
      "              precision    recall  f1-score   support\n",
      "\n",
      "           0     0.9780    0.9879    0.9829     27769\n",
      "           1     0.0535    0.0299    0.0383       636\n",
      "\n",
      "    accuracy                         0.9664     28405\n",
      "   macro avg     0.5158    0.5089    0.5106     28405\n",
      "weighted avg     0.9573    0.9664    0.9618     28405\n",
      "\n"
     ]
    }
   ],
   "source": [
    "y_pred = y_pred_ada_os & y_pred_gb_os\n",
    "print(accuracy_score(y_test,y_pred))\n",
    "print(confusion_matrix(y_test,y_pred))\n",
    "print(classification_report(y_test,y_pred, digits=4))"
   ]
  },
  {
   "cell_type": "markdown",
   "id": "1880cd86",
   "metadata": {},
   "source": [
    "## Adaboost and GB Hybrid OS (OR)"
   ]
  },
  {
   "cell_type": "code",
   "execution_count": 87,
   "id": "6eb4c4dc",
   "metadata": {},
   "outputs": [
    {
     "name": "stdout",
     "output_type": "stream",
     "text": [
      "0.9407146629114592\n",
      "[[26677  1092]\n",
      " [  592    44]]\n",
      "              precision    recall  f1-score   support\n",
      "\n",
      "           0     0.9783    0.9607    0.9694     27769\n",
      "           1     0.0387    0.0692    0.0497       636\n",
      "\n",
      "    accuracy                         0.9407     28405\n",
      "   macro avg     0.5085    0.5149    0.5095     28405\n",
      "weighted avg     0.9573    0.9407    0.9488     28405\n",
      "\n"
     ]
    }
   ],
   "source": [
    "y_pred = y_pred_ada_os | y_pred_gb_os\n",
    "print(accuracy_score(y_test,y_pred))\n",
    "print(confusion_matrix(y_test,y_pred))\n",
    "print(classification_report(y_test,y_pred, digits=4))"
   ]
  },
  {
   "cell_type": "markdown",
   "id": "17ae3ee4",
   "metadata": {},
   "source": [
    "## Adaboost and GB Hybrid OS (XOR)"
   ]
  },
  {
   "cell_type": "code",
   "execution_count": 88,
   "id": "f55d5695",
   "metadata": {},
   "outputs": [
    {
     "name": "stdout",
     "output_type": "stream",
     "text": [
      "0.9518746699524732\n",
      "[[27013   756]\n",
      " [  611    25]]\n",
      "              precision    recall  f1-score   support\n",
      "\n",
      "           0     0.9779    0.9728    0.9753     27769\n",
      "           1     0.0320    0.0393    0.0353       636\n",
      "\n",
      "    accuracy                         0.9519     28405\n",
      "   macro avg     0.5049    0.5060    0.5053     28405\n",
      "weighted avg     0.9567    0.9519    0.9543     28405\n",
      "\n"
     ]
    }
   ],
   "source": [
    "y_pred = y_pred_ada_os ^ y_pred_gb_os\n",
    "print(accuracy_score(y_test,y_pred))\n",
    "print(confusion_matrix(y_test,y_pred))\n",
    "print(classification_report(y_test,y_pred, digits=4))"
   ]
  },
  {
   "cell_type": "markdown",
   "id": "0234e74f",
   "metadata": {},
   "source": [
    "## GB and ada Hybrid OS (NAND)"
   ]
  },
  {
   "cell_type": "code",
   "execution_count": 89,
   "id": "b29da355",
   "metadata": {},
   "outputs": [
    {
     "name": "stdout",
     "output_type": "stream",
     "text": [
      "0.03355043126210174\n",
      "[[  336 27433]\n",
      " [   19   617]]\n",
      "              precision    recall  f1-score   support\n",
      "\n",
      "           0     0.9465    0.0121    0.0239     27769\n",
      "           1     0.0220    0.9701    0.0430       636\n",
      "\n",
      "    accuracy                         0.0336     28405\n",
      "   macro avg     0.4842    0.4911    0.0335     28405\n",
      "weighted avg     0.9258    0.0336    0.0243     28405\n",
      "\n"
     ]
    }
   ],
   "source": [
    "y_pred = negation(y_pred_gb_os & y_pred_ada_os)\n",
    "print(accuracy_score(y_test,y_pred))\n",
    "print(confusion_matrix(y_test,y_pred))\n",
    "print(classification_report(y_test,y_pred, digits=4))"
   ]
  },
  {
   "cell_type": "markdown",
   "id": "f9b27be3",
   "metadata": {},
   "source": [
    "## GB and ada Hybrid OS (NOR)"
   ]
  },
  {
   "cell_type": "code",
   "execution_count": 90,
   "id": "9a3e9af1",
   "metadata": {},
   "outputs": [
    {
     "name": "stdout",
     "output_type": "stream",
     "text": [
      "0.05928533708854075\n",
      "[[ 1092 26677]\n",
      " [   44   592]]\n",
      "              precision    recall  f1-score   support\n",
      "\n",
      "           0     0.9613    0.0393    0.0756     27769\n",
      "           1     0.0217    0.9308    0.0424       636\n",
      "\n",
      "    accuracy                         0.0593     28405\n",
      "   macro avg     0.4915    0.4851    0.0590     28405\n",
      "weighted avg     0.9402    0.0593    0.0748     28405\n",
      "\n"
     ]
    }
   ],
   "source": [
    "y_pred = negation(y_pred_gb_os | y_pred_ada_os)\n",
    "print(accuracy_score(y_test,y_pred))\n",
    "print(confusion_matrix(y_test,y_pred))\n",
    "print(classification_report(y_test,y_pred, digits=4))"
   ]
  },
  {
   "cell_type": "markdown",
   "id": "3860e2eb",
   "metadata": {},
   "source": [
    "## GB and ada Hybrid OS (XNOR)"
   ]
  },
  {
   "cell_type": "code",
   "execution_count": 91,
   "id": "2e961546",
   "metadata": {},
   "outputs": [
    {
     "name": "stdout",
     "output_type": "stream",
     "text": [
      "0.048125330047526844\n",
      "[[  756 27013]\n",
      " [   25   611]]\n",
      "              precision    recall  f1-score   support\n",
      "\n",
      "           0     0.9680    0.0272    0.0530     27769\n",
      "           1     0.0221    0.9607    0.0432       636\n",
      "\n",
      "    accuracy                         0.0481     28405\n",
      "   macro avg     0.4951    0.4940    0.0481     28405\n",
      "weighted avg     0.9468    0.0481    0.0527     28405\n",
      "\n"
     ]
    }
   ],
   "source": [
    "y_pred = negation(y_pred_gb_os ^ y_pred_ada_os)\n",
    "print(accuracy_score(y_test,y_pred))\n",
    "print(confusion_matrix(y_test,y_pred))\n",
    "print(classification_report(y_test,y_pred, digits=4))"
   ]
  },
  {
   "cell_type": "markdown",
   "id": "bd839d62",
   "metadata": {},
   "source": [
    "## SMOTETomek"
   ]
  },
  {
   "cell_type": "code",
   "execution_count": 92,
   "id": "314576f4",
   "metadata": {},
   "outputs": [],
   "source": [
    "from imblearn.combine import SMOTETomek"
   ]
  },
  {
   "cell_type": "code",
   "execution_count": 93,
   "id": "1d794ec4",
   "metadata": {},
   "outputs": [
    {
     "name": "stdout",
     "output_type": "stream",
     "text": [
      "The samples before fit Counter({0: 64819, 1: 1458})\n",
      "The samples before fit Counter({0: 64717, 1: 64717})\n"
     ]
    }
   ],
   "source": [
    "sm = SMOTETomek()\n",
    "x_train_sm,y_train_sm = sm.fit_resample(x_train,y_train)\n",
    "print(\"The samples before fit {}\".format(Counter(y_train)))\n",
    "print(\"The samples before fit {}\".format(Counter(y_train_sm)))"
   ]
  },
  {
   "cell_type": "code",
   "execution_count": 94,
   "id": "cebc2a35",
   "metadata": {},
   "outputs": [
    {
     "data": {
      "text/plain": [
       "Counter({0: 27769, 1: 636})"
      ]
     },
     "execution_count": 94,
     "metadata": {},
     "output_type": "execute_result"
    }
   ],
   "source": [
    "Counter(y_test)"
   ]
  },
  {
   "cell_type": "markdown",
   "id": "5ab9afe9",
   "metadata": {},
   "source": [
    "## Rf with SMOTETomek"
   ]
  },
  {
   "cell_type": "code",
   "execution_count": 95,
   "id": "3a629073",
   "metadata": {},
   "outputs": [],
   "source": [
    "rf.fit(x_train_sm,y_train_sm)\n",
    "y_pred_rf_sm = rf.predict(x_test)"
   ]
  },
  {
   "cell_type": "markdown",
   "id": "7a1f9d20",
   "metadata": {},
   "source": [
    "## Ada with SMOTETomek"
   ]
  },
  {
   "cell_type": "code",
   "execution_count": 96,
   "id": "52180308",
   "metadata": {},
   "outputs": [],
   "source": [
    "ada.fit(x_train_sm,y_train_sm)\n",
    "y_pred_ada_sm = ada.predict(x_test)"
   ]
  },
  {
   "cell_type": "markdown",
   "id": "2b4bfb4b",
   "metadata": {},
   "source": [
    "## Gb with SMOTETomek"
   ]
  },
  {
   "cell_type": "code",
   "execution_count": 97,
   "id": "9813769c",
   "metadata": {},
   "outputs": [],
   "source": [
    "gb.fit(x_train_sm,y_train_sm)\n",
    "y_pred_gb_sm = gb.predict(x_test)"
   ]
  },
  {
   "cell_type": "markdown",
   "id": "dc988d77",
   "metadata": {},
   "source": [
    "## XGB with SMOTETomek"
   ]
  },
  {
   "cell_type": "code",
   "execution_count": 98,
   "id": "28d04f18",
   "metadata": {
    "scrolled": true
   },
   "outputs": [
    {
     "name": "stderr",
     "output_type": "stream",
     "text": [
      "/home/abhigyan/.local/lib/python3.8/site-packages/xgboost/sklearn.py:1224: UserWarning: The use of label encoder in XGBClassifier is deprecated and will be removed in a future release. To remove this warning, do the following: 1) Pass option use_label_encoder=False when constructing XGBClassifier object; and 2) Encode your labels (y) as integers starting with 0, i.e. 0, 1, 2, ..., [num_class - 1].\n",
      "  warnings.warn(label_encoder_deprecation_msg, UserWarning)\n",
      "/home/abhigyan/.local/lib/python3.8/site-packages/xgboost/data.py:262: FutureWarning: pandas.Int64Index is deprecated and will be removed from pandas in a future version. Use pandas.Index with the appropriate dtype instead.\n",
      "  elif isinstance(data.columns, (pd.Int64Index, pd.RangeIndex)):\n"
     ]
    },
    {
     "name": "stdout",
     "output_type": "stream",
     "text": [
      "[20:34:01] WARNING: ../src/learner.cc:1115: Starting in XGBoost 1.3.0, the default evaluation metric used with the objective 'binary:logistic' was changed from 'error' to 'logloss'. Explicitly set eval_metric if you'd like to restore the old behavior.\n"
     ]
    }
   ],
   "source": [
    "from sklearn.metrics import accuracy_score,confusion_matrix,classification_report\n",
    "xgb.fit(x_train_sm,y_train_sm)\n",
    "y_pred_xgb_sm = xgb.predict(x_test)"
   ]
  },
  {
   "cell_type": "markdown",
   "id": "23d20e96",
   "metadata": {},
   "source": [
    "## RandomForest and GB Hybrid SMOTETomek (AND)"
   ]
  },
  {
   "cell_type": "code",
   "execution_count": 105,
   "id": "c942097a",
   "metadata": {},
   "outputs": [
    {
     "name": "stdout",
     "output_type": "stream",
     "text": [
      "0.9459602182714311\n",
      "[[26840   929]\n",
      " [  606    30]]\n",
      "              precision    recall  f1-score   support\n",
      "\n",
      "           0     0.9779    0.9665    0.9722     27769\n",
      "           1     0.0313    0.0472    0.0376       636\n",
      "\n",
      "    accuracy                         0.9460     28405\n",
      "   macro avg     0.5046    0.5069    0.5049     28405\n",
      "weighted avg     0.9567    0.9460    0.9513     28405\n",
      "\n"
     ]
    }
   ],
   "source": [
    "y_pred = y_pred_rf_sm & y_pred_gb_sm\n",
    "print(accuracy_score(y_test,y_pred))\n",
    "print(confusion_matrix(y_test,y_pred))\n",
    "print(classification_report(y_test,y_pred, digits=4))"
   ]
  },
  {
   "cell_type": "markdown",
   "id": "9ff83143",
   "metadata": {},
   "source": [
    "## RandomForest and GB Hybrid SMOTETomek (OR)"
   ]
  },
  {
   "cell_type": "code",
   "execution_count": 106,
   "id": "583c322f",
   "metadata": {},
   "outputs": [
    {
     "name": "stdout",
     "output_type": "stream",
     "text": [
      "0.7332863932406266\n",
      "[[20641  7128]\n",
      " [  448   188]]\n",
      "              precision    recall  f1-score   support\n",
      "\n",
      "           0     0.9788    0.7433    0.8449     27769\n",
      "           1     0.0257    0.2956    0.0473       636\n",
      "\n",
      "    accuracy                         0.7333     28405\n",
      "   macro avg     0.5022    0.5195    0.4461     28405\n",
      "weighted avg     0.9574    0.7333    0.8271     28405\n",
      "\n"
     ]
    }
   ],
   "source": [
    "y_pred = y_pred_rf_sm | y_pred_gb_sm\n",
    "print(accuracy_score(y_test,y_pred))\n",
    "print(confusion_matrix(y_test,y_pred))\n",
    "print(classification_report(y_test,y_pred, digits=4))"
   ]
  },
  {
   "cell_type": "markdown",
   "id": "7b5af25c",
   "metadata": {},
   "source": [
    "## RandomForest and GB Hybrid SMOTETomek (XOR)"
   ]
  },
  {
   "cell_type": "code",
   "execution_count": 107,
   "id": "29b89266",
   "metadata": {
    "scrolled": true
   },
   "outputs": [
    {
     "name": "stdout",
     "output_type": "stream",
     "text": [
      "0.7649357507481077\n",
      "[[21570  6199]\n",
      " [  478   158]]\n",
      "              precision    recall  f1-score   support\n",
      "\n",
      "           0     0.9783    0.7768    0.8660     27769\n",
      "           1     0.0249    0.2484    0.0452       636\n",
      "\n",
      "    accuracy                         0.7649     28405\n",
      "   macro avg     0.5016    0.5126    0.4556     28405\n",
      "weighted avg     0.9570    0.7649    0.8476     28405\n",
      "\n"
     ]
    }
   ],
   "source": [
    "y_pred = y_pred_rf_sm ^ y_pred_gb_sm\n",
    "print(accuracy_score(y_test,y_pred))\n",
    "print(confusion_matrix(y_test,y_pred))\n",
    "print(classification_report(y_test,y_pred, digits=4))"
   ]
  },
  {
   "cell_type": "markdown",
   "id": "2bba4b0f",
   "metadata": {},
   "source": [
    "## RandomForest and GB Hybrid SMOTETomek (NAND)"
   ]
  },
  {
   "cell_type": "code",
   "execution_count": 108,
   "id": "4d1866cb",
   "metadata": {
    "scrolled": true
   },
   "outputs": [
    {
     "name": "stdout",
     "output_type": "stream",
     "text": [
      "0.054039781728568916\n",
      "[[  929 26840]\n",
      " [   30   606]]\n",
      "              precision    recall  f1-score   support\n",
      "\n",
      "           0     0.9687    0.0335    0.0647     27769\n",
      "           1     0.0221    0.9528    0.0432       636\n",
      "\n",
      "    accuracy                         0.0540     28405\n",
      "   macro avg     0.4954    0.4931    0.0539     28405\n",
      "weighted avg     0.9475    0.0540    0.0642     28405\n",
      "\n"
     ]
    }
   ],
   "source": [
    "y_pred = negation(y_pred_rf_sm & y_pred_gb_sm)\n",
    "print(accuracy_score(y_test,y_pred))\n",
    "print(confusion_matrix(y_test,y_pred))\n",
    "print(classification_report(y_test,y_pred, digits=4))"
   ]
  },
  {
   "cell_type": "markdown",
   "id": "e60a8f2e",
   "metadata": {},
   "source": [
    "## RandomForest and GB Hybrid SMOTETomek (NOR)"
   ]
  },
  {
   "cell_type": "code",
   "execution_count": 109,
   "id": "95c670d2",
   "metadata": {},
   "outputs": [
    {
     "name": "stdout",
     "output_type": "stream",
     "text": [
      "0.26671360675937333\n",
      "[[ 7128 20641]\n",
      " [  188   448]]\n",
      "              precision    recall  f1-score   support\n",
      "\n",
      "           0     0.9743    0.2567    0.4063     27769\n",
      "           1     0.0212    0.7044    0.0412       636\n",
      "\n",
      "    accuracy                         0.2667     28405\n",
      "   macro avg     0.4978    0.4805    0.2238     28405\n",
      "weighted avg     0.9530    0.2667    0.3982     28405\n",
      "\n"
     ]
    }
   ],
   "source": [
    "y_pred = negation(y_pred_rf_sm | y_pred_gb_sm)\n",
    "print(accuracy_score(y_test,y_pred))\n",
    "print(confusion_matrix(y_test,y_pred))\n",
    "print(classification_report(y_test,y_pred, digits=4))"
   ]
  },
  {
   "cell_type": "markdown",
   "id": "bfbd84d0",
   "metadata": {},
   "source": [
    "## RandomForest and GB Hybrid SMOTETomek (XNOR)"
   ]
  },
  {
   "cell_type": "code",
   "execution_count": 110,
   "id": "b1f7f7a2",
   "metadata": {},
   "outputs": [
    {
     "name": "stdout",
     "output_type": "stream",
     "text": [
      "0.23506424925189226\n",
      "[[ 6199 21570]\n",
      " [  158   478]]\n",
      "              precision    recall  f1-score   support\n",
      "\n",
      "           0     0.9751    0.2232    0.3633     27769\n",
      "           1     0.0217    0.7516    0.0421       636\n",
      "\n",
      "    accuracy                         0.2351     28405\n",
      "   macro avg     0.4984    0.4874    0.2027     28405\n",
      "weighted avg     0.9538    0.2351    0.3561     28405\n",
      "\n"
     ]
    }
   ],
   "source": [
    "y_pred = negation(y_pred_rf_sm ^ y_pred_gb_sm)\n",
    "print(accuracy_score(y_test,y_pred))\n",
    "print(confusion_matrix(y_test,y_pred))\n",
    "print(classification_report(y_test,y_pred, digits=4))"
   ]
  }
 ],
 "metadata": {
  "kernelspec": {
   "display_name": "Python 3 (ipykernel)",
   "language": "python",
   "name": "python3"
  },
  "language_info": {
   "codemirror_mode": {
    "name": "ipython",
    "version": 3
   },
   "file_extension": ".py",
   "mimetype": "text/x-python",
   "name": "python",
   "nbconvert_exporter": "python",
   "pygments_lexer": "ipython3",
   "version": "3.8.10"
  }
 },
 "nbformat": 4,
 "nbformat_minor": 5
}
