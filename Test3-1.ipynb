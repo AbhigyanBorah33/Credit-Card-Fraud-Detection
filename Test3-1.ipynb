{
 "cells": [
  {
   "cell_type": "markdown",
   "id": "9dc14f86",
   "metadata": {},
   "source": [
    "## CC_FRAUD with Normal Approaches"
   ]
  },
  {
   "cell_type": "markdown",
   "id": "65f7a684",
   "metadata": {},
   "source": [
    "### Load Packages"
   ]
  },
  {
   "cell_type": "code",
   "execution_count": 47,
   "id": "4493a9b8",
   "metadata": {},
   "outputs": [],
   "source": [
    "import pandas as pd\n",
    "import numpy as np\n",
    "import seaborn as sns\n",
    "from sklearn.model_selection import KFold\n",
    "from sklearn.metrics import accuracy_score,confusion_matrix,classification_report,roc_auc_score\n",
    "from sklearn.metrics import make_scorer, accuracy_score, precision_score, recall_score, f1_score"
   ]
  },
  {
   "cell_type": "markdown",
   "id": "c4f5d93b",
   "metadata": {},
   "source": [
    "### Read Data"
   ]
  },
  {
   "cell_type": "code",
   "execution_count": 48,
   "id": "a6181fb5",
   "metadata": {},
   "outputs": [],
   "source": [
    "df = pd.read_csv(\"CC_FRAUD.csv\")"
   ]
  },
  {
   "cell_type": "markdown",
   "id": "a2cf5e6b",
   "metadata": {},
   "source": [
    "### Glimse of data"
   ]
  },
  {
   "cell_type": "code",
   "execution_count": 49,
   "id": "e447ce34",
   "metadata": {},
   "outputs": [
    {
     "data": {
      "text/html": [
       "<div>\n",
       "<style scoped>\n",
       "    .dataframe tbody tr th:only-of-type {\n",
       "        vertical-align: middle;\n",
       "    }\n",
       "\n",
       "    .dataframe tbody tr th {\n",
       "        vertical-align: top;\n",
       "    }\n",
       "\n",
       "    .dataframe thead th {\n",
       "        text-align: right;\n",
       "    }\n",
       "</style>\n",
       "<table border=\"1\" class=\"dataframe\">\n",
       "  <thead>\n",
       "    <tr style=\"text-align: right;\">\n",
       "      <th></th>\n",
       "      <th>DOMAIN</th>\n",
       "      <th>STATE</th>\n",
       "      <th>ZIPCODE</th>\n",
       "      <th>TIME1</th>\n",
       "      <th>TIME2</th>\n",
       "      <th>VIS1</th>\n",
       "      <th>VIS2</th>\n",
       "      <th>XRN1</th>\n",
       "      <th>XRN2</th>\n",
       "      <th>XRN3</th>\n",
       "      <th>XRN4</th>\n",
       "      <th>XRN5</th>\n",
       "      <th>VAR1</th>\n",
       "      <th>VAR2</th>\n",
       "      <th>VAR3</th>\n",
       "      <th>VAR4</th>\n",
       "      <th>VAR5</th>\n",
       "      <th>TRN_AMT</th>\n",
       "      <th>TOTAL_TRN_AMT</th>\n",
       "      <th>TRN_TYPE</th>\n",
       "    </tr>\n",
       "  </thead>\n",
       "  <tbody>\n",
       "    <tr>\n",
       "      <th>0</th>\n",
       "      <td>CDRZLKAJIJVQHCN.COM</td>\n",
       "      <td>AO</td>\n",
       "      <td>675</td>\n",
       "      <td>12</td>\n",
       "      <td>12</td>\n",
       "      <td>1</td>\n",
       "      <td>0</td>\n",
       "      <td>0</td>\n",
       "      <td>1</td>\n",
       "      <td>1</td>\n",
       "      <td>0</td>\n",
       "      <td>1</td>\n",
       "      <td>2</td>\n",
       "      <td>1</td>\n",
       "      <td>16.680</td>\n",
       "      <td>34</td>\n",
       "      <td>0</td>\n",
       "      <td>12.95</td>\n",
       "      <td>12.95</td>\n",
       "      <td>0</td>\n",
       "    </tr>\n",
       "    <tr>\n",
       "      <th>1</th>\n",
       "      <td>NEKSXUK.NET</td>\n",
       "      <td>KK</td>\n",
       "      <td>680</td>\n",
       "      <td>18</td>\n",
       "      <td>18</td>\n",
       "      <td>1</td>\n",
       "      <td>0</td>\n",
       "      <td>0</td>\n",
       "      <td>0</td>\n",
       "      <td>0</td>\n",
       "      <td>0</td>\n",
       "      <td>1</td>\n",
       "      <td>3</td>\n",
       "      <td>0</td>\n",
       "      <td>37.880</td>\n",
       "      <td>23</td>\n",
       "      <td>0</td>\n",
       "      <td>38.85</td>\n",
       "      <td>38.85</td>\n",
       "      <td>0</td>\n",
       "    </tr>\n",
       "    <tr>\n",
       "      <th>2</th>\n",
       "      <td>XOSOP.COM</td>\n",
       "      <td>UO</td>\n",
       "      <td>432</td>\n",
       "      <td>3</td>\n",
       "      <td>3</td>\n",
       "      <td>1</td>\n",
       "      <td>0</td>\n",
       "      <td>0</td>\n",
       "      <td>1</td>\n",
       "      <td>1</td>\n",
       "      <td>0</td>\n",
       "      <td>1</td>\n",
       "      <td>3</td>\n",
       "      <td>1</td>\n",
       "      <td>-9.080</td>\n",
       "      <td>19</td>\n",
       "      <td>2</td>\n",
       "      <td>38.85</td>\n",
       "      <td>38.85</td>\n",
       "      <td>0</td>\n",
       "    </tr>\n",
       "    <tr>\n",
       "      <th>3</th>\n",
       "      <td>TMA.COM</td>\n",
       "      <td>KR</td>\n",
       "      <td>119</td>\n",
       "      <td>23</td>\n",
       "      <td>23</td>\n",
       "      <td>0</td>\n",
       "      <td>0</td>\n",
       "      <td>1</td>\n",
       "      <td>0</td>\n",
       "      <td>0</td>\n",
       "      <td>0</td>\n",
       "      <td>3</td>\n",
       "      <td>0</td>\n",
       "      <td>0</td>\n",
       "      <td>-6.392</td>\n",
       "      <td>18</td>\n",
       "      <td>0</td>\n",
       "      <td>11.01</td>\n",
       "      <td>11.01</td>\n",
       "      <td>0</td>\n",
       "    </tr>\n",
       "    <tr>\n",
       "      <th>4</th>\n",
       "      <td>VUHZRNB.COM</td>\n",
       "      <td>PO</td>\n",
       "      <td>614</td>\n",
       "      <td>9</td>\n",
       "      <td>9</td>\n",
       "      <td>0</td>\n",
       "      <td>0</td>\n",
       "      <td>0</td>\n",
       "      <td>1</td>\n",
       "      <td>0</td>\n",
       "      <td>0</td>\n",
       "      <td>1</td>\n",
       "      <td>3</td>\n",
       "      <td>0</td>\n",
       "      <td>42.512</td>\n",
       "      <td>7</td>\n",
       "      <td>0</td>\n",
       "      <td>12.95</td>\n",
       "      <td>12.95</td>\n",
       "      <td>0</td>\n",
       "    </tr>\n",
       "  </tbody>\n",
       "</table>\n",
       "</div>"
      ],
      "text/plain": [
       "                DOMAIN STATE  ZIPCODE  TIME1  TIME2  VIS1  VIS2  XRN1  XRN2  \\\n",
       "0  CDRZLKAJIJVQHCN.COM    AO      675     12     12     1     0     0     1   \n",
       "1          NEKSXUK.NET    KK      680     18     18     1     0     0     0   \n",
       "2            XOSOP.COM    UO      432      3      3     1     0     0     1   \n",
       "3              TMA.COM    KR      119     23     23     0     0     1     0   \n",
       "4          VUHZRNB.COM    PO      614      9      9     0     0     0     1   \n",
       "\n",
       "   XRN3  XRN4  XRN5  VAR1  VAR2    VAR3  VAR4  VAR5  TRN_AMT  TOTAL_TRN_AMT  \\\n",
       "0     1     0     1     2     1  16.680    34     0    12.95          12.95   \n",
       "1     0     0     1     3     0  37.880    23     0    38.85          38.85   \n",
       "2     1     0     1     3     1  -9.080    19     2    38.85          38.85   \n",
       "3     0     0     3     0     0  -6.392    18     0    11.01          11.01   \n",
       "4     0     0     1     3     0  42.512     7     0    12.95          12.95   \n",
       "\n",
       "   TRN_TYPE  \n",
       "0         0  \n",
       "1         0  \n",
       "2         0  \n",
       "3         0  \n",
       "4         0  "
      ]
     },
     "execution_count": 49,
     "metadata": {},
     "output_type": "execute_result"
    }
   ],
   "source": [
    "df.head()"
   ]
  },
  {
   "cell_type": "code",
   "execution_count": 50,
   "id": "a0be4eb6",
   "metadata": {},
   "outputs": [
    {
     "data": {
      "text/plain": [
       "(94682, 20)"
      ]
     },
     "execution_count": 50,
     "metadata": {},
     "output_type": "execute_result"
    }
   ],
   "source": [
    "df.shape"
   ]
  },
  {
   "cell_type": "code",
   "execution_count": 51,
   "id": "c600c1f2",
   "metadata": {},
   "outputs": [
    {
     "data": {
      "text/plain": [
       "0    92588\n",
       "1     2094\n",
       "Name: TRN_TYPE, dtype: int64"
      ]
     },
     "execution_count": 51,
     "metadata": {},
     "output_type": "execute_result"
    }
   ],
   "source": [
    "df[\"TRN_TYPE\"].value_counts()"
   ]
  },
  {
   "cell_type": "markdown",
   "id": "cf5cb49a",
   "metadata": {},
   "source": [
    "### Credit card Fraud- data unbalance"
   ]
  },
  {
   "cell_type": "code",
   "execution_count": 52,
   "id": "9dbbe3ff",
   "metadata": {},
   "outputs": [
    {
     "name": "stderr",
     "output_type": "stream",
     "text": [
      "/home/abhigyan/.local/lib/python3.8/site-packages/seaborn/_decorators.py:36: FutureWarning: Pass the following variable as a keyword arg: x. From version 0.12, the only valid positional argument will be `data`, and passing other arguments without an explicit keyword will result in an error or misinterpretation.\n",
      "  warnings.warn(\n"
     ]
    },
    {
     "data": {
      "text/plain": [
       "[Text(0, 0, 'Normal'), Text(1, 0, 'Fraud')]"
      ]
     },
     "execution_count": 52,
     "metadata": {},
     "output_type": "execute_result"
    },
    {
     "data": {
      "image/png": "[encoded data removed]",
      "text/plain": [
       "<Figure size 432x288 with 1 Axes>"
      ]
     },
     "metadata": {
      "needs_background": "light"
     },
     "output_type": "display_data"
    }
   ],
   "source": [
    "graph = sns.countplot(df[\"TRN_TYPE\"],data=df)\n",
    "graph.set_xticklabels([\"Normal\",\"Fraud\"])"
   ]
  },
  {
   "cell_type": "markdown",
   "id": "788fc2b9",
   "metadata": {},
   "source": [
    "### check for missing values"
   ]
  },
  {
   "cell_type": "code",
   "execution_count": 53,
   "id": "5ddf3176",
   "metadata": {},
   "outputs": [
    {
     "data": {
      "text/plain": [
       "<AxesSubplot:>"
      ]
     },
     "execution_count": 53,
     "metadata": {},
     "output_type": "execute_result"
    },
    {
     "data": {
      "image/png": "[encoded data removed]",
      "text/plain": [
       "<Figure size 720x360 with 1 Axes>"
      ]
     },
     "metadata": {
      "needs_background": "light"
     },
     "output_type": "display_data"
    }
   ],
   "source": [
    "import matplotlib.pyplot as plt\n",
    "%matplotlib inline\n",
    "plt.figure(figsize=(10,5))\n",
    "sns.heatmap(df.isnull(),yticklabels=False,cmap='viridis',cbar=False)"
   ]
  },
  {
   "cell_type": "code",
   "execution_count": 54,
   "id": "9f5318b4",
   "metadata": {},
   "outputs": [],
   "source": [
    "target = df[\"TRN_TYPE\"]"
   ]
  },
  {
   "cell_type": "code",
   "execution_count": 55,
   "id": "ae00d3d4",
   "metadata": {},
   "outputs": [
    {
     "data": {
      "text/plain": [
       "0        0\n",
       "1        0\n",
       "2        0\n",
       "3        0\n",
       "4        0\n",
       "        ..\n",
       "94677    0\n",
       "94678    0\n",
       "94679    0\n",
       "94680    0\n",
       "94681    0\n",
       "Name: TRN_TYPE, Length: 94682, dtype: int64"
      ]
     },
     "execution_count": 55,
     "metadata": {},
     "output_type": "execute_result"
    }
   ],
   "source": [
    "target"
   ]
  },
  {
   "cell_type": "code",
   "execution_count": 56,
   "id": "3cccb733",
   "metadata": {},
   "outputs": [],
   "source": [
    "df= df.drop([\"DOMAIN\",\"STATE\",\"ZIPCODE\",\"TRN_TYPE\"],axis=1)"
   ]
  },
  {
   "cell_type": "code",
   "execution_count": 57,
   "id": "d374cce1",
   "metadata": {},
   "outputs": [
    {
     "data": {
      "text/html": [
       "<div>\n",
       "<style scoped>\n",
       "    .dataframe tbody tr th:only-of-type {\n",
       "        vertical-align: middle;\n",
       "    }\n",
       "\n",
       "    .dataframe tbody tr th {\n",
       "        vertical-align: top;\n",
       "    }\n",
       "\n",
       "    .dataframe thead th {\n",
       "        text-align: right;\n",
       "    }\n",
       "</style>\n",
       "<table border=\"1\" class=\"dataframe\">\n",
       "  <thead>\n",
       "    <tr style=\"text-align: right;\">\n",
       "      <th></th>\n",
       "      <th>TIME1</th>\n",
       "      <th>TIME2</th>\n",
       "      <th>VIS1</th>\n",
       "      <th>VIS2</th>\n",
       "      <th>XRN1</th>\n",
       "      <th>XRN2</th>\n",
       "      <th>XRN3</th>\n",
       "      <th>XRN4</th>\n",
       "      <th>XRN5</th>\n",
       "      <th>VAR1</th>\n",
       "      <th>VAR2</th>\n",
       "      <th>VAR3</th>\n",
       "      <th>VAR4</th>\n",
       "      <th>VAR5</th>\n",
       "      <th>TRN_AMT</th>\n",
       "      <th>TOTAL_TRN_AMT</th>\n",
       "    </tr>\n",
       "  </thead>\n",
       "  <tbody>\n",
       "    <tr>\n",
       "      <th>0</th>\n",
       "      <td>12</td>\n",
       "      <td>12</td>\n",
       "      <td>1</td>\n",
       "      <td>0</td>\n",
       "      <td>0</td>\n",
       "      <td>1</td>\n",
       "      <td>1</td>\n",
       "      <td>0</td>\n",
       "      <td>1</td>\n",
       "      <td>2</td>\n",
       "      <td>1</td>\n",
       "      <td>16.680</td>\n",
       "      <td>34</td>\n",
       "      <td>0</td>\n",
       "      <td>12.95</td>\n",
       "      <td>12.95</td>\n",
       "    </tr>\n",
       "    <tr>\n",
       "      <th>1</th>\n",
       "      <td>18</td>\n",
       "      <td>18</td>\n",
       "      <td>1</td>\n",
       "      <td>0</td>\n",
       "      <td>0</td>\n",
       "      <td>0</td>\n",
       "      <td>0</td>\n",
       "      <td>0</td>\n",
       "      <td>1</td>\n",
       "      <td>3</td>\n",
       "      <td>0</td>\n",
       "      <td>37.880</td>\n",
       "      <td>23</td>\n",
       "      <td>0</td>\n",
       "      <td>38.85</td>\n",
       "      <td>38.85</td>\n",
       "    </tr>\n",
       "    <tr>\n",
       "      <th>2</th>\n",
       "      <td>3</td>\n",
       "      <td>3</td>\n",
       "      <td>1</td>\n",
       "      <td>0</td>\n",
       "      <td>0</td>\n",
       "      <td>1</td>\n",
       "      <td>1</td>\n",
       "      <td>0</td>\n",
       "      <td>1</td>\n",
       "      <td>3</td>\n",
       "      <td>1</td>\n",
       "      <td>-9.080</td>\n",
       "      <td>19</td>\n",
       "      <td>2</td>\n",
       "      <td>38.85</td>\n",
       "      <td>38.85</td>\n",
       "    </tr>\n",
       "    <tr>\n",
       "      <th>3</th>\n",
       "      <td>23</td>\n",
       "      <td>23</td>\n",
       "      <td>0</td>\n",
       "      <td>0</td>\n",
       "      <td>1</td>\n",
       "      <td>0</td>\n",
       "      <td>0</td>\n",
       "      <td>0</td>\n",
       "      <td>3</td>\n",
       "      <td>0</td>\n",
       "      <td>0</td>\n",
       "      <td>-6.392</td>\n",
       "      <td>18</td>\n",
       "      <td>0</td>\n",
       "      <td>11.01</td>\n",
       "      <td>11.01</td>\n",
       "    </tr>\n",
       "    <tr>\n",
       "      <th>4</th>\n",
       "      <td>9</td>\n",
       "      <td>9</td>\n",
       "      <td>0</td>\n",
       "      <td>0</td>\n",
       "      <td>0</td>\n",
       "      <td>1</td>\n",
       "      <td>0</td>\n",
       "      <td>0</td>\n",
       "      <td>1</td>\n",
       "      <td>3</td>\n",
       "      <td>0</td>\n",
       "      <td>42.512</td>\n",
       "      <td>7</td>\n",
       "      <td>0</td>\n",
       "      <td>12.95</td>\n",
       "      <td>12.95</td>\n",
       "    </tr>\n",
       "  </tbody>\n",
       "</table>\n",
       "</div>"
      ],
      "text/plain": [
       "   TIME1  TIME2  VIS1  VIS2  XRN1  XRN2  XRN3  XRN4  XRN5  VAR1  VAR2    VAR3  \\\n",
       "0     12     12     1     0     0     1     1     0     1     2     1  16.680   \n",
       "1     18     18     1     0     0     0     0     0     1     3     0  37.880   \n",
       "2      3      3     1     0     0     1     1     0     1     3     1  -9.080   \n",
       "3     23     23     0     0     1     0     0     0     3     0     0  -6.392   \n",
       "4      9      9     0     0     0     1     0     0     1     3     0  42.512   \n",
       "\n",
       "   VAR4  VAR5  TRN_AMT  TOTAL_TRN_AMT  \n",
       "0    34     0    12.95          12.95  \n",
       "1    23     0    38.85          38.85  \n",
       "2    19     2    38.85          38.85  \n",
       "3    18     0    11.01          11.01  \n",
       "4     7     0    12.95          12.95  "
      ]
     },
     "execution_count": 57,
     "metadata": {},
     "output_type": "execute_result"
    }
   ],
   "source": [
    "df.head()"
   ]
  },
  {
   "cell_type": "markdown",
   "id": "b53ef954",
   "metadata": {},
   "source": [
    "## splitting data in train and test sets"
   ]
  },
  {
   "cell_type": "code",
   "execution_count": 58,
   "id": "86815d7e",
   "metadata": {},
   "outputs": [],
   "source": [
    "from sklearn.model_selection import train_test_split\n",
    "x_train,x_test,y_train,y_test = train_test_split(df,target,test_size=0.3,random_state=42)"
   ]
  },
  {
   "cell_type": "code",
   "execution_count": 59,
   "id": "712c96ea",
   "metadata": {},
   "outputs": [
    {
     "data": {
      "text/plain": [
       "(28405, 16)"
      ]
     },
     "execution_count": 59,
     "metadata": {},
     "output_type": "execute_result"
    }
   ],
   "source": [
    "x_test.shape"
   ]
  },
  {
   "cell_type": "code",
   "execution_count": 60,
   "id": "ef2d90d2",
   "metadata": {},
   "outputs": [
    {
     "data": {
      "text/plain": [
       "(66277, 16)"
      ]
     },
     "execution_count": 60,
     "metadata": {},
     "output_type": "execute_result"
    }
   ],
   "source": [
    "x_train.shape"
   ]
  },
  {
   "cell_type": "code",
   "execution_count": 61,
   "id": "459b8347",
   "metadata": {},
   "outputs": [
    {
     "data": {
      "text/plain": [
       "0    27769\n",
       "1      636\n",
       "Name: TRN_TYPE, dtype: int64"
      ]
     },
     "execution_count": 61,
     "metadata": {},
     "output_type": "execute_result"
    }
   ],
   "source": [
    "y_test.value_counts()"
   ]
  },
  {
   "cell_type": "markdown",
   "id": "11a612da",
   "metadata": {},
   "source": [
    "## Random Forest"
   ]
  },
  {
   "cell_type": "code",
   "execution_count": 62,
   "id": "7e7ad8a6",
   "metadata": {},
   "outputs": [],
   "source": [
    "from sklearn.ensemble import RandomForestClassifier\n",
    "rf = RandomForestClassifier()\n",
    "from sklearn.model_selection import cross_val_score"
   ]
  },
  {
   "cell_type": "code",
   "execution_count": 63,
   "id": "d2979fe3",
   "metadata": {},
   "outputs": [],
   "source": [
    "from sklearn.model_selection import cross_validate\n",
    "\n",
    "scoring = {'accuracy' : make_scorer(accuracy_score), \n",
    "           'precision' : make_scorer(precision_score),\n",
    "           'recall' : make_scorer(recall_score), \n",
    "           'f1_score' : make_scorer(f1_score)}\n",
    "\n",
    "kfold = KFold(n_splits=10, random_state=42, shuffle=True) \n",
    "\n",
    "results = cross_validate(estimator=rf,\n",
    "                                          X=df,\n",
    "                                          y=target,\n",
    "                                          cv=kfold,\n",
    "                                          scoring=scoring)"
   ]
  },
  {
   "cell_type": "code",
   "execution_count": 64,
   "id": "8637383e",
   "metadata": {},
   "outputs": [
    {
     "data": {
      "text/plain": [
       "{'fit_time': array([19.9848485 , 26.70256829, 30.50680065, 18.54716539, 17.15299511,\n",
       "        18.40166163, 18.69544458, 16.6501472 , 16.75954366, 13.68109894]),\n",
       " 'score_time': array([0.40140533, 0.77573514, 0.820997  , 0.38214159, 0.30597138,\n",
       "        0.64431   , 0.27229428, 0.27728701, 0.26085901, 0.32042241]),\n",
       " 'test_accuracy': array([0.97518217, 0.97771676, 0.9765526 , 0.97803126, 0.97623574,\n",
       "        0.97623574, 0.97697507, 0.97887621, 0.97739755, 0.9748627 ]),\n",
       " 'test_precision': array([0.24137931, 0.19047619, 0.40909091, 0.46428571, 0.22727273,\n",
       "        0.14285714, 0.25      , 0.38888889, 0.26315789, 0.17241379]),\n",
       " 'test_recall': array([0.03181818, 0.02020202, 0.0412844 , 0.0631068 , 0.02347418,\n",
       "        0.00930233, 0.03431373, 0.03571429, 0.02439024, 0.02283105]),\n",
       " 'test_f1_score': array([0.0562249 , 0.03652968, 0.075     , 0.11111111, 0.04255319,\n",
       "        0.01746725, 0.06034483, 0.06542056, 0.04464286, 0.04032258])}"
      ]
     },
     "execution_count": 64,
     "metadata": {},
     "output_type": "execute_result"
    }
   ],
   "source": [
    "results"
   ]
  },
  {
   "cell_type": "code",
   "execution_count": 65,
   "id": "3c14679c",
   "metadata": {},
   "outputs": [
    {
     "data": {
      "text/plain": [
       "0.030643721112681422"
      ]
     },
     "execution_count": 65,
     "metadata": {},
     "output_type": "execute_result"
    }
   ],
   "source": [
    "precision = np.mean(results['test_precision'])\n",
    "precision\n",
    "np.mean(results['test_recall'])"
   ]
  },
  {
   "cell_type": "code",
   "execution_count": 66,
   "id": "d3db6cfe",
   "metadata": {},
   "outputs": [
    {
     "data": {
      "text/plain": [
       "RandomForestClassifier()"
      ]
     },
     "execution_count": 66,
     "metadata": {},
     "output_type": "execute_result"
    }
   ],
   "source": [
    "rf.fit(x_train,y_train)"
   ]
  },
  {
   "cell_type": "code",
   "execution_count": 67,
   "id": "2eca5ace",
   "metadata": {
    "scrolled": true
   },
   "outputs": [
    {
     "name": "stdout",
     "output_type": "stream",
     "text": [
      "0.9768350642492519\n",
      "[[27729    40]\n",
      " [  618    18]]\n",
      "              precision    recall  f1-score   support\n",
      "\n",
      "           0     0.9782    0.9986    0.9883     27769\n",
      "           1     0.3103    0.0283    0.0519       636\n",
      "\n",
      "    accuracy                         0.9768     28405\n",
      "   macro avg     0.6443    0.5134    0.5201     28405\n",
      "weighted avg     0.9632    0.9768    0.9673     28405\n",
      "\n"
     ]
    }
   ],
   "source": [
    "y_pred = rf.predict(x_test)\n",
    "print(accuracy_score(y_test,y_pred))\n",
    "print(confusion_matrix(y_test,y_pred))\n",
    "print(classification_report(y_test,y_pred, digits=4))"
   ]
  },
  {
   "cell_type": "markdown",
   "id": "45d3704d",
   "metadata": {},
   "source": [
    "## AdaBoost"
   ]
  },
  {
   "cell_type": "code",
   "execution_count": 68,
   "id": "48b1f174",
   "metadata": {},
   "outputs": [
    {
     "data": {
      "text/plain": [
       "AdaBoostClassifier(learning_rate=0.8, n_estimators=100, random_state=42)"
      ]
     },
     "execution_count": 68,
     "metadata": {},
     "output_type": "execute_result"
    }
   ],
   "source": [
    "from sklearn.ensemble import AdaBoostClassifier\n",
    "ada = AdaBoostClassifier(n_estimators = 100, random_state = 42,algorithm='SAMME.R',\n",
    "                         learning_rate=0.8,)\n",
    "ada.fit(x_train,y_train)"
   ]
  },
  {
   "cell_type": "code",
   "execution_count": 69,
   "id": "34f4bb39",
   "metadata": {},
   "outputs": [
    {
     "name": "stdout",
     "output_type": "stream",
     "text": [
      "0.9776095757789122\n",
      "[[27769     0]\n",
      " [  636     0]]\n",
      "              precision    recall  f1-score   support\n",
      "\n",
      "           0     0.9776    1.0000    0.9887     27769\n",
      "           1     0.0000    0.0000    0.0000       636\n",
      "\n",
      "    accuracy                         0.9776     28405\n",
      "   macro avg     0.4888    0.5000    0.4943     28405\n",
      "weighted avg     0.9557    0.9776    0.9665     28405\n",
      "\n"
     ]
    },
    {
     "name": "stderr",
     "output_type": "stream",
     "text": [
      "/home/abhigyan/.local/lib/python3.8/site-packages/sklearn/metrics/_classification.py:1318: UndefinedMetricWarning: Precision and F-score are ill-defined and being set to 0.0 in labels with no predicted samples. Use `zero_division` parameter to control this behavior.\n",
      "  _warn_prf(average, modifier, msg_start, len(result))\n",
      "/home/abhigyan/.local/lib/python3.8/site-packages/sklearn/metrics/_classification.py:1318: UndefinedMetricWarning: Precision and F-score are ill-defined and being set to 0.0 in labels with no predicted samples. Use `zero_division` parameter to control this behavior.\n",
      "  _warn_prf(average, modifier, msg_start, len(result))\n",
      "/home/abhigyan/.local/lib/python3.8/site-packages/sklearn/metrics/_classification.py:1318: UndefinedMetricWarning: Precision and F-score are ill-defined and being set to 0.0 in labels with no predicted samples. Use `zero_division` parameter to control this behavior.\n",
      "  _warn_prf(average, modifier, msg_start, len(result))\n"
     ]
    }
   ],
   "source": [
    "y_pred = ada.predict(x_test)\n",
    "print(accuracy_score(y_test,y_pred))\n",
    "print(confusion_matrix(y_test,y_pred))\n",
    "print(classification_report(y_test,y_pred, digits=4))"
   ]
  },
  {
   "cell_type": "markdown",
   "id": "34458305",
   "metadata": {},
   "source": [
    "## Gradient Boosting"
   ]
  },
  {
   "cell_type": "code",
   "execution_count": 70,
   "id": "3f1c26df",
   "metadata": {},
   "outputs": [],
   "source": [
    "from sklearn.ensemble import GradientBoostingClassifier\n",
    "gb = GradientBoostingClassifier()"
   ]
  },
  {
   "cell_type": "code",
   "execution_count": 71,
   "id": "a945dd39",
   "metadata": {},
   "outputs": [
    {
     "name": "stdout",
     "output_type": "stream",
     "text": [
      "0.977222320014082\n",
      "[[27758    11]\n",
      " [  636     0]]\n",
      "              precision    recall  f1-score   support\n",
      "\n",
      "           0     0.9776    0.9996    0.9885     27769\n",
      "           1     0.0000    0.0000    0.0000       636\n",
      "\n",
      "    accuracy                         0.9772     28405\n",
      "   macro avg     0.4888    0.4998    0.4942     28405\n",
      "weighted avg     0.9557    0.9772    0.9663     28405\n",
      "\n"
     ]
    }
   ],
   "source": [
    "from sklearn.metrics import accuracy_score,confusion_matrix,classification_report\n",
    "gb.fit(x_train,y_train)\n",
    "y_pred = gb.predict(x_test)\n",
    "print(accuracy_score(y_test,y_pred))\n",
    "print(confusion_matrix(y_test,y_pred))\n",
    "print(classification_report(y_test,y_pred, digits=4))"
   ]
  },
  {
   "cell_type": "markdown",
   "id": "391504d0",
   "metadata": {},
   "source": [
    "## XG Boost"
   ]
  },
  {
   "cell_type": "code",
   "execution_count": 72,
   "id": "c849cfae",
   "metadata": {},
   "outputs": [],
   "source": [
    "from xgboost import XGBClassifier\n",
    "xgb = XGBClassifier()"
   ]
  },
  {
   "cell_type": "code",
   "execution_count": 73,
   "id": "e2f984fb",
   "metadata": {},
   "outputs": [
    {
     "name": "stderr",
     "output_type": "stream",
     "text": [
      "/home/abhigyan/.local/lib/python3.8/site-packages/xgboost/sklearn.py:1224: UserWarning: The use of label encoder in XGBClassifier is deprecated and will be removed in a future release. To remove this warning, do the following: 1) Pass option use_label_encoder=False when constructing XGBClassifier object; and 2) Encode your labels (y) as integers starting with 0, i.e. 0, 1, 2, ..., [num_class - 1].\n",
      "  warnings.warn(label_encoder_deprecation_msg, UserWarning)\n",
      "/home/abhigyan/.local/lib/python3.8/site-packages/xgboost/data.py:262: FutureWarning: pandas.Int64Index is deprecated and will be removed from pandas in a future version. Use pandas.Index with the appropriate dtype instead.\n",
      "  elif isinstance(data.columns, (pd.Int64Index, pd.RangeIndex)):\n"
     ]
    },
    {
     "name": "stdout",
     "output_type": "stream",
     "text": [
      "[20:00:59] WARNING: ../src/learner.cc:1115: Starting in XGBoost 1.3.0, the default evaluation metric used with the objective 'binary:logistic' was changed from 'error' to 'logloss'. Explicitly set eval_metric if you'd like to restore the old behavior.\n",
      "0.9775039605703221\n",
      "[[27762     7]\n",
      " [  632     4]]\n",
      "              precision    recall  f1-score   support\n",
      "\n",
      "           0     0.9777    0.9997    0.9886     27769\n",
      "           1     0.3636    0.0063    0.0124       636\n",
      "\n",
      "    accuracy                         0.9775     28405\n",
      "   macro avg     0.6707    0.5030    0.5005     28405\n",
      "weighted avg     0.9640    0.9775    0.9668     28405\n",
      "\n"
     ]
    }
   ],
   "source": [
    "from sklearn.metrics import accuracy_score,confusion_matrix,classification_report\n",
    "xgb.fit(x_train,y_train)\n",
    "y_pred = xgb.predict(x_test)\n",
    "print(accuracy_score(y_test,y_pred))\n",
    "print(confusion_matrix(y_test,y_pred))\n",
    "print(classification_report(y_test,y_pred, digits=4))"
   ]
  },
  {
   "cell_type": "markdown",
   "id": "e7c233e7",
   "metadata": {},
   "source": [
    "## Under Sampling"
   ]
  },
  {
   "cell_type": "code",
   "execution_count": 74,
   "id": "a6b09983",
   "metadata": {},
   "outputs": [],
   "source": [
    "from imblearn.under_sampling import NearMiss\n",
    "from collections import Counter"
   ]
  },
  {
   "cell_type": "code",
   "execution_count": 75,
   "id": "62629f2c",
   "metadata": {},
   "outputs": [
    {
     "name": "stdout",
     "output_type": "stream",
     "text": [
      "The samples before fit Counter({0: 64819, 1: 1458})\n",
      "The samples before fit Counter({0: 1822, 1: 1458})\n"
     ]
    }
   ],
   "source": [
    "us = NearMiss(sampling_strategy=0.8)\n",
    "x_train_us,y_train_us = us.fit_resample(x_train,y_train)\n",
    "print(\"The samples before fit {}\".format(Counter(y_train)))\n",
    "print(\"The samples before fit {}\".format(Counter(y_train_us)))"
   ]
  },
  {
   "cell_type": "markdown",
   "id": "e41b8b95",
   "metadata": {},
   "source": [
    "## Rf with US"
   ]
  },
  {
   "cell_type": "code",
   "execution_count": 76,
   "id": "5eb2747e",
   "metadata": {},
   "outputs": [
    {
     "name": "stdout",
     "output_type": "stream",
     "text": [
      "0.21450448864636507\n",
      "[[ 5598 22171]\n",
      " [  141   495]]\n",
      "              precision    recall  f1-score   support\n",
      "\n",
      "           0     0.9754    0.2016    0.3341     27769\n",
      "           1     0.0218    0.7783    0.0425       636\n",
      "\n",
      "    accuracy                         0.2145     28405\n",
      "   macro avg     0.4986    0.4899    0.1883     28405\n",
      "weighted avg     0.9541    0.2145    0.3276     28405\n",
      "\n"
     ]
    }
   ],
   "source": [
    "rf.fit(x_train_us,y_train_us)\n",
    "y_pred = rf.predict(x_test)\n",
    "print(accuracy_score(y_test,y_pred))\n",
    "print(confusion_matrix(y_test,y_pred))\n",
    "print(classification_report(y_test,y_pred, digits=4))"
   ]
  },
  {
   "cell_type": "markdown",
   "id": "985066c9",
   "metadata": {},
   "source": [
    "## Ada with US"
   ]
  },
  {
   "cell_type": "code",
   "execution_count": 77,
   "id": "81b164e1",
   "metadata": {
    "scrolled": true
   },
   "outputs": [
    {
     "name": "stdout",
     "output_type": "stream",
     "text": [
      "0.3014258053159655\n",
      "[[ 8147 19622]\n",
      " [  221   415]]\n",
      "              precision    recall  f1-score   support\n",
      "\n",
      "           0     0.9736    0.2934    0.4509     27769\n",
      "           1     0.0207    0.6525    0.0401       636\n",
      "\n",
      "    accuracy                         0.3014     28405\n",
      "   macro avg     0.4972    0.4730    0.2455     28405\n",
      "weighted avg     0.9523    0.3014    0.4417     28405\n",
      "\n"
     ]
    }
   ],
   "source": [
    "ada.fit(x_train_us,y_train_us)\n",
    "y_pred = ada.predict(x_test)\n",
    "print(accuracy_score(y_test,y_pred))\n",
    "print(confusion_matrix(y_test,y_pred))\n",
    "print(classification_report(y_test,y_pred, digits=4))"
   ]
  },
  {
   "cell_type": "markdown",
   "id": "bf5535e4",
   "metadata": {},
   "source": [
    "## GB with US"
   ]
  },
  {
   "cell_type": "code",
   "execution_count": 78,
   "id": "c69977da",
   "metadata": {},
   "outputs": [
    {
     "name": "stdout",
     "output_type": "stream",
     "text": [
      "0.27410667136067596\n",
      "[[ 7352 20417]\n",
      " [  202   434]]\n",
      "              precision    recall  f1-score   support\n",
      "\n",
      "           0     0.9733    0.2648    0.4163     27769\n",
      "           1     0.0208    0.6824    0.0404       636\n",
      "\n",
      "    accuracy                         0.2741     28405\n",
      "   macro avg     0.4970    0.4736    0.2283     28405\n",
      "weighted avg     0.9519    0.2741    0.4079     28405\n",
      "\n"
     ]
    }
   ],
   "source": [
    "gb.fit(x_train_us,y_train_us)\n",
    "y_pred = gb.predict(x_test)\n",
    "print(accuracy_score(y_test,y_pred))\n",
    "print(confusion_matrix(y_test,y_pred))\n",
    "print(classification_report(y_test,y_pred, digits=4))"
   ]
  },
  {
   "cell_type": "markdown",
   "id": "3b13dfd9",
   "metadata": {},
   "source": [
    "## XGB with US"
   ]
  },
  {
   "cell_type": "code",
   "execution_count": 79,
   "id": "6b74b729",
   "metadata": {},
   "outputs": [
    {
     "name": "stderr",
     "output_type": "stream",
     "text": [
      "/home/abhigyan/.local/lib/python3.8/site-packages/xgboost/sklearn.py:1224: UserWarning: The use of label encoder in XGBClassifier is deprecated and will be removed in a future release. To remove this warning, do the following: 1) Pass option use_label_encoder=False when constructing XGBClassifier object; and 2) Encode your labels (y) as integers starting with 0, i.e. 0, 1, 2, ..., [num_class - 1].\n",
      "  warnings.warn(label_encoder_deprecation_msg, UserWarning)\n",
      "/home/abhigyan/.local/lib/python3.8/site-packages/xgboost/data.py:262: FutureWarning: pandas.Int64Index is deprecated and will be removed from pandas in a future version. Use pandas.Index with the appropriate dtype instead.\n",
      "  elif isinstance(data.columns, (pd.Int64Index, pd.RangeIndex)):\n"
     ]
    },
    {
     "name": "stdout",
     "output_type": "stream",
     "text": [
      "[20:01:30] WARNING: ../src/learner.cc:1115: Starting in XGBoost 1.3.0, the default evaluation metric used with the objective 'binary:logistic' was changed from 'error' to 'logloss'. Explicitly set eval_metric if you'd like to restore the old behavior.\n",
      "0.2145396937158951\n",
      "[[ 5601 22168]\n",
      " [  143   493]]\n",
      "              precision    recall  f1-score   support\n",
      "\n",
      "           0     0.9751    0.2017    0.3343     27769\n",
      "           1     0.0218    0.7752    0.0423       636\n",
      "\n",
      "    accuracy                         0.2145     28405\n",
      "   macro avg     0.4984    0.4884    0.1883     28405\n",
      "weighted avg     0.9538    0.2145    0.3277     28405\n",
      "\n"
     ]
    }
   ],
   "source": [
    "from sklearn.metrics import accuracy_score,confusion_matrix,classification_report\n",
    "xgb.fit(x_train_us,y_train_us)\n",
    "y_pred = xgb.predict(x_test)\n",
    "print(accuracy_score(y_test,y_pred))\n",
    "print(confusion_matrix(y_test,y_pred))\n",
    "print(classification_report(y_test,y_pred, digits=4))"
   ]
  },
  {
   "cell_type": "markdown",
   "id": "5760f4f6",
   "metadata": {},
   "source": [
    "## Over Sampling"
   ]
  },
  {
   "cell_type": "code",
   "execution_count": 80,
   "id": "e4a761ba",
   "metadata": {},
   "outputs": [],
   "source": [
    "from imblearn.over_sampling import RandomOverSampler"
   ]
  },
  {
   "cell_type": "code",
   "execution_count": 81,
   "id": "c2b876d6",
   "metadata": {},
   "outputs": [
    {
     "name": "stdout",
     "output_type": "stream",
     "text": [
      "The samples before fit Counter({0: 64819, 1: 1458})\n",
      "The samples before fit Counter({0: 64819, 1: 48614})\n"
     ]
    }
   ],
   "source": [
    "os = RandomOverSampler(sampling_strategy=0.75)\n",
    "x_train_os,y_train_os = os.fit_resample(x_train,y_train)\n",
    "print(\"The samples before fit {}\".format(Counter(y_train)))\n",
    "print(\"The samples before fit {}\".format(Counter(y_train_os)))"
   ]
  },
  {
   "cell_type": "markdown",
   "id": "8e10e0d2",
   "metadata": {},
   "source": [
    "## Rf with OS"
   ]
  },
  {
   "cell_type": "code",
   "execution_count": 82,
   "id": "6b8ebc20",
   "metadata": {},
   "outputs": [
    {
     "name": "stdout",
     "output_type": "stream",
     "text": [
      "0.9749339904946313\n",
      "[[27663   106]\n",
      " [  606    30]]\n",
      "              precision    recall  f1-score   support\n",
      "\n",
      "           0     0.9786    0.9962    0.9873     27769\n",
      "           1     0.2206    0.0472    0.0777       636\n",
      "\n",
      "    accuracy                         0.9749     28405\n",
      "   macro avg     0.5996    0.5217    0.5325     28405\n",
      "weighted avg     0.9616    0.9749    0.9669     28405\n",
      "\n"
     ]
    }
   ],
   "source": [
    "rf.fit(x_train_os,y_train_os)\n",
    "y_pred = rf.predict(x_test)\n",
    "print(accuracy_score(y_test,y_pred))\n",
    "print(confusion_matrix(y_test,y_pred))\n",
    "print(classification_report(y_test,y_pred, digits=4))"
   ]
  },
  {
   "cell_type": "markdown",
   "id": "68d516e1",
   "metadata": {},
   "source": [
    "## Ada with OS"
   ]
  },
  {
   "cell_type": "code",
   "execution_count": 83,
   "id": "977e1d13",
   "metadata": {},
   "outputs": [
    {
     "name": "stdout",
     "output_type": "stream",
     "text": [
      "0.9520154902305932\n",
      "[[27011   758]\n",
      " [  605    31]]\n",
      "              precision    recall  f1-score   support\n",
      "\n",
      "           0     0.9781    0.9727    0.9754     27769\n",
      "           1     0.0393    0.0487    0.0435       636\n",
      "\n",
      "    accuracy                         0.9520     28405\n",
      "   macro avg     0.5087    0.5107    0.5094     28405\n",
      "weighted avg     0.9571    0.9520    0.9545     28405\n",
      "\n"
     ]
    }
   ],
   "source": [
    "ada.fit(x_train_os,y_train_os)\n",
    "y_pred = ada.predict(x_test)\n",
    "print(accuracy_score(y_test,y_pred))\n",
    "print(confusion_matrix(y_test,y_pred))\n",
    "print(classification_report(y_test,y_pred, digits=4))"
   ]
  },
  {
   "cell_type": "markdown",
   "id": "514f92b3",
   "metadata": {},
   "source": [
    "## Gb with OS"
   ]
  },
  {
   "cell_type": "code",
   "execution_count": 84,
   "id": "273d0095",
   "metadata": {
    "scrolled": true
   },
   "outputs": [
    {
     "name": "stdout",
     "output_type": "stream",
     "text": [
      "0.9563457137827848\n",
      "[[27124   645]\n",
      " [  595    41]]\n",
      "              precision    recall  f1-score   support\n",
      "\n",
      "           0     0.9785    0.9768    0.9777     27769\n",
      "           1     0.0598    0.0645    0.0620       636\n",
      "\n",
      "    accuracy                         0.9563     28405\n",
      "   macro avg     0.5192    0.5206    0.5198     28405\n",
      "weighted avg     0.9580    0.9563    0.9572     28405\n",
      "\n"
     ]
    }
   ],
   "source": [
    "gb.fit(x_train_os,y_train_os)\n",
    "y_pred = gb.predict(x_test)\n",
    "print(accuracy_score(y_test,y_pred))\n",
    "print(confusion_matrix(y_test,y_pred))\n",
    "print(classification_report(y_test,y_pred, digits=4))"
   ]
  },
  {
   "cell_type": "markdown",
   "id": "0ae74c7d",
   "metadata": {},
   "source": [
    "## XG boost with OS"
   ]
  },
  {
   "cell_type": "code",
   "execution_count": 85,
   "id": "9a023c02",
   "metadata": {},
   "outputs": [
    {
     "name": "stderr",
     "output_type": "stream",
     "text": [
      "/home/abhigyan/.local/lib/python3.8/site-packages/xgboost/sklearn.py:1224: UserWarning: The use of label encoder in XGBClassifier is deprecated and will be removed in a future release. To remove this warning, do the following: 1) Pass option use_label_encoder=False when constructing XGBClassifier object; and 2) Encode your labels (y) as integers starting with 0, i.e. 0, 1, 2, ..., [num_class - 1].\n",
      "  warnings.warn(label_encoder_deprecation_msg, UserWarning)\n",
      "/home/abhigyan/.local/lib/python3.8/site-packages/xgboost/data.py:262: FutureWarning: pandas.Int64Index is deprecated and will be removed from pandas in a future version. Use pandas.Index with the appropriate dtype instead.\n",
      "  elif isinstance(data.columns, (pd.Int64Index, pd.RangeIndex)):\n"
     ]
    },
    {
     "name": "stdout",
     "output_type": "stream",
     "text": [
      "[20:02:38] WARNING: ../src/learner.cc:1115: Starting in XGBoost 1.3.0, the default evaluation metric used with the objective 'binary:logistic' was changed from 'error' to 'logloss'. Explicitly set eval_metric if you'd like to restore the old behavior.\n",
      "0.9004048582995952\n",
      "[[25473  2296]\n",
      " [  533   103]]\n",
      "              precision    recall  f1-score   support\n",
      "\n",
      "           0     0.9795    0.9173    0.9474     27769\n",
      "           1     0.0429    0.1619    0.0679       636\n",
      "\n",
      "    accuracy                         0.9004     28405\n",
      "   macro avg     0.5112    0.5396    0.5076     28405\n",
      "weighted avg     0.9585    0.9004    0.9277     28405\n",
      "\n"
     ]
    }
   ],
   "source": [
    "from sklearn.metrics import accuracy_score,confusion_matrix,classification_report\n",
    "xgb.fit(x_train_os,y_train_os)\n",
    "y_pred = xgb.predict(x_test)\n",
    "print(accuracy_score(y_test,y_pred))\n",
    "print(confusion_matrix(y_test,y_pred))\n",
    "print(classification_report(y_test,y_pred, digits=4))"
   ]
  },
  {
   "cell_type": "markdown",
   "id": "bd839d62",
   "metadata": {},
   "source": [
    "## SMOTETomek"
   ]
  },
  {
   "cell_type": "code",
   "execution_count": 86,
   "id": "314576f4",
   "metadata": {},
   "outputs": [],
   "source": [
    "from imblearn.combine import SMOTETomek"
   ]
  },
  {
   "cell_type": "code",
   "execution_count": 87,
   "id": "1d794ec4",
   "metadata": {},
   "outputs": [
    {
     "name": "stdout",
     "output_type": "stream",
     "text": [
      "The samples before fit Counter({0: 64819, 1: 1458})\n",
      "The samples before fit Counter({0: 64712, 1: 64712})\n"
     ]
    }
   ],
   "source": [
    "sm = SMOTETomek()\n",
    "x_train_sm,y_train_sm = sm.fit_resample(x_train,y_train)\n",
    "print(\"The samples before fit {}\".format(Counter(y_train)))\n",
    "print(\"The samples before fit {}\".format(Counter(y_train_sm)))"
   ]
  },
  {
   "cell_type": "code",
   "execution_count": 88,
   "id": "cebc2a35",
   "metadata": {},
   "outputs": [
    {
     "data": {
      "text/plain": [
       "Counter({0: 27769, 1: 636})"
      ]
     },
     "execution_count": 88,
     "metadata": {},
     "output_type": "execute_result"
    }
   ],
   "source": [
    "Counter(y_test)"
   ]
  },
  {
   "cell_type": "markdown",
   "id": "5ab9afe9",
   "metadata": {},
   "source": [
    "## Rf with SMOTETomek"
   ]
  },
  {
   "cell_type": "code",
   "execution_count": 89,
   "id": "3a629073",
   "metadata": {},
   "outputs": [
    {
     "name": "stdout",
     "output_type": "stream",
     "text": [
      "0.9386375638091885\n",
      "[[26620  1149]\n",
      " [  594    42]]\n",
      "              precision    recall  f1-score   support\n",
      "\n",
      "           0     0.9782    0.9586    0.9683     27769\n",
      "           1     0.0353    0.0660    0.0460       636\n",
      "\n",
      "    accuracy                         0.9386     28405\n",
      "   macro avg     0.5067    0.5123    0.5071     28405\n",
      "weighted avg     0.9571    0.9386    0.9476     28405\n",
      "\n"
     ]
    }
   ],
   "source": [
    "rf.fit(x_train_sm,y_train_sm)\n",
    "y_pred = rf.predict(x_test)\n",
    "print(accuracy_score(y_test,y_pred))\n",
    "print(confusion_matrix(y_test,y_pred))\n",
    "print(classification_report(y_test,y_pred, digits=4))"
   ]
  },
  {
   "cell_type": "markdown",
   "id": "7a1f9d20",
   "metadata": {},
   "source": [
    "## Ada with SMOTETomek"
   ]
  },
  {
   "cell_type": "code",
   "execution_count": 90,
   "id": "52180308",
   "metadata": {},
   "outputs": [
    {
     "name": "stdout",
     "output_type": "stream",
     "text": [
      "0.7255412779440239\n",
      "[[20413  7356]\n",
      " [  440   196]]\n",
      "              precision    recall  f1-score   support\n",
      "\n",
      "           0     0.9789    0.7351    0.8397     27769\n",
      "           1     0.0260    0.3082    0.0479       636\n",
      "\n",
      "    accuracy                         0.7255     28405\n",
      "   macro avg     0.5024    0.5216    0.4438     28405\n",
      "weighted avg     0.9576    0.7255    0.8219     28405\n",
      "\n"
     ]
    }
   ],
   "source": [
    "ada.fit(x_train_sm,y_train_sm)\n",
    "y_pred = ada.predict(x_test)\n",
    "print(accuracy_score(y_test,y_pred))\n",
    "print(confusion_matrix(y_test,y_pred))\n",
    "print(classification_report(y_test,y_pred, digits=4))"
   ]
  },
  {
   "cell_type": "markdown",
   "id": "2b4bfb4b",
   "metadata": {},
   "source": [
    "## Gb with SMOTETomek"
   ]
  },
  {
   "cell_type": "code",
   "execution_count": 91,
   "id": "9813769c",
   "metadata": {},
   "outputs": [
    {
     "name": "stdout",
     "output_type": "stream",
     "text": [
      "0.739940151381799\n",
      "[[20844  6925]\n",
      " [  462   174]]\n",
      "              precision    recall  f1-score   support\n",
      "\n",
      "           0     0.9783    0.7506    0.8495     27769\n",
      "           1     0.0245    0.2736    0.0450       636\n",
      "\n",
      "    accuracy                         0.7399     28405\n",
      "   macro avg     0.5014    0.5121    0.4472     28405\n",
      "weighted avg     0.9570    0.7399    0.8315     28405\n",
      "\n"
     ]
    }
   ],
   "source": [
    "gb.fit(x_train_sm,y_train_sm)\n",
    "y_pred = gb.predict(x_test)\n",
    "print(accuracy_score(y_test,y_pred))\n",
    "print(confusion_matrix(y_test,y_pred))\n",
    "print(classification_report(y_test,y_pred, digits=4))"
   ]
  },
  {
   "cell_type": "markdown",
   "id": "ac521538",
   "metadata": {},
   "source": [
    "## XGB with SMOTETomek"
   ]
  },
  {
   "cell_type": "code",
   "execution_count": 92,
   "id": "28d04f18",
   "metadata": {},
   "outputs": [
    {
     "name": "stderr",
     "output_type": "stream",
     "text": [
      "/home/abhigyan/.local/lib/python3.8/site-packages/xgboost/sklearn.py:1224: UserWarning: The use of label encoder in XGBClassifier is deprecated and will be removed in a future release. To remove this warning, do the following: 1) Pass option use_label_encoder=False when constructing XGBClassifier object; and 2) Encode your labels (y) as integers starting with 0, i.e. 0, 1, 2, ..., [num_class - 1].\n",
      "  warnings.warn(label_encoder_deprecation_msg, UserWarning)\n",
      "/home/abhigyan/.local/lib/python3.8/site-packages/xgboost/data.py:262: FutureWarning: pandas.Int64Index is deprecated and will be removed from pandas in a future version. Use pandas.Index with the appropriate dtype instead.\n",
      "  elif isinstance(data.columns, (pd.Int64Index, pd.RangeIndex)):\n"
     ]
    },
    {
     "name": "stdout",
     "output_type": "stream",
     "text": [
      "[20:11:16] WARNING: ../src/learner.cc:1115: Starting in XGBoost 1.3.0, the default evaluation metric used with the objective 'binary:logistic' was changed from 'error' to 'logloss'. Explicitly set eval_metric if you'd like to restore the old behavior.\n",
      "0.8302763597958106\n",
      "[[23465  4304]\n",
      " [  517   119]]\n",
      "              precision    recall  f1-score   support\n",
      "\n",
      "           0     0.9784    0.8450    0.9068     27769\n",
      "           1     0.0269    0.1871    0.0470       636\n",
      "\n",
      "    accuracy                         0.8303     28405\n",
      "   macro avg     0.5027    0.5161    0.4769     28405\n",
      "weighted avg     0.9571    0.8303    0.8876     28405\n",
      "\n"
     ]
    }
   ],
   "source": [
    "from sklearn.metrics import accuracy_score,confusion_matrix,classification_report\n",
    "xgb.fit(x_train_sm,y_train_sm)\n",
    "y_pred = xgb.predict(x_test)\n",
    "print(accuracy_score(y_test,y_pred))\n",
    "print(confusion_matrix(y_test,y_pred))\n",
    "print(classification_report(y_test,y_pred, digits=4))"
   ]
  }
 ],
 "metadata": {
  "kernelspec": {
   "display_name": "Python 3 (ipykernel)",
   "language": "python",
   "name": "python3"
  },
  "language_info": {
   "codemirror_mode": {
    "name": "ipython",
    "version": 3
   },
   "file_extension": ".py",
   "mimetype": "text/x-python",
   "name": "python",
   "nbconvert_exporter": "python",
   "pygments_lexer": "ipython3",
   "version": "3.8.10"
  }
 },
 "nbformat": 4,
 "nbformat_minor": 5
}
